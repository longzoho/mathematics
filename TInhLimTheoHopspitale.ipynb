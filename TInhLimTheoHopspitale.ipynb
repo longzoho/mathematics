{
 "cells": [
  {
   "cell_type": "code",
   "id": "initial_id",
   "metadata": {
    "collapsed": true,
    "ExecuteTime": {
     "end_time": "2024-05-12T03:50:07.971908Z",
     "start_time": "2024-05-12T03:50:07.965601Z"
    }
   },
   "source": [
    "from IPython.display import display, Math\n",
    "from sympy import Matrix, latex, symbols, Derivative, solve, limit, integrate, sqrt, expand, factor, oo, root, Rational, \\\n",
    "    ln, expand_log, together, apart, trigsimp, sin, cos, tan, cot, sec, csc, simplify, exp, E, diff, tan, Limit\n",
    "# solve: giải phương trình\n",
    "# Derivative: đạo hàm\n",
    "# Matrix: ma trận\n",
    "# latex: hiển thị công thức toán học\n",
    "# display: hiển thị kết quả\n",
    "# symbols: khai báo biến\n",
    "# limit: giới hạn\n",
    "# integrate: tích phân\n",
    "# expand: triển khai (phân phối)\n",
    "# factor: phân tích (kết hợp)\n",
    "# oo: vô cùng\n",
    "# together: tổng hợp\n",
    "# integrate: tích phân\n",
    "# diff: đạo hàm\n",
    "# root: căn \n",
    "# e: E\n",
    "# f.subs(x, 0): thay x = 0 vào f"
   ],
   "outputs": [],
   "execution_count": 39
  },
  {
   "metadata": {
    "ExecuteTime": {
     "end_time": "2024-05-12T03:53:54.910583Z",
     "start_time": "2024-05-12T03:53:54.888814Z"
    }
   },
   "cell_type": "code",
   "source": [
    "x = symbols('x')\n",
    "_to = 0\n",
    "f = (E ** (10 * x ** 2) - cos(4 * x)) / ln(cos(x))\n",
    "L = Limit(f, x, _to)\n",
    "t, m = f.as_numer_denom()\n",
    "s = r'''\\textrm{Tính L = } %s \\\\''' % latex(L)\n",
    "while (t.subs(x, _to) == 0 and m.subs(x, _to) == 0):\n",
    "    t_diff = Derivative(t, x)\n",
    "    m_diff = Derivative(m, x)\n",
    "    f = t_diff.doit() / m_diff.doit()\n",
    "    t, m = f.as_numer_denom()\n",
    "    L = Limit(f, x, _to)\n",
    "    s += r'''\\textrm{Phương trình có dạng vô định 0/0. Áp dụng công thức L'Hopital} \\\\\n",
    "    L = %s \\\\= \\lim_{x \\to %s} \\frac{%s}{%s}\\\\\n",
    "    =\\lim_{x \\to %s} \\frac {%s}{%s}\\\\= %s \\\\\n",
    "    ''' % (latex(L), _to, latex(t_diff), latex(m_diff), _to, latex(t_diff.doit()), latex(m_diff.doit()), latex(L))\n",
    "s += r'''= %s''' % L.doit()\n",
    "s = r'''\\begin{aligned}\n",
    "%s\n",
    "\\end{aligned}''' % s\n",
    "display(Math(s))"
   ],
   "id": "1ce1b2fe88af50d6",
   "outputs": [
    {
     "data": {
      "text/plain": [
       "<IPython.core.display.Math object>"
      ],
      "text/latex": "$\\displaystyle \\begin{aligned}\n\\textrm{Tính L = } \\lim_{x \\to 0^+}\\left(\\frac{e^{10 x^{2}} - \\cos{\\left(4 x \\right)}}{\\log{\\left(\\cos{\\left(x \\right)} \\right)}}\\right) \\\\\\textrm{Phương trình có dạng vô định 0/0. Áp dụng công thức L'Hopital} \\\\\n    L = \\lim_{x \\to 0^+}\\left(- \\frac{\\left(20 x e^{10 x^{2}} + 4 \\sin{\\left(4 x \\right)}\\right) \\cos{\\left(x \\right)}}{\\sin{\\left(x \\right)}}\\right) \\\\= \\lim_{x \\to 0} \\frac{\\frac{d}{d x} \\left(e^{10 x^{2}} - \\cos{\\left(4 x \\right)}\\right)}{\\frac{d}{d x} \\log{\\left(\\cos{\\left(x \\right)} \\right)}}\\\\\n    =\\lim_{x \\to 0} \\frac {20 x e^{10 x^{2}} + 4 \\sin{\\left(4 x \\right)}}{- \\frac{\\sin{\\left(x \\right)}}{\\cos{\\left(x \\right)}}}\\\\= \\lim_{x \\to 0^+}\\left(- \\frac{\\left(20 x e^{10 x^{2}} + 4 \\sin{\\left(4 x \\right)}\\right) \\cos{\\left(x \\right)}}{\\sin{\\left(x \\right)}}\\right) \\\\\n    \\textrm{Phương trình có dạng vô định 0/0. Áp dụng công thức L'Hopital} \\\\\n    L = \\lim_{x \\to 0^+}\\left(\\frac{\\left(20 x e^{10 x^{2}} + 4 \\sin{\\left(4 x \\right)}\\right) \\sin{\\left(x \\right)} - \\left(400 x^{2} e^{10 x^{2}} + 20 e^{10 x^{2}} + 16 \\cos{\\left(4 x \\right)}\\right) \\cos{\\left(x \\right)}}{\\cos{\\left(x \\right)}}\\right) \\\\= \\lim_{x \\to 0} \\frac{\\frac{d}{d x} \\left(- \\left(20 x e^{10 x^{2}} + 4 \\sin{\\left(4 x \\right)}\\right) \\cos{\\left(x \\right)}\\right)}{\\frac{d}{d x} \\sin{\\left(x \\right)}}\\\\\n    =\\lim_{x \\to 0} \\frac {\\left(20 x e^{10 x^{2}} + 4 \\sin{\\left(4 x \\right)}\\right) \\sin{\\left(x \\right)} - \\left(400 x^{2} e^{10 x^{2}} + 20 e^{10 x^{2}} + 16 \\cos{\\left(4 x \\right)}\\right) \\cos{\\left(x \\right)}}{\\cos{\\left(x \\right)}}\\\\= \\lim_{x \\to 0^+}\\left(\\frac{\\left(20 x e^{10 x^{2}} + 4 \\sin{\\left(4 x \\right)}\\right) \\sin{\\left(x \\right)} - \\left(400 x^{2} e^{10 x^{2}} + 20 e^{10 x^{2}} + 16 \\cos{\\left(4 x \\right)}\\right) \\cos{\\left(x \\right)}}{\\cos{\\left(x \\right)}}\\right) \\\\\n    = -36\n\\end{aligned}$"
     },
     "metadata": {},
     "output_type": "display_data"
    }
   ],
   "execution_count": 44
  },
  {
   "metadata": {
    "ExecuteTime": {
     "end_time": "2024-05-12T03:50:08.010269Z",
     "start_time": "2024-05-12T03:50:08.008410Z"
    }
   },
   "cell_type": "code",
   "source": "",
   "id": "fc614e8a976b8330",
   "outputs": [],
   "execution_count": 40
  }
 ],
 "metadata": {
  "kernelspec": {
   "display_name": "Python 3",
   "language": "python",
   "name": "python3"
  },
  "language_info": {
   "codemirror_mode": {
    "name": "ipython",
    "version": 2
   },
   "file_extension": ".py",
   "mimetype": "text/x-python",
   "name": "python",
   "nbconvert_exporter": "python",
   "pygments_lexer": "ipython2",
   "version": "2.7.6"
  }
 },
 "nbformat": 4,
 "nbformat_minor": 5
}
