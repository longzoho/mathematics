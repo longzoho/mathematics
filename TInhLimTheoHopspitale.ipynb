{
 "cells": [
  {
   "cell_type": "code",
   "id": "initial_id",
   "metadata": {
    "ExecuteTime": {
     "end_time": "2024-05-12T07:20:01.898361Z",
     "start_time": "2024-05-12T07:20:01.895299Z"
    }
   },
   "source": [
    "from IPython.display import display, Math\n",
    "from sympy import Matrix, latex, symbols, Derivative, solve, limit, integrate, sqrt, expand, factor, oo, root, Rational, \\\n",
    "    ln, expand_log, together, apart, trigsimp, sin, cos, tan, cot, sec, csc, simplify, exp, E, diff, tan, Limit\n",
    "# solve: giải phương trình\n",
    "# Derivative: đạo hàm\n",
    "# Matrix: ma trận\n",
    "# latex: hiển thị công thức toán học\n",
    "# display: hiển thị kết quả\n",
    "# symbols: khai báo biến\n",
    "# limit: giới hạn\n",
    "# integrate: tích phân\n",
    "# expand: triển khai (phân phối)\n",
    "# factor: phân tích (kết hợp)\n",
    "# oo: vô cùng\n",
    "# together: tổng hợp\n",
    "# integrate: tích phân\n",
    "# diff: đạo hàm\n",
    "# root: căn \n",
    "# e: E\n",
    "# f.subs(x, 0): thay x = 0 vào f"
   ],
   "outputs": [],
   "execution_count": 57
  },
  {
   "cell_type": "code",
   "id": "8e9f6fdb842529c6",
   "metadata": {
    "ExecuteTime": {
     "end_time": "2024-05-12T07:20:01.901714Z",
     "start_time": "2024-05-12T07:20:01.899366Z"
    }
   },
   "source": [
    "def can_apply_hopital(f, x, to):\n",
    "    t, m = f.as_numer_denom()\n",
    "    return (t.subs(x, to) == 0 and m.subs(x, to) == 0) or (limit(t, x, to) == oo and limit(m, x, to) == oo)"
   ],
   "outputs": [],
   "execution_count": 58
  },
  {
   "cell_type": "code",
   "id": "35e9fddf87ef2da4",
   "metadata": {
    "ExecuteTime": {
     "end_time": "2024-05-12T07:20:01.905027Z",
     "start_time": "2024-05-12T07:20:01.902334Z"
    }
   },
   "source": [
    "def limit_hopital(f, x, to):\n",
    "    L = Limit(f, x, to)\n",
    "    t, m = f.as_numer_denom()\n",
    "    s = []\n",
    "    while can_apply_hopital(f, x, to):\n",
    "        t_diff = Derivative(t, x)\n",
    "        m_diff = Derivative(m, x)\n",
    "        f = t_diff.doit() / m_diff.doit()\n",
    "        t, m = f.as_numer_denom()\n",
    "        s += [r'''\\textrm{Phương trình có dạng vô định 0/0. Áp dụng công thức L'Hopital}''']\n",
    "        s += [r'''L = \\lim_{x \\to %s} \\frac{%s}{%s}''' % (to, latex(t_diff), latex(m_diff))]\n",
    "        L = Limit(f, x, to)\n",
    "        s += [\n",
    "            r'''=\\lim_{x \\to %s} \\frac {%s}{%s}\\\\= %s ''' % (to, latex(t_diff.doit()), latex(m_diff.doit()), latex(L))]\n",
    "    s += [r'''= %s''' % L.doit()]\n",
    "    return s"
   ],
   "outputs": [],
   "execution_count": 59
  },
  {
   "cell_type": "code",
   "id": "da0643a0f2a797d0",
   "metadata": {
    "ExecuteTime": {
     "end_time": "2024-05-12T07:20:01.913650Z",
     "start_time": "2024-05-12T07:20:01.905858Z"
    }
   },
   "source": [
    "x = symbols('x')\n",
    "_to = 1\n",
    "f = (root(x,3)-root(x, 2))/(x-1)\n",
    "s = limit_hopital(f, x, _to)\n",
    "\n",
    "display(Math(latex(Limit(f, x, _to))))\n",
    "for _s in s:\n",
    "    display(Math(_s))"
   ],
   "outputs": [
    {
     "data": {
      "text/plain": [
       "<IPython.core.display.Math object>"
      ],
      "text/latex": "$\\displaystyle \\lim_{x \\to 1^+}\\left(\\frac{\\sqrt[3]{x} - \\sqrt{x}}{x - 1}\\right)$"
     },
     "metadata": {},
     "output_type": "display_data"
    },
    {
     "data": {
      "text/plain": [
       "<IPython.core.display.Math object>"
      ],
      "text/latex": "$\\displaystyle \\textrm{Phương trình có dạng vô định 0/0. Áp dụng công thức L'Hopital}$"
     },
     "metadata": {},
     "output_type": "display_data"
    },
    {
     "data": {
      "text/plain": [
       "<IPython.core.display.Math object>"
      ],
      "text/latex": "$\\displaystyle L = \\lim_{x \\to 1} \\frac{\\frac{d}{d x} \\left(\\sqrt[3]{x} - \\sqrt{x}\\right)}{\\frac{d}{d x} \\left(x - 1\\right)}$"
     },
     "metadata": {},
     "output_type": "display_data"
    },
    {
     "data": {
      "text/plain": [
       "<IPython.core.display.Math object>"
      ],
      "text/latex": "$\\displaystyle =\\lim_{x \\to 1} \\frac {- \\frac{1}{2 \\sqrt{x}} + \\frac{1}{3 x^{\\frac{2}{3}}}}{1}\\\\= \\lim_{x \\to 1^+}\\left(- \\frac{1}{2 \\sqrt{x}} + \\frac{1}{3 x^{\\frac{2}{3}}}\\right) $"
     },
     "metadata": {},
     "output_type": "display_data"
    },
    {
     "data": {
      "text/plain": [
       "<IPython.core.display.Math object>"
      ],
      "text/latex": "$\\displaystyle = -1/6$"
     },
     "metadata": {},
     "output_type": "display_data"
    }
   ],
   "execution_count": 60
  },
  {
   "cell_type": "code",
   "id": "89a292d7-e85d-4edd-831d-f6dc6cc443ff",
   "metadata": {
    "ExecuteTime": {
     "end_time": "2024-05-12T07:20:01.916049Z",
     "start_time": "2024-05-12T07:20:01.914323Z"
    }
   },
   "source": [],
   "outputs": [],
   "execution_count": 60
  }
 ],
 "metadata": {
  "kernelspec": {
   "display_name": "Python 3 (ipykernel)",
   "language": "python",
   "name": "python3"
  },
  "language_info": {
   "codemirror_mode": {
    "name": "ipython",
    "version": 3
   },
   "file_extension": ".py",
   "mimetype": "text/x-python",
   "name": "python",
   "nbconvert_exporter": "python",
   "pygments_lexer": "ipython3",
   "version": "3.10.12"
  }
 },
 "nbformat": 4,
 "nbformat_minor": 5
}
