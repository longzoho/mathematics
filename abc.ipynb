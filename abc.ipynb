{
 "cells": [
  {
   "cell_type": "code",
   "id": "initial_id",
   "metadata": {
    "collapsed": true,
    "ExecuteTime": {
     "end_time": "2024-05-12T09:28:28.293268Z",
     "start_time": "2024-05-12T09:28:28.286564Z"
    }
   },
   "source": [
    "from IPython.display import display, Math\n",
    "from sympy import Matrix, latex, symbols, Derivative, solve, limit, integrate, sqrt, expand, factor, oo, root, Rational, \\\n",
    "    ln, expand_log, together, apart, trigsimp, sin, cos, tan, cot, sec, csc, simplify, exp, E, diff, tan, Integral, \\\n",
    "    Limit, Sum, factorial, Abs, print_latex, Ge, solve_univariate_inequality, And, Eq\n",
    "from sympy.plotting import plot3d, plot, plot_implicit\n",
    "# solve: giải phương trình\n",
    "# Derivative: đạo hàm\n",
    "# Matrix: ma trận\n",
    "# latex: hiển thị công thức toán học\n",
    "# display: hiển thị kết quả\n",
    "# symbols: khai báo biến\n",
    "# limit: giới hạn\n",
    "# integrate: tích phân\n",
    "# expand: triển khai (phân phối)\n",
    "# factor: phân tích (kết hợp)\n",
    "# oo: vô cùng\n",
    "# together: tổng hợp\n",
    "# integrate: tích phân\n",
    "# diff: đạo hàm\n",
    "# root: căn \n",
    "# e: E\n",
    "# f.subs(x, 0): thay x = 0 vào f\n",
    "# ##.function: hàm số (của đạo hàm hoặc tích phân)\n",
    "# trigsimp: rút gọn biểu thức trigonometric\n",
    "# factorial: giai thừa"
   ],
   "outputs": [],
   "execution_count": 33
  },
  {
   "metadata": {
    "ExecuteTime": {
     "end_time": "2024-05-12T09:33:00.928903Z",
     "start_time": "2024-05-12T09:33:00.656048Z"
    }
   },
   "cell_type": "code",
   "source": [
    "x, y = symbols('x y')\n",
    "region_condition = x ** 2 + y ** 2 == 4\n",
    "region_condition_2 = Eq(y, -x)\n",
    "region_condition_3 = Eq(y, 0)\n",
    "regions = And(x ** 2 + y ** 2 <= 4, y >= -x , y >=0)\n",
    "plot_implicit(regions, (x, -5, 5), (y, -5, 5))\n",
    "# Solve the boundary conditions for x\n",
    "boundary_1 = solve(region_condition, x)\n",
    "boundary_2 = solve(region_condition_2, x)\n",
    "boundary_3 = solve(region_condition_3, x)\n",
    "\n",
    "# Find the minimum x value\n",
    "min_x = min(boundary_1 + boundary_2 + boundary_3)\n",
    "\n",
    "print(f\"The minimum x of the region is {min_x}\")"
   ],
   "id": "4ae45fe8514c7940",
   "outputs": [
    {
     "data": {
      "text/plain": [
       "<Figure size 640x480 with 1 Axes>"
      ],
      "image/png": "[encoded data removed]"
     },
     "metadata": {},
     "output_type": "display_data"
    },
    {
     "name": "stdout",
     "output_type": "stream",
     "text": [
      "The minimum x of the region is -y\n"
     ]
    }
   ],
   "execution_count": 40
  },
  {
   "metadata": {},
   "cell_type": "code",
   "source": "",
   "id": "6c0e4d0b7f2dea08",
   "outputs": [],
   "execution_count": null
  }
 ],
 "metadata": {
  "kernelspec": {
   "display_name": "Python 3",
   "language": "python",
   "name": "python3"
  },
  "language_info": {
   "codemirror_mode": {
    "name": "ipython",
    "version": 2
   },
   "file_extension": ".py",
   "mimetype": "text/x-python",
   "name": "python",
   "nbconvert_exporter": "python",
   "pygments_lexer": "ipython2",
   "version": "2.7.6"
  }
 },
 "nbformat": 4,
 "nbformat_minor": 5
}
