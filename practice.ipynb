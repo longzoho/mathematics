{
 "cells": [
  {
   "cell_type": "code",
   "id": "initial_id",
   "metadata": {
    "collapsed": true,
    "ExecuteTime": {
     "end_time": "2024-04-30T05:54:58.665378Z",
     "start_time": "2024-04-30T05:54:58.352030Z"
    }
   },
   "source": [
    "from IPython.display import display, Math\n",
    "from sympy import Matrix, latex, symbols, Derivative, solve, limit, integrate, sqrt, expand, factor, oo, root, Rational, \\\n",
    "    ln, expand_log, together, apart, trigsimp, sin, cos, tan, cot, sec, csc, simplify, exp, E, diff, tan\n",
    "# solve: giải phương trình\n",
    "# Derivative: đạo hàm\n",
    "# Matrix: ma trận\n",
    "# latex: hiển thị công thức toán học\n",
    "# display: hiển thị kết quả\n",
    "# symbols: khai báo biến\n",
    "# limit: giới hạn\n",
    "# integrate: tích phân\n",
    "# expand: triển khai (phân phối)\n",
    "# factor: phân tích (kết hợp)\n",
    "# oo: vô cùng\n",
    "# together: tổng hợp\n",
    "# integrate: tích phân\n",
    "# diff: đạo hàm"
   ],
   "outputs": [],
   "execution_count": 1
  },
  {
   "metadata": {
    "ExecuteTime": {
     "end_time": "2024-04-30T06:01:52.280069Z",
     "start_time": "2024-04-30T06:01:52.277058Z"
    }
   },
   "cell_type": "code",
   "source": [
    "# Khai báo biến\n",
    "x, y, z = symbols('x y z')\n",
    "a, b, c = symbols('a b c')"
   ],
   "id": "b25c0d53034dd84f",
   "outputs": [],
   "execution_count": 2
  },
  {
   "metadata": {
    "ExecuteTime": {
     "end_time": "2024-04-30T06:02:19.878165Z",
     "start_time": "2024-04-30T06:02:19.873054Z"
    }
   },
   "cell_type": "code",
   "source": [
    "# Tính đạo hàm\n",
    "f = x**2 + 2*x + 1\n",
    "df = Derivative(f, x).doit()\n",
    "# Hiển thị kết quả\n",
    "display(Math(latex(df)))"
   ],
   "id": "1a0764f1ce6e7fd0",
   "outputs": [
    {
     "data": {
      "text/plain": [
       "<IPython.core.display.Math object>"
      ],
      "text/latex": "$\\displaystyle 2 x + 2$"
     },
     "metadata": {},
     "output_type": "display_data"
    }
   ],
   "execution_count": 4
  },
  {
   "metadata": {
    "ExecuteTime": {
     "end_time": "2024-04-30T06:02:36.070816Z",
     "start_time": "2024-04-30T06:02:36.062707Z"
    }
   },
   "cell_type": "code",
   "source": [
    "# Tính giới hạn\n",
    "f = x**2 + 2*x + 1\n",
    "lim = limit(f, x, 1)\n",
    "# Hiển thị kết quả\n",
    "display(Math(latex(lim)))"
   ],
   "id": "7534767b7023964a",
   "outputs": [
    {
     "data": {
      "text/plain": [
       "<IPython.core.display.Math object>"
      ],
      "text/latex": "$\\displaystyle 4$"
     },
     "metadata": {},
     "output_type": "display_data"
    }
   ],
   "execution_count": 5
  },
  {
   "metadata": {
    "ExecuteTime": {
     "end_time": "2024-04-30T06:02:47.571180Z",
     "start_time": "2024-04-30T06:02:47.545204Z"
    }
   },
   "cell_type": "code",
   "source": [
    "# Tính tích phân\n",
    "f = x**2 + 2*x + 1\n",
    "intg = integrate(f, x)\n",
    "# Hiển thị kết quả\n",
    "display(Math(latex(intg)))"
   ],
   "id": "8b65856887087cc3",
   "outputs": [
    {
     "data": {
      "text/plain": [
       "<IPython.core.display.Math object>"
      ],
      "text/latex": "$\\displaystyle \\frac{x^{3}}{3} + x^{2} + x$"
     },
     "metadata": {},
     "output_type": "display_data"
    }
   ],
   "execution_count": 6
  },
  {
   "metadata": {
    "ExecuteTime": {
     "end_time": "2024-04-30T06:03:01.174145Z",
     "start_time": "2024-04-30T06:03:01.155766Z"
    }
   },
   "cell_type": "code",
   "source": [
    "# Tính tích phân xác định\n",
    "f = x**2 + 2*x + 1\n",
    "intg = integrate(f, (x, 0, 1))\n",
    "# Hiển thị kết quả\n",
    "display(Math(latex(intg)))"
   ],
   "id": "a000dba87d099475",
   "outputs": [
    {
     "data": {
      "text/plain": [
       "<IPython.core.display.Math object>"
      ],
      "text/latex": "$\\displaystyle \\frac{7}{3}$"
     },
     "metadata": {},
     "output_type": "display_data"
    }
   ],
   "execution_count": 7
  },
  {
   "metadata": {
    "ExecuteTime": {
     "end_time": "2024-04-30T06:04:05.741038Z",
     "start_time": "2024-04-30T06:04:05.737608Z"
    }
   },
   "cell_type": "code",
   "source": [
    "# Biến đổi sơ cấp ma trận\n",
    "A = Matrix([[1, 2], [3, 4]])\n",
    "B = Matrix([[1, 0], [0, 1]])\n",
    "C = A + B\n",
    "# Hiển thị kết quả\n",
    "display(Math(latex(C)))"
   ],
   "id": "6898b03ada65dfed",
   "outputs": [
    {
     "data": {
      "text/plain": [
       "<IPython.core.display.Math object>"
      ],
      "text/latex": "$\\displaystyle \\left[\\begin{matrix}2 & 2\\\\3 & 5\\end{matrix}\\right]$"
     },
     "metadata": {},
     "output_type": "display_data"
    }
   ],
   "execution_count": 8
  },
  {
   "metadata": {},
   "cell_type": "code",
   "outputs": [],
   "execution_count": null,
   "source": "",
   "id": "79eacfa218bc4254"
  }
 ],
 "metadata": {
  "kernelspec": {
   "display_name": "Python 3",
   "language": "python",
   "name": "python3"
  },
  "language_info": {
   "codemirror_mode": {
    "name": "ipython",
    "version": 2
   },
   "file_extension": ".py",
   "mimetype": "text/x-python",
   "name": "python",
   "nbconvert_exporter": "python",
   "pygments_lexer": "ipython2",
   "version": "2.7.6"
  }
 },
 "nbformat": 4,
 "nbformat_minor": 5
}
