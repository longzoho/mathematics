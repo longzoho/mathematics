{
 "cells": [
  {
   "cell_type": "code",
   "id": "initial_id",
   "metadata": {
    "collapsed": true,
    "ExecuteTime": {
     "end_time": "2024-04-30T07:21:53.574858Z",
     "start_time": "2024-04-30T07:21:53.253798Z"
    }
   },
   "source": [
    "from IPython.display import display, Math\n",
    "from sympy import Matrix, latex, symbols, Derivative, solve, limit, integrate, sqrt, expand, factor, oo, root, Rational, \\\n",
    "    ln, expand_log, together, apart, trigsimp, sin, cos, tan, cot, sec, csc, simplify, exp, E, diff, tan\n",
    "# solve: giải phương trình\n",
    "# Derivative: đạo hàm\n",
    "# Matrix: ma trận\n",
    "# latex: hiển thị công thức toán học\n",
    "# display: hiển thị kết quả\n",
    "# symbols: khai báo biến\n",
    "# limit: giới hạn\n",
    "# integrate: tích phân\n",
    "# expand: triển khai (phân phối)\n",
    "# factor: phân tích (kết hợp)\n",
    "# oo: vô cùng\n",
    "# together: tổng hợp\n",
    "# integrate: tích phân\n",
    "# diff: đạo hàm"
   ],
   "outputs": [],
   "execution_count": 1
  },
  {
   "metadata": {
    "ExecuteTime": {
     "end_time": "2024-04-30T07:21:53.577896Z",
     "start_time": "2024-04-30T07:21:53.575863Z"
    }
   },
   "cell_type": "code",
   "source": [
    "# Khai báo biến\n",
    "x, y, z = symbols('x y z')\n",
    "a, b, c = symbols('a b c')"
   ],
   "id": "b25c0d53034dd84f",
   "outputs": [],
   "execution_count": 2
  },
  {
   "metadata": {
    "ExecuteTime": {
     "end_time": "2024-04-30T07:23:39.228560Z",
     "start_time": "2024-04-30T07:23:39.223960Z"
    }
   },
   "cell_type": "code",
   "source": [
    "# Tính đạo hàm\n",
    "f = x**2 + 2*x + 1 \n",
    "display(Math(latex(f)))\n",
    "df = Derivative(f, x).doit()\n",
    "# Hiển thị kết quả\n",
    "display(Math(latex(df)))"
   ],
   "id": "1a0764f1ce6e7fd0",
   "outputs": [
    {
     "data": {
      "text/plain": [
       "<IPython.core.display.Math object>"
      ],
      "text/latex": "$\\displaystyle x^{2} + 2 x + 1$"
     },
     "metadata": {},
     "output_type": "display_data"
    },
    {
     "data": {
      "text/plain": [
       "<IPython.core.display.Math object>"
      ],
      "text/latex": "$\\displaystyle 2 x + 2$"
     },
     "metadata": {},
     "output_type": "display_data"
    }
   ],
   "execution_count": 5
  },
  {
   "metadata": {
    "ExecuteTime": {
     "end_time": "2024-04-30T06:02:36.070816Z",
     "start_time": "2024-04-30T06:02:36.062707Z"
    }
   },
   "cell_type": "code",
   "source": [
    "# Tính giới hạn\n",
    "f = x**2 + 2*x + 1\n",
    "lim = limit(f, x, 1)\n",
    "# Hiển thị kết quả\n",
    "display(Math(latex(lim)))"
   ],
   "id": "7534767b7023964a",
   "outputs": [
    {
     "data": {
      "text/plain": [
       "<IPython.core.display.Math object>"
      ],
      "text/latex": "$\\displaystyle 4$"
     },
     "metadata": {},
     "output_type": "display_data"
    }
   ],
   "execution_count": 5
  },
  {
   "metadata": {
    "ExecuteTime": {
     "end_time": "2024-04-30T06:02:47.571180Z",
     "start_time": "2024-04-30T06:02:47.545204Z"
    }
   },
   "cell_type": "code",
   "source": [
    "# Tính tích phân\n",
    "f = x**2 + 2*x + 1\n",
    "intg = integrate(f, x)\n",
    "# Hiển thị kết quả\n",
    "display(Math(latex(intg)))"
   ],
   "id": "8b65856887087cc3",
   "outputs": [
    {
     "data": {
      "text/plain": [
       "<IPython.core.display.Math object>"
      ],
      "text/latex": "$\\displaystyle \\frac{x^{3}}{3} + x^{2} + x$"
     },
     "metadata": {},
     "output_type": "display_data"
    }
   ],
   "execution_count": 6
  },
  {
   "metadata": {
    "ExecuteTime": {
     "end_time": "2024-04-30T06:03:01.174145Z",
     "start_time": "2024-04-30T06:03:01.155766Z"
    }
   },
   "cell_type": "code",
   "source": [
    "# Tính tích phân xác định\n",
    "f = x**2 + 2*x + 1\n",
    "intg = integrate(f, (x, 0, 1))\n",
    "# Hiển thị kết quả\n",
    "display(Math(latex(intg)))"
   ],
   "id": "a000dba87d099475",
   "outputs": [
    {
     "data": {
      "text/plain": [
       "<IPython.core.display.Math object>"
      ],
      "text/latex": "$\\displaystyle \\frac{7}{3}$"
     },
     "metadata": {},
     "output_type": "display_data"
    }
   ],
   "execution_count": 7
  },
  {
   "metadata": {
    "ExecuteTime": {
     "end_time": "2024-04-30T06:04:05.741038Z",
     "start_time": "2024-04-30T06:04:05.737608Z"
    }
   },
   "cell_type": "code",
   "source": [
    "# Biến đổi sơ cấp ma trận\n",
    "A = Matrix([[1, 2], [3, 4]])\n",
    "B = Matrix([[1, 0], [0, 1]])\n",
    "C = A + B\n",
    "# Hiển thị kết quả\n",
    "display(Math(latex(C)))"
   ],
   "id": "6898b03ada65dfed",
   "outputs": [
    {
     "data": {
      "text/plain": [
       "<IPython.core.display.Math object>"
      ],
      "text/latex": "$\\displaystyle \\left[\\begin{matrix}2 & 2\\\\3 & 5\\end{matrix}\\right]$"
     },
     "metadata": {},
     "output_type": "display_data"
    }
   ],
   "execution_count": 8
  },
  {
   "metadata": {},
   "cell_type": "code",
   "outputs": [],
   "execution_count": null,
   "source": [
    "# Căn bậc 3 của x\n",
    "f = root(x, 3)"
   ],
   "id": "79eacfa218bc4254"
  },
  {
   "metadata": {
    "ExecuteTime": {
     "end_time": "2024-04-30T08:08:20.368504Z",
     "start_time": "2024-04-30T08:08:20.364537Z"
    }
   },
   "cell_type": "code",
   "source": [
    "# Ma trận ngẫu nhiên 4x4\n",
    "A = Matrix([[1, 2, 3, 4], [5, a, 7, b], [c**2, 10, a**3, 12], [13, 14, 15, 16]])\n",
    "display(Math(latex(A)))"
   ],
   "id": "2149b02415b2bceb",
   "outputs": [
    {
     "data": {
      "text/plain": [
       "<IPython.core.display.Math object>"
      ],
      "text/latex": "$\\displaystyle \\left[\\begin{matrix}1 & 2 & 3 & 4\\\\5 & a & 7 & b\\\\c^{2} & 10 & a^{3} & 12\\\\13 & 14 & 15 & 16\\end{matrix}\\right]$"
     },
     "metadata": {},
     "output_type": "display_data"
    }
   ],
   "execution_count": 20
  },
  {
   "metadata": {
    "ExecuteTime": {
     "end_time": "2024-04-30T08:08:20.909406Z",
     "start_time": "2024-04-30T08:08:20.895587Z"
    }
   },
   "cell_type": "code",
   "source": "display(Math(latex(A.normalized())))",
   "id": "3d14748cea348202",
   "outputs": [
    {
     "ename": "ShapeError",
     "evalue": "A Matrix must be a vector to normalize.",
     "output_type": "error",
     "traceback": [
      "\u001B[1;31m---------------------------------------------------------------------------\u001B[0m",
      "\u001B[1;31mShapeError\u001B[0m                                Traceback (most recent call last)",
      "Cell \u001B[1;32mIn[21], line 1\u001B[0m\n\u001B[1;32m----> 1\u001B[0m display(Math(latex(\u001B[43mA\u001B[49m\u001B[38;5;241;43m.\u001B[39;49m\u001B[43mnormalized\u001B[49m\u001B[43m(\u001B[49m\u001B[43m)\u001B[49m)))\n",
      "File \u001B[1;32m~\\Pycharm\\mathematics\\.venv\\Lib\\site-packages\\sympy\\matrices\\matrices.py:1848\u001B[0m, in \u001B[0;36mMatrixBase.normalized\u001B[1;34m(self, iszerofunc)\u001B[0m\n\u001B[0;32m   1818\u001B[0m \u001B[38;5;250m\u001B[39m\u001B[38;5;124;03m\"\"\"Return the normalized version of ``self``.\u001B[39;00m\n\u001B[0;32m   1819\u001B[0m \n\u001B[0;32m   1820\u001B[0m \u001B[38;5;124;03mParameters\u001B[39;00m\n\u001B[1;32m   (...)\u001B[0m\n\u001B[0;32m   1845\u001B[0m \u001B[38;5;124;03mnorm\u001B[39;00m\n\u001B[0;32m   1846\u001B[0m \u001B[38;5;124;03m\"\"\"\u001B[39;00m\n\u001B[0;32m   1847\u001B[0m \u001B[38;5;28;01mif\u001B[39;00m \u001B[38;5;28mself\u001B[39m\u001B[38;5;241m.\u001B[39mrows \u001B[38;5;241m!=\u001B[39m \u001B[38;5;241m1\u001B[39m \u001B[38;5;129;01mand\u001B[39;00m \u001B[38;5;28mself\u001B[39m\u001B[38;5;241m.\u001B[39mcols \u001B[38;5;241m!=\u001B[39m \u001B[38;5;241m1\u001B[39m:\n\u001B[1;32m-> 1848\u001B[0m     \u001B[38;5;28;01mraise\u001B[39;00m ShapeError(\u001B[38;5;124m\"\u001B[39m\u001B[38;5;124mA Matrix must be a vector to normalize.\u001B[39m\u001B[38;5;124m\"\u001B[39m)\n\u001B[0;32m   1849\u001B[0m norm \u001B[38;5;241m=\u001B[39m \u001B[38;5;28mself\u001B[39m\u001B[38;5;241m.\u001B[39mnorm()\n\u001B[0;32m   1850\u001B[0m \u001B[38;5;28;01mif\u001B[39;00m iszerofunc(norm):\n",
      "\u001B[1;31mShapeError\u001B[0m: A Matrix must be a vector to normalize."
     ]
    }
   ],
   "execution_count": 21
  },
  {
   "metadata": {
    "ExecuteTime": {
     "end_time": "2024-04-30T08:03:46.571897Z",
     "start_time": "2024-04-30T08:03:46.525263Z"
    }
   },
   "cell_type": "code",
   "source": "display(Math(latex(A.det())))",
   "id": "616c4bb14243290a",
   "outputs": [
    {
     "data": {
      "text/plain": [
       "<IPython.core.display.Math object>"
      ],
      "text/latex": "$\\displaystyle - 36 a^{4} + 12 a^{3} b + 120 a^{3} + 12 a c^{2} + 288 a + 12 b c^{2} - 240 b - 168 c^{2} + 192$"
     },
     "metadata": {},
     "output_type": "display_data"
    }
   ],
   "execution_count": 14
  },
  {
   "metadata": {
    "ExecuteTime": {
     "end_time": "2024-04-30T08:03:47.414047Z",
     "start_time": "2024-04-30T08:03:47.408910Z"
    }
   },
   "cell_type": "code",
   "source": [
    "TA=A.copy()\n",
    "A.row_op(2, lambda v, i: v - 9*TA[0, i])\n",
    "A.row_op(3, lambda v, i: 9*v - 13*TA[2, i])\n",
    "display(Math(latex(A)))"
   ],
   "id": "a4061a56f34b7724",
   "outputs": [
    {
     "data": {
      "text/plain": [
       "<IPython.core.display.Math object>"
      ],
      "text/latex": "$\\displaystyle \\left[\\begin{matrix}1 & 2 & 3 & 4\\\\5 & a & 7 & b\\\\c^{2} - 9 & -8 & a^{3} - 27 & -24\\\\117 - 13 c^{2} & -4 & 135 - 13 a^{3} & -12\\end{matrix}\\right]$"
     },
     "metadata": {},
     "output_type": "display_data"
    }
   ],
   "execution_count": 15
  },
  {
   "metadata": {
    "ExecuteTime": {
     "end_time": "2024-04-30T08:05:13.287375Z",
     "start_time": "2024-04-30T08:05:08.360244Z"
    }
   },
   "cell_type": "code",
   "source": [
    "B=A**-1\n",
    "display(Math(latex(B)))"
   ],
   "id": "ef039d7d7ca9976d",
   "outputs": [
    {
     "data": {
      "text/plain": [
       "<IPython.core.display.Math object>"
      ],
      "text/latex": "$\\displaystyle \\left[\\begin{matrix}\\frac{3 a^{4} - a^{3} b - 33 a + 11 b}{3 a^{4} - a^{3} b - 10 a^{3} - a c^{2} - 24 a - b c^{2} + 20 b + 14 c^{2} - 16} & \\frac{22 - 2 a^{3}}{3 a^{4} - a^{3} b - 10 a^{3} - a c^{2} - 24 a - b c^{2} + 20 b + 14 c^{2} - 16} & \\frac{26 a^{4} - 13 a^{3} b - 288 a + 141 b + 28}{162 a^{4} - 54 a^{3} b - 540 a^{3} - 54 a c^{2} - 1296 a - 54 b c^{2} + 1080 b + 756 c^{2} - 864} & \\frac{2 a^{4} - a^{3} b - 18 a + 15 b - 56}{162 a^{4} - 54 a^{3} b - 540 a^{3} - 54 a c^{2} - 1296 a - 54 b c^{2} + 1080 b + 756 c^{2} - 864}\\\\\\frac{- 15 a^{3} - 2 b c^{2} + 18 b + 21 c^{2} - 24}{3 a^{4} - a^{3} b - 10 a^{3} - a c^{2} - 24 a - b c^{2} + 20 b + 14 c^{2} - 16} & \\frac{3 a^{3} - c^{2} - 24}{3 a^{4} - a^{3} b - 10 a^{3} - a c^{2} - 24 a - b c^{2} + 20 b + 14 c^{2} - 16} & \\frac{13 a^{3} b - 260 a^{3} - 39 b c^{2} + 216 b + 364 c^{2} - 480}{324 a^{4} - 108 a^{3} b - 1080 a^{3} - 108 a c^{2} - 2592 a - 108 b c^{2} + 2160 b + 1512 c^{2} - 1728} & \\frac{a^{3} b - 20 a^{3} - 3 b c^{2} + 28 c^{2} + 96}{324 a^{4} - 108 a^{3} b - 1080 a^{3} - 108 a c^{2} - 2592 a - 108 b c^{2} + 2160 b + 1512 c^{2} - 1728}\\\\\\frac{- 3 a c^{2} + 27 a + b c^{2} - 9 b}{3 a^{4} - a^{3} b - 10 a^{3} - a c^{2} - 24 a - b c^{2} + 20 b + 14 c^{2} - 16} & \\frac{2 c^{2} - 18}{3 a^{4} - a^{3} b - 10 a^{3} - a c^{2} - 24 a - b c^{2} + 20 b + 14 c^{2} - 16} & \\frac{- 26 a c^{2} + 240 a + 13 b c^{2} - 119 b - 20}{162 a^{4} - 54 a^{3} b - 540 a^{3} - 54 a c^{2} - 1296 a - 54 b c^{2} + 1080 b + 756 c^{2} - 864} & \\frac{- 2 a c^{2} + 6 a + b c^{2} - 5 b + 40}{162 a^{4} - 54 a^{3} b - 540 a^{3} - 54 a c^{2} - 1296 a - 54 b c^{2} + 1080 b + 756 c^{2} - 864}\\\\\\frac{5 a^{3} + 2 a c^{2} - 18 a - 7 c^{2} + 8}{3 a^{4} - a^{3} b - 10 a^{3} - a c^{2} - 24 a - b c^{2} + 20 b + 14 c^{2} - 16} & \\frac{- a^{3} - c^{2} + 20}{3 a^{4} - a^{3} b - 10 a^{3} - a c^{2} - 24 a - b c^{2} + 20 b + 14 c^{2} - 16} & \\frac{- 13 a^{4} + 130 a^{3} + 39 a c^{2} - 216 a - 182 c^{2} + 256}{324 a^{4} - 108 a^{3} b - 1080 a^{3} - 108 a c^{2} - 2592 a - 108 b c^{2} + 2160 b + 1512 c^{2} - 1728} & \\frac{- a^{4} + 10 a^{3} + 3 a c^{2} - 14 c^{2} - 80}{324 a^{4} - 108 a^{3} b - 1080 a^{3} - 108 a c^{2} - 2592 a - 108 b c^{2} + 2160 b + 1512 c^{2} - 1728}\\end{matrix}\\right]$"
     },
     "metadata": {},
     "output_type": "display_data"
    }
   ],
   "execution_count": 17
  },
  {
   "metadata": {
    "ExecuteTime": {
     "end_time": "2024-04-30T08:10:10.208866Z",
     "start_time": "2024-04-30T08:10:10.204974Z"
    }
   },
   "cell_type": "code",
   "source": [
    "# Định nghĩa ma trận\n",
    "A = Matrix([[1, 2, 3], [-2, 0, 4]])\n",
    "\n",
    "# Tìm giá trị tuyệt đối lớn nhất\n",
    "max_abs_value = max(abs(x) for x in A)\n",
    "\n",
    "# Chuẩn hóa ma trận\n",
    "A_normalized = A / max_abs_value\n",
    "# Hiển thị kết quả\n",
    "display(Math(latex(A_normalized)))"
   ],
   "id": "803d008016080ebb",
   "outputs": [
    {
     "data": {
      "text/plain": [
       "<IPython.core.display.Math object>"
      ],
      "text/latex": "$\\displaystyle \\left[\\begin{matrix}\\frac{1}{4} & \\frac{1}{2} & \\frac{3}{4}\\\\- \\frac{1}{2} & 0 & 1\\end{matrix}\\right]$"
     },
     "metadata": {},
     "output_type": "display_data"
    }
   ],
   "execution_count": 24
  },
  {
   "metadata": {},
   "cell_type": "code",
   "outputs": [],
   "execution_count": null,
   "source": "",
   "id": "14cf926cfb58a035"
  }
 ],
 "metadata": {
  "kernelspec": {
   "display_name": "Python 3",
   "language": "python",
   "name": "python3"
  },
  "language_info": {
   "codemirror_mode": {
    "name": "ipython",
    "version": 2
   },
   "file_extension": ".py",
   "mimetype": "text/x-python",
   "name": "python",
   "nbconvert_exporter": "python",
   "pygments_lexer": "ipython2",
   "version": "2.7.6"
  }
 },
 "nbformat": 4,
 "nbformat_minor": 5
}
