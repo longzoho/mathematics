{
 "cells": [
  {
   "metadata": {
    "ExecuteTime": {
     "end_time": "2024-05-12T05:23:39.375653Z",
     "start_time": "2024-05-12T05:23:39.372985Z"
    }
   },
   "cell_type": "code",
   "source": [
    "from IPython.display import display, Math\n",
    "from sympy import Matrix, latex, symbols, Derivative, solve, limit, integrate, sqrt, expand, factor, oo, root, Rational, \\\n",
    "    ln, expand_log, together, apart, trigsimp, sin, cos, tan, cot, sec, csc, simplify, exp, E, diff, tan, Integral, \\\n",
    "    Limit, Sum, factorial, Abs, print_latex\n",
    "# solve: giải phương trình\n",
    "# Derivative: đạo hàm\n",
    "# Matrix: ma trận\n",
    "# latex: hiển thị công thức toán học\n",
    "# display: hiển thị kết quả\n",
    "# symbols: khai báo biến\n",
    "# limit: giới hạn\n",
    "# integrate: tích phân\n",
    "# expand: triển khai (phân phối)\n",
    "# factor: phân tích (kết hợp)\n",
    "# oo: vô cùng\n",
    "# together: tổng hợp\n",
    "# integrate: tích phân\n",
    "# diff: đạo hàm\n",
    "# root: căn \n",
    "# e: E\n",
    "# f.subs(x, 0): thay x = 0 vào f\n",
    "# ##.function: hàm số (của đạo hàm hoặc tích phân)\n",
    "# trigsimp: rút gọn biểu thức trigonometric\n",
    "# factorial: giai thừa"
   ],
   "id": "initial_id",
   "outputs": [],
   "execution_count": 45
  },
  {
   "cell_type": "markdown",
   "id": "84156a4b4b32d38d",
   "metadata": {},
   "source": [
    "\\usepackage{amsmath}"
   ]
  },
  {
   "cell_type": "code",
   "id": "352c0b97ab2c9b74",
   "metadata": {
    "ExecuteTime": {
     "end_time": "2024-05-12T05:23:39.392917Z",
     "start_time": "2024-05-12T05:23:39.389909Z"
    }
   },
   "source": [
    "def khao_sat_bang_tieu_chuan_phan_ky(f, n, _from, _to):\n",
    "    S = Sum(f, (n, _from, _to))\n",
    "    k = Limit(f, n, _to)\n",
    "    krs = k.doit()\n",
    "    s = [\n",
    "        r'''\\textrm{Khảo sát sự hội tụ hay phân kỳ của chuỗi số S = }%s \\textrm{ bằng tiêu chuẩn phân kỳ}''' % latex(S)]\n",
    "    s += [r'''\\textrm{Ta đặt }k = %s= %s''' % (latex(k), latex(krs))]\n",
    "    if krs.equals(0):\n",
    "        s += [r'''\n",
    "        \\textrm{Vì k = 0 nên không thể kết luận theo phương pháp này}\n",
    "        ''']\n",
    "    else:\n",
    "        s += [r'''\n",
    "        \\textrm{Vì k = }%s \\neq 0\\textrm{ nên chuỗi S phân kỳ}\n",
    "        ''' % latex(krs)]\n",
    "    return s"
   ],
   "outputs": [],
   "execution_count": 46
  },
  {
   "cell_type": "code",
   "id": "96060dca8cfa6946",
   "metadata": {
    "ExecuteTime": {
     "end_time": "2024-05-12T05:23:39.397260Z",
     "start_time": "2024-05-12T05:23:39.393871Z"
    }
   },
   "source": [
    "def khao_sat_bang_alambert(f, n, _from, _to):\n",
    "    i = symbols('i', integer=True, positive=True)\n",
    "    S = Sum(f, (n, _from, _to))\n",
    "    k = Limit(Abs(f.subs(n, i + 1)) / Abs(f.subs(n, i)), i, oo)\n",
    "    k_simple = Limit(k.args[0].simplify(), i, oo)\n",
    "    k_result = k_simple.doit()\n",
    "    s = []\n",
    "    s += [r'''\\textrm{Khảo sát sự hội tụ hay phân kỳ của chuỗi số S = }%s \\textrm{ bằng tiêu chuẩn Alambert}''' % latex(\n",
    "        S),\n",
    "          r'''\\textrm{Ta đặt }k = %s= %s = %s \\\\''' % (latex(k), latex(k_simple), latex(k_result))]\n",
    "    if k_result < 1:\n",
    "        s += [r'''\n",
    "        \\textrm{Vì }k = %s < 1\\textrm{ nên chuỗi S hội tụ}\n",
    "        ''' % latex(k_result)]\n",
    "    elif k_result > 1:\n",
    "        s += [r'''\n",
    "        \\textrm{Vì }k = %s > 1\\textrm{ nên chuỗi S phân kỳ}\n",
    "        ''' % latex(k_result)]\n",
    "    else:\n",
    "        rs = f.subs(n, i + 1) - f.subs(n, i)\n",
    "        s += [r'''\\textrm{Vì }k = %s = 1\\textrm{ nên ta xét}''' % latex(k_result)]\n",
    "        s += [r'''\\textrm{Nếu }a_{n+1} >= a_n\\textrm{ thì chuỗi S phân kỳ}''']\n",
    "        s += [r'''\\textrm{Nếu }a_{n+1} < a_n\\textrm{ thì chuỗi S hội tụ}''']\n",
    "        s += [r'''\\textrm{Nếu không so sánh được thì không thể dùng phương pháp này}''']\n",
    "        s += [r'''\\textrm{Ta có }a_{n+1} - a_n = %s''' % latex(rs)]\n",
    "    return s"
   ],
   "outputs": [],
   "execution_count": 47
  },
  {
   "cell_type": "code",
   "id": "e8ecbc74afd47dfe",
   "metadata": {
    "ExecuteTime": {
     "end_time": "2024-05-12T05:29:12.597071Z",
     "start_time": "2024-05-12T05:29:12.025073Z"
    }
   },
   "source": [
    "def khao_sat_bang_cauchy(f, n, _from, _to):\n",
    "    i = symbols('i', integer=True, positive=True)\n",
    "    S = Sum(f, (n, _from, _to))\n",
    "    k = Limit(root(Abs(f.subs(n, i)), i), i, oo)\n",
    "    k_simple = Limit(k.args[0].simplify(), i, oo)\n",
    "    k_result = k_simple.doit()\n",
    "\n",
    "    s = [\n",
    "        r'''\\textrm{Khảo sát sự hội tụ hay phân kỳ của chuỗi số\\\\S = }%s \\textrm{ bằng tiêu chuẩn Cauchy}''' % latex(S),\n",
    "        r'''\\textrm{Ta đặt }k = %s= %s = %s \\\\''' % (latex(k), latex(k_simple), latex(k_result))]\n",
    "    if k_result < 1:\n",
    "        s += [r'''\n",
    "        \\textrm{Vì }k = %s < 1\\textrm{ nên chuỗi S hội tụ}\n",
    "        ''' % latex(k_result)]\n",
    "    elif k_result > 1:\n",
    "        s += [r'''\n",
    "        \\textrm{Vì }k = %s > 1\\textrm{ nên chuỗi S phân kỳ}\n",
    "        ''' % latex(k_result)]\n",
    "    else:\n",
    "        rs = f.subs(n, i + 1) - f.subs(n, i)\n",
    "        s += [r'''\\textrm{Vì }k = %s = 1\\textrm{ nên ta xét}''' % latex(k_result)]\n",
    "        s += [r'''\\textrm{Nếu }a_{n+1} >= a_n\\textrm{ thì chuỗi S phân kỳ}''']\n",
    "        s += [r'''\\textrm{Nếu }a_{n+1} < a_n\\textrm{ thì chuỗi S hội tụ}''']\n",
    "        s += [r'''\\textrm{Nếu không so sánh được thì không thể dùng phương pháp này}''']\n",
    "        s += [r'''\\textrm{Ta có }a_{n+1} - a_n = %s''' % latex(rs)]\n",
    "    return s"
   ],
   "outputs": [
    {
     "data": {
      "text/plain": [
       "<IPython.core.display.Math object>"
      ],
      "text/latex": "$\\displaystyle \\textrm{Khảo sát sự hội tụ hay phân kỳ của chuỗi số\\\\S = }\\sum_{n=1}^{\\infty} \\left(\\frac{2 n + 1}{2 n + 3}\\right)^{4 n \\left(n + 5\\right)} \\textrm{ bằng tiêu chuẩn Cauchy}$"
     },
     "metadata": {},
     "output_type": "display_data"
    },
    {
     "data": {
      "text/plain": [
       "<IPython.core.display.Math object>"
      ],
      "text/latex": "$\\displaystyle \\textrm{Ta đặt }k = \\lim_{i \\to \\infty} \\left(\\frac{2 i + 1}{2 i + 3}\\right)^{4 i + 20}= \\lim_{i \\to \\infty} \\left(\\frac{2 i + 1}{2 i + 3}\\right)^{4 i + 20} = e^{-4} \\\\$"
     },
     "metadata": {},
     "output_type": "display_data"
    },
    {
     "data": {
      "text/plain": [
       "<IPython.core.display.Math object>"
      ],
      "text/latex": "$\\displaystyle \n        \\textrm{Vì }k = e^{-4} < 1\\textrm{ nên chuỗi S hội tụ}\n        $"
     },
     "metadata": {},
     "output_type": "display_data"
    }
   ],
   "execution_count": 55
  },
  {
   "cell_type": "code",
   "id": "1d9c7097dc409ea4",
   "metadata": {
    "ExecuteTime": {
     "end_time": "2024-05-12T05:31:39.342807Z",
     "start_time": "2024-05-12T05:31:38.226504Z"
    }
   },
   "source": [
    "n = symbols('n', integer=True, positive=True)\n",
    "f = (n**3*4**n)/(5*factorial(n))\n",
    "_to = oo\n",
    "\n",
    "for s in khao_sat_bang_tieu_chuan_phan_ky(f, n, 1, oo): display(Math(s))\n",
    "for s in khao_sat_bang_alambert(f, n, 1, oo): display(Math(s))\n",
    "for s in khao_sat_bang_cauchy(f, n, 1, oo): display(Math(s))"
   ],
   "outputs": [
    {
     "data": {
      "text/plain": [
       "<IPython.core.display.Math object>"
      ],
      "text/latex": "$\\displaystyle \\textrm{Khảo sát sự hội tụ hay phân kỳ của chuỗi số S = }\\sum_{n=1}^{\\infty} \\frac{4^{n} n^{3}}{5 n!} \\textrm{ bằng tiêu chuẩn phân kỳ}$"
     },
     "metadata": {},
     "output_type": "display_data"
    },
    {
     "data": {
      "text/plain": [
       "<IPython.core.display.Math object>"
      ],
      "text/latex": "$\\displaystyle \\textrm{Ta đặt }k = \\lim_{n \\to \\infty}\\left(\\frac{4^{n} n^{3}}{5 n!}\\right)= 0$"
     },
     "metadata": {},
     "output_type": "display_data"
    },
    {
     "data": {
      "text/plain": [
       "<IPython.core.display.Math object>"
      ],
      "text/latex": "$\\displaystyle \n        \\textrm{Vì k = 0 nên không thể kết luận theo phương pháp này}\n        $"
     },
     "metadata": {},
     "output_type": "display_data"
    },
    {
     "data": {
      "text/plain": [
       "<IPython.core.display.Math object>"
      ],
      "text/latex": "$\\displaystyle \\textrm{Khảo sát sự hội tụ hay phân kỳ của chuỗi số S = }\\sum_{n=1}^{\\infty} \\frac{4^{n} n^{3}}{5 n!} \\textrm{ bằng tiêu chuẩn Alambert}$"
     },
     "metadata": {},
     "output_type": "display_data"
    },
    {
     "data": {
      "text/plain": [
       "<IPython.core.display.Math object>"
      ],
      "text/latex": "$\\displaystyle \\textrm{Ta đặt }k = \\lim_{i \\to \\infty}\\left(\\frac{4^{- i} 4^{i + 1} \\left(i + 1\\right)^{3} i!}{i^{3} \\left(i + 1\\right)!}\\right)= \\lim_{i \\to \\infty}\\left(\\frac{4 \\left(i + 1\\right)^{2}}{i^{3}}\\right) = 0 \\\\$"
     },
     "metadata": {},
     "output_type": "display_data"
    },
    {
     "data": {
      "text/plain": [
       "<IPython.core.display.Math object>"
      ],
      "text/latex": "$\\displaystyle \n        \\textrm{Vì }k = 0 < 1\\textrm{ nên chuỗi S hội tụ}\n        $"
     },
     "metadata": {},
     "output_type": "display_data"
    },
    {
     "data": {
      "text/plain": [
       "<IPython.core.display.Math object>"
      ],
      "text/latex": "$\\displaystyle \\textrm{Khảo sát sự hội tụ hay phân kỳ của chuỗi số\\\\S = }\\sum_{n=1}^{\\infty} \\frac{4^{n} n^{3}}{5 n!} \\textrm{ bằng tiêu chuẩn Cauchy}$"
     },
     "metadata": {},
     "output_type": "display_data"
    },
    {
     "data": {
      "text/plain": [
       "<IPython.core.display.Math object>"
      ],
      "text/latex": "$\\displaystyle \\textrm{Ta đặt }k = \\lim_{i \\to \\infty} \\left(\\frac{4^{i} i^{3}}{5 i!}\\right)^{\\frac{1}{i}}= \\lim_{i \\to \\infty}\\left(4 \\left(\\frac{i^{3}}{5 i!}\\right)^{\\frac{1}{i}}\\right) = 4 \\\\$"
     },
     "metadata": {},
     "output_type": "display_data"
    },
    {
     "data": {
      "text/plain": [
       "<IPython.core.display.Math object>"
      ],
      "text/latex": "$\\displaystyle \n        \\textrm{Vì }k = 4 > 1\\textrm{ nên chuỗi S phân kỳ}\n        $"
     },
     "metadata": {},
     "output_type": "display_data"
    }
   ],
   "execution_count": 59
  },
  {
   "cell_type": "code",
   "id": "3efcd8d4e4218f5f",
   "metadata": {
    "ExecuteTime": {
     "end_time": "2024-05-12T05:23:39.460224Z",
     "start_time": "2024-05-12T05:23:39.433597Z"
    }
   },
   "source": [
    "n = symbols('n', integer=True, positive=True)\n",
    "f = (n ** 3 * 4 ** n) / (5 * factorial(n))\n",
    "display(Math(khao_sat_bang_alambert(f, n, 1, oo)))\n",
    "# display(Math(khao_sat_bang_tieu_chuan_phan_ky(f, n, 1, oo)))"
   ],
   "outputs": [
    {
     "ename": "TypeError",
     "evalue": "Math expects text, not ['\\\\textrm{Khảo sát sự hội tụ hay phân kỳ của chuỗi số S = }\\\\sum_{n=1}^{\\\\infty} \\\\frac{4^{n} n^{3}}{5 n!} \\\\textrm{ bằng tiêu chuẩn Alambert}', '\\\\textrm{Ta đặt }k = \\\\lim_{i \\\\to \\\\infty}\\\\left(\\\\frac{4^{- i} 4^{i + 1} \\\\left(i + 1\\\\right)^{3} i!}{i^{3} \\\\left(i + 1\\\\right)!}\\\\right)= \\\\lim_{i \\\\to \\\\infty}\\\\left(\\\\frac{4 \\\\left(i + 1\\\\right)^{2}}{i^{3}}\\\\right) = 0 \\\\\\\\', '\\n        \\\\textrm{Vì }k = 0 < 1\\\\textrm{ nên chuỗi S hội tụ}\\n        ']",
     "output_type": "error",
     "traceback": [
      "\u001B[0;31m---------------------------------------------------------------------------\u001B[0m",
      "\u001B[0;31mTypeError\u001B[0m                                 Traceback (most recent call last)",
      "Cell \u001B[0;32mIn[50], line 3\u001B[0m\n\u001B[1;32m      1\u001B[0m n \u001B[38;5;241m=\u001B[39m symbols(\u001B[38;5;124m'\u001B[39m\u001B[38;5;124mn\u001B[39m\u001B[38;5;124m'\u001B[39m, integer\u001B[38;5;241m=\u001B[39m\u001B[38;5;28;01mTrue\u001B[39;00m, positive\u001B[38;5;241m=\u001B[39m\u001B[38;5;28;01mTrue\u001B[39;00m)\n\u001B[1;32m      2\u001B[0m f \u001B[38;5;241m=\u001B[39m (n \u001B[38;5;241m*\u001B[39m\u001B[38;5;241m*\u001B[39m \u001B[38;5;241m3\u001B[39m \u001B[38;5;241m*\u001B[39m \u001B[38;5;241m4\u001B[39m \u001B[38;5;241m*\u001B[39m\u001B[38;5;241m*\u001B[39m n) \u001B[38;5;241m/\u001B[39m (\u001B[38;5;241m5\u001B[39m \u001B[38;5;241m*\u001B[39m factorial(n))\n\u001B[0;32m----> 3\u001B[0m display(\u001B[43mMath\u001B[49m\u001B[43m(\u001B[49m\u001B[43mkhao_sat_bang_alambert\u001B[49m\u001B[43m(\u001B[49m\u001B[43mf\u001B[49m\u001B[43m,\u001B[49m\u001B[43m \u001B[49m\u001B[43mn\u001B[49m\u001B[43m,\u001B[49m\u001B[43m \u001B[49m\u001B[38;5;241;43m1\u001B[39;49m\u001B[43m,\u001B[49m\u001B[43m \u001B[49m\u001B[43moo\u001B[49m\u001B[43m)\u001B[49m\u001B[43m)\u001B[49m)\n\u001B[1;32m      4\u001B[0m \u001B[38;5;66;03m# display(Math(khao_sat_bang_tieu_chuan_phan_ky(f, n, 1, oo)))\u001B[39;00m\n",
      "File \u001B[0;32m~/PycharmProjects/mathematics/.venv/lib/python3.10/site-packages/IPython/core/display.py:328\u001B[0m, in \u001B[0;36mDisplayObject.__init__\u001B[0;34m(self, data, url, filename, metadata)\u001B[0m\n\u001B[1;32m    325\u001B[0m     \u001B[38;5;28mself\u001B[39m\u001B[38;5;241m.\u001B[39mmetadata \u001B[38;5;241m=\u001B[39m {}\n\u001B[1;32m    327\u001B[0m \u001B[38;5;28mself\u001B[39m\u001B[38;5;241m.\u001B[39mreload()\n\u001B[0;32m--> 328\u001B[0m \u001B[38;5;28;43mself\u001B[39;49m\u001B[38;5;241;43m.\u001B[39;49m\u001B[43m_check_data\u001B[49m\u001B[43m(\u001B[49m\u001B[43m)\u001B[49m\n",
      "File \u001B[0;32m~/PycharmProjects/mathematics/.venv/lib/python3.10/site-packages/IPython/core/display.py:407\u001B[0m, in \u001B[0;36mTextDisplayObject._check_data\u001B[0;34m(self)\u001B[0m\n\u001B[1;32m    405\u001B[0m \u001B[38;5;28;01mdef\u001B[39;00m \u001B[38;5;21m_check_data\u001B[39m(\u001B[38;5;28mself\u001B[39m):\n\u001B[1;32m    406\u001B[0m     \u001B[38;5;28;01mif\u001B[39;00m \u001B[38;5;28mself\u001B[39m\u001B[38;5;241m.\u001B[39mdata \u001B[38;5;129;01mis\u001B[39;00m \u001B[38;5;129;01mnot\u001B[39;00m \u001B[38;5;28;01mNone\u001B[39;00m \u001B[38;5;129;01mand\u001B[39;00m \u001B[38;5;129;01mnot\u001B[39;00m \u001B[38;5;28misinstance\u001B[39m(\u001B[38;5;28mself\u001B[39m\u001B[38;5;241m.\u001B[39mdata, \u001B[38;5;28mstr\u001B[39m):\n\u001B[0;32m--> 407\u001B[0m         \u001B[38;5;28;01mraise\u001B[39;00m \u001B[38;5;167;01mTypeError\u001B[39;00m(\u001B[38;5;124m\"\u001B[39m\u001B[38;5;132;01m%s\u001B[39;00m\u001B[38;5;124m expects text, not \u001B[39m\u001B[38;5;132;01m%r\u001B[39;00m\u001B[38;5;124m\"\u001B[39m \u001B[38;5;241m%\u001B[39m (\u001B[38;5;28mself\u001B[39m\u001B[38;5;241m.\u001B[39m\u001B[38;5;18m__class__\u001B[39m\u001B[38;5;241m.\u001B[39m\u001B[38;5;18m__name__\u001B[39m, \u001B[38;5;28mself\u001B[39m\u001B[38;5;241m.\u001B[39mdata))\n",
      "\u001B[0;31mTypeError\u001B[0m: Math expects text, not ['\\\\textrm{Khảo sát sự hội tụ hay phân kỳ của chuỗi số S = }\\\\sum_{n=1}^{\\\\infty} \\\\frac{4^{n} n^{3}}{5 n!} \\\\textrm{ bằng tiêu chuẩn Alambert}', '\\\\textrm{Ta đặt }k = \\\\lim_{i \\\\to \\\\infty}\\\\left(\\\\frac{4^{- i} 4^{i + 1} \\\\left(i + 1\\\\right)^{3} i!}{i^{3} \\\\left(i + 1\\\\right)!}\\\\right)= \\\\lim_{i \\\\to \\\\infty}\\\\left(\\\\frac{4 \\\\left(i + 1\\\\right)^{2}}{i^{3}}\\\\right) = 0 \\\\\\\\', '\\n        \\\\textrm{Vì }k = 0 < 1\\\\textrm{ nên chuỗi S hội tụ}\\n        ']"
     ]
    }
   ],
   "execution_count": 50
  },
  {
   "cell_type": "code",
   "id": "b1b6fdf001625876",
   "metadata": {
    "ExecuteTime": {
     "end_time": "2024-05-12T05:23:39.461184Z",
     "start_time": "2024-05-12T05:23:39.461122Z"
    }
   },
   "source": [
    "n = symbols('n', integer=True, positive=True)\n",
    "f = ((2 * n + 1) / (2 * n + 3)) ** (4 * n * (n + 5))\n",
    "display(Math(khao_sat_bang_cauchy(f, n, 1, oo)))"
   ],
   "outputs": [],
   "execution_count": null
  },
  {
   "metadata": {},
   "cell_type": "code",
   "source": [
    "display(Math(r'''\n",
    "\\begin{cases}\n",
    "    f_x^` = 1\\\\\n",
    "    f_y^` = 2 \n",
    "\\end{cases}\n",
    "'''))"
   ],
   "id": "89134323a1684d32",
   "outputs": [],
   "execution_count": null
  },
  {
   "metadata": {},
   "cell_type": "code",
   "source": "",
   "id": "b81c14b2702cdeb2",
   "outputs": [],
   "execution_count": null
  }
 ],
 "metadata": {
  "kernelspec": {
   "display_name": "Python 3 (ipykernel)",
   "language": "python",
   "name": "python3"
  },
  "language_info": {
   "codemirror_mode": {
    "name": "ipython",
    "version": 3
   },
   "file_extension": ".py",
   "mimetype": "text/x-python",
   "name": "python",
   "nbconvert_exporter": "python",
   "pygments_lexer": "ipython3",
   "version": "3.10.12"
  }
 },
 "nbformat": 4,
 "nbformat_minor": 5
}
