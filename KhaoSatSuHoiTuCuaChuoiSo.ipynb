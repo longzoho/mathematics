{
 "cells": [
  {
   "metadata": {
    "ExecuteTime": {
     "end_time": "2024-05-12T02:00:57.366743Z",
     "start_time": "2024-05-12T02:00:57.168107Z"
    }
   },
   "cell_type": "code",
   "source": [
    "from IPython.display import display, Math\n",
    "from sympy import Matrix, latex, symbols, Derivative, solve, limit, integrate, sqrt, expand, factor, oo, root, Rational, \\\n",
    "    ln, expand_log, together, apart, trigsimp, sin, cos, tan, cot, sec, csc, simplify, exp, E, diff, tan, Integral, \\\n",
    "    Limit, Sum, factorial, Abs, print_latex\n",
    "# solve: giải phương trình\n",
    "# Derivative: đạo hàm\n",
    "# Matrix: ma trận\n",
    "# latex: hiển thị công thức toán học\n",
    "# display: hiển thị kết quả\n",
    "# symbols: khai báo biến\n",
    "# limit: giới hạn\n",
    "# integrate: tích phân\n",
    "# expand: triển khai (phân phối)\n",
    "# factor: phân tích (kết hợp)\n",
    "# oo: vô cùng\n",
    "# together: tổng hợp\n",
    "# integrate: tích phân\n",
    "# diff: đạo hàm\n",
    "# root: căn \n",
    "# e: E\n",
    "# f.subs(x, 0): thay x = 0 vào f\n",
    "# ##.function: hàm số (của đạo hàm hoặc tích phân)\n",
    "# trigsimp: rút gọn biểu thức trigonometric\n",
    "# factorial: giai thừa"
   ],
   "id": "initial_id",
   "outputs": [],
   "execution_count": 1
  },
  {
   "cell_type": "markdown",
   "id": "84156a4b4b32d38d",
   "metadata": {},
   "source": [
    "\\usepackage{amsmath}"
   ]
  },
  {
   "cell_type": "code",
   "id": "352c0b97ab2c9b74",
   "metadata": {
    "ExecuteTime": {
     "end_time": "2024-05-12T02:00:57.372388Z",
     "start_time": "2024-05-12T02:00:57.367936Z"
    }
   },
   "source": [
    "def khao_sat_bang_tieu_chuan_phan_ky(f, n, _from, _to):\n",
    "    S = Sum(f, (n, _from, _to))\n",
    "    k = Limit(f, n, _to)\n",
    "    krs = k.doit()\n",
    "    s = r'''\n",
    "    \\textrm{Khảo sát sự hội tụ hay phân kỳ của chuỗi số S = }%s \\textrm{ bằng tiêu chuẩn phân kỳ} \\\\\n",
    "    \\textrm{Ta đặt }k = %s= %s \\\\\n",
    "    ''' % (latex(S), latex(k), latex(krs))\n",
    "    if krs.equals(0):\n",
    "        s += r'''\n",
    "        \\textrm{Vì k = 0 nên không thể kết luận theo phương pháp này}\n",
    "        '''\n",
    "    else:\n",
    "        s += r'''\n",
    "        \\textrm{Vì k = }%s \\neq 0\\textrm{ nên chuỗi S phân kỳ}\n",
    "        ''' % latex(krs)\n",
    "    return s"
   ],
   "outputs": [],
   "execution_count": 2
  },
  {
   "cell_type": "code",
   "id": "96060dca8cfa6946",
   "metadata": {
    "ExecuteTime": {
     "end_time": "2024-05-12T02:00:57.383416Z",
     "start_time": "2024-05-12T02:00:57.373512Z"
    }
   },
   "source": [
    "def khao_sat_bang_alambert(f, n, _from, _to):\n",
    "    i = symbols('i', integer=True, positive=True)\n",
    "    S = Sum(f, (n, _from, _to))\n",
    "    k = Limit(Abs(f.subs(n, i + 1)) / Abs(f.subs(n, i)), i, oo)\n",
    "    k_simple = Limit(k.args[0].simplify(), i, oo)\n",
    "    k_result = k_simple.doit()\n",
    "\n",
    "    s = r'''\n",
    "    \\text{Khảo sát sự hội tụ hay phân kỳ của chuỗi số\\\\S = }%s \\textrm{ bằng tiêu chuẩn Alambert}\\textrm{Ta đặt }k = %s= %s = %s \\\\\n",
    "    ''' % (latex(S), latex(k), latex(k_simple), latex(k_result))\n",
    "    if k_result.compare(1) < 0:\n",
    "        s += r'''\n",
    "        \\textrm{Vì }k = %s < 1\\textrm{ nên chuỗi S hội tụ}\n",
    "        ''' % latex(k_result)\n",
    "    elif k_result.compare(1) > 0:\n",
    "        s += r'''\n",
    "        \\textrm{Vì }k = %s > 1\\textrm{ nên chuỗi S phân kỳ}\n",
    "        ''' % latex(k_result)\n",
    "    else:\n",
    "        rs = f.subs(n, i + 1) - f.subs(n, i)\n",
    "        s += r'''\n",
    "        \\textrm{Vì }k = %s = 1\\\\textrm{ nên ta xét} \\\\\n",
    "        \\textrm{Nếu }a_{n+1} >= a_n\\\\textrm{ thì chuỗi S phân kỳ} \\\\\n",
    "        \\textrm{Nếu }a_{n+1} < a_n\\\\textrm{ thì chuỗi S hội tụ} \\\\\n",
    "        \\textrm{Nếu không so sánh được thì không thể dùng phương pháp này} \\\\\n",
    "        \\textrm{Ta có }a_{n+1} - a_n = %s\n",
    "        ''' % (latex(k_result), latex(rs))\n",
    "    return s"
   ],
   "outputs": [],
   "execution_count": 3
  },
  {
   "cell_type": "code",
   "id": "e8ecbc74afd47dfe",
   "metadata": {
    "ExecuteTime": {
     "end_time": "2024-05-12T02:01:59.692989Z",
     "start_time": "2024-05-12T02:01:57.198849Z"
    }
   },
   "source": [
    "def khao_sat_bang_cauchy(f, n, _from, _to):\n",
    "    i = symbols('i', integer=True, positive=True)\n",
    "    S = Sum(f, (n, _from, _to))\n",
    "    k = Limit(root(Abs(f.subs(n, i)), i), i, oo)\n",
    "    k_simple = Limit(k.args[0].simplify(), i, oo)\n",
    "    k_result = k_simple.doit()\n",
    "\n",
    "    s = r'''\n",
    "\\textrm{Khảo sát sự hội tụ hay phân kỳ của chuỗi số\\\\S = }%s \\textrm{ bằng tiêu chuẩn Cauchy}\\\\textrm{Ta đặt }k = %s= %s = %s \\\\\n",
    "''' % (latex(S), latex(k), latex(k_simple), latex(k_result))\n",
    "    \n",
    "    return s\n",
    "n = symbols('n', integer=True, positive=True)\n",
    "f = ((2*n+1)/(2*n+3))**(4*n*(n+5))\n",
    "display(Math(khao_sat_bang_cauchy(f, n, 1, oo)))\n",
    "display(Math(khao_sat_bang_tieu_chuan_phan_ky(f, n, 1, oo)))\n",
    "display(Math(khao_sat_bang_alambert(f, n, 1, oo)))"
   ],
   "outputs": [
    {
     "data": {
      "text/plain": [
       "<IPython.core.display.Math object>"
      ],
      "text/latex": "$\\displaystyle \n\\textrm{Khảo sát sự hội tụ hay phân kỳ của chuỗi số\\\\S = }\\sum_{n=1}^{\\infty} \\left(\\frac{2 n + 1}{2 n + 3}\\right)^{4 n \\left(n + 5\\right)} \\textrm{ bằng tiêu chuẩn Cauchy}\\\\textrm{Ta đặt }k = \\lim_{i \\to \\infty} \\left(\\frac{2 i + 1}{2 i + 3}\\right)^{4 i + 20}= \\lim_{i \\to \\infty} \\left(\\frac{2 i + 1}{2 i + 3}\\right)^{4 i + 20} = e^{-4} \\\\\n$"
     },
     "metadata": {},
     "output_type": "display_data"
    },
    {
     "data": {
      "text/plain": [
       "<IPython.core.display.Math object>"
      ],
      "text/latex": "$\\displaystyle \n    \\textrm{Khảo sát sự hội tụ hay phân kỳ của chuỗi số S = }\\sum_{n=1}^{\\infty} \\left(\\frac{2 n + 1}{2 n + 3}\\right)^{4 n \\left(n + 5\\right)} \\textrm{ bằng tiêu chuẩn phân kỳ} \\\\\n    \\textrm{Ta đặt }k = \\lim_{n \\to \\infty} \\left(\\frac{2 n + 1}{2 n + 3}\\right)^{4 n \\left(n + 5\\right)}= 0 \\\\\n    \n        \\textrm{Vì k = 0 nên không thể kết luận theo phương pháp này}\n        $"
     },
     "metadata": {},
     "output_type": "display_data"
    },
    {
     "data": {
      "text/plain": [
       "<IPython.core.display.Math object>"
      ],
      "text/latex": "$\\displaystyle \n    \\text{Khảo sát sự hội tụ hay phân kỳ của chuỗi số\\\\S = }\\sum_{n=1}^{\\infty} \\left(\\frac{2 n + 1}{2 n + 3}\\right)^{4 n \\left(n + 5\\right)} \\textrm{ bằng tiêu chuẩn Alambert}\\textrm{Ta đặt }k = \\lim_{i \\to \\infty}\\left(\\left(\\frac{2 i + 1}{2 i + 3}\\right)^{- 4 i \\left(i + 5\\right)} \\left(\\frac{2 i + 3}{2 i + 5}\\right)^{4 \\left(i + 1\\right) \\left(i + 6\\right)}\\right)= \\lim_{i \\to \\infty}\\left(\\left(2 i + 1\\right)^{- 4 i \\left(i + 5\\right)} \\left(2 i + 3\\right)^{4 i \\left(i + 5\\right) + 4 \\left(i + 1\\right) \\left(i + 6\\right)} \\left(2 i + 5\\right)^{- 4 \\left(i + 1\\right) \\left(i + 6\\right)}\\right) = e^{-4} \\\\\n    \n        \\textrm{Vì }k = e^{-4} < 1\\textrm{ nên chuỗi S hội tụ}\n        $"
     },
     "metadata": {},
     "output_type": "display_data"
    }
   ],
   "execution_count": 10
  },
  {
   "cell_type": "code",
   "id": "1d9c7097dc409ea4",
   "metadata": {
    "ExecuteTime": {
     "end_time": "2024-05-12T02:00:58.562617Z",
     "start_time": "2024-05-12T02:00:58.510460Z"
    }
   },
   "source": [
    "n = symbols('n', integer=True, positive=True)\n",
    "f = (2 * n ** 2 + 3 * n + 5) / (8 * n + 3 * n ** 2 + 1)\n",
    "Math(khao_sat_bang_tieu_chuan_phan_ky(f, n, 1, oo))"
   ],
   "outputs": [
    {
     "data": {
      "text/plain": [
       "<IPython.core.display.Math object>"
      ],
      "text/latex": "$\\displaystyle \n    \\textrm{Khảo sát sự hội tụ hay phân kỳ của chuỗi số S = }\\sum_{n=1}^{\\infty} \\frac{2 n^{2} + 3 n + 5}{3 n^{2} + 8 n + 1} \\textrm{ bằng tiêu chuẩn phân kỳ} \\\\\n    \\textrm{Ta đặt }k = \\lim_{n \\to \\infty}\\left(\\frac{2 n^{2} + 3 n + 5}{3 n^{2} + 8 n + 1}\\right)= \\frac{2}{3} \\\\\n    \n        \\textrm{Vì k = }\\frac{2}{3} \\neq 0\\textrm{ nên chuỗi S phân kỳ}\n        $"
     },
     "execution_count": 5,
     "metadata": {},
     "output_type": "execute_result"
    }
   ],
   "execution_count": 5
  },
  {
   "cell_type": "code",
   "id": "3efcd8d4e4218f5f",
   "metadata": {
    "ExecuteTime": {
     "end_time": "2024-05-12T02:00:58.640050Z",
     "start_time": "2024-05-12T02:00:58.564243Z"
    }
   },
   "source": [
    "n = symbols('n', integer=True, positive=True)\n",
    "f = (n**3*4**n)/(5*factorial(n))\n",
    "display(Math(khao_sat_bang_alambert(f, n, 1, oo)))\n",
    "# display(Math(khao_sat_bang_tieu_chuan_phan_ky(f, n, 1, oo)))"
   ],
   "outputs": [
    {
     "data": {
      "text/plain": [
       "<IPython.core.display.Math object>"
      ],
      "text/latex": "$\\displaystyle \n    \\text{Khảo sát sự hội tụ hay phân kỳ của chuỗi số\\\\S = }\\sum_{n=1}^{\\infty} \\frac{4^{n} n^{3}}{5 n!} \\textrm{ bằng tiêu chuẩn Alambert}\\textrm{Ta đặt }k = \\lim_{i \\to \\infty}\\left(\\frac{4^{- i} 4^{i + 1} \\left(i + 1\\right)^{3} i!}{i^{3} \\left(i + 1\\right)!}\\right)= \\lim_{i \\to \\infty}\\left(\\frac{4 \\left(i + 1\\right)^{2}}{i^{3}}\\right) = 0 \\\\\n    \n        \\textrm{Vì }k = 0 < 1\\textrm{ nên chuỗi S hội tụ}\n        $"
     },
     "metadata": {},
     "output_type": "display_data"
    }
   ],
   "execution_count": 6
  },
  {
   "cell_type": "code",
   "id": "b1b6fdf001625876",
   "metadata": {
    "ExecuteTime": {
     "end_time": "2024-05-12T02:00:58.960093Z",
     "start_time": "2024-05-12T02:00:58.641357Z"
    }
   },
   "source": [
    "n = symbols('n', integer=True, positive=True)\n",
    "f = ((2*n+1)/(2*n+3))**(4*n*(n+5))\n",
    "display(Math(khao_sat_bang_cauchy(f, n, 1, oo)))"
   ],
   "outputs": [
    {
     "data": {
      "text/plain": [
       "<IPython.core.display.Math object>"
      ],
      "text/latex": "$\\displaystyle \n\\textrm{Khảo sát sự hội tụ hay phân kỳ của chuỗi số\\\\S = }\\sum_{n=1}^{\\infty} \\left(\\frac{2 n + 1}{2 n + 3}\\right)^{4 n \\left(n + 5\\right)} \\textrm{ bằng tiêu chuẩn Cauchy}\\\\textrm{Ta đặt }k = \\lim_{i \\to \\infty} \\left(\\frac{2 i + 1}{2 i + 3}\\right)^{4 i + 20}= \\lim_{i \\to \\infty} \\left(\\frac{2 i + 1}{2 i + 3}\\right)^{4 i + 20} = e^{-4} \\\\\n$"
     },
     "metadata": {},
     "output_type": "display_data"
    }
   ],
   "execution_count": 7
  },
  {
   "metadata": {
    "ExecuteTime": {
     "end_time": "2024-05-12T02:00:58.965738Z",
     "start_time": "2024-05-12T02:00:58.960979Z"
    }
   },
   "cell_type": "code",
   "source": [
    "display(Math(r'''\n",
    "\\begin{cases}\n",
    "    f_x^` = 1\\\\\n",
    "    f_y^` = 2 \n",
    "\\end{cases}\n",
    "'''))"
   ],
   "id": "89134323a1684d32",
   "outputs": [
    {
     "data": {
      "text/plain": [
       "<IPython.core.display.Math object>"
      ],
      "text/latex": "$\\displaystyle \n\\begin{cases}\n    f_x^` = 1\\\\\n    f_y^` = 2 \n\\end{cases}\n$"
     },
     "metadata": {},
     "output_type": "display_data"
    }
   ],
   "execution_count": 8
  },
  {
   "metadata": {
    "ExecuteTime": {
     "end_time": "2024-05-12T02:00:58.968750Z",
     "start_time": "2024-05-12T02:00:58.966613Z"
    }
   },
   "cell_type": "code",
   "source": "",
   "id": "b81c14b2702cdeb2",
   "outputs": [],
   "execution_count": 8
  }
 ],
 "metadata": {
  "kernelspec": {
   "display_name": "Python 3 (ipykernel)",
   "language": "python",
   "name": "python3"
  },
  "language_info": {
   "codemirror_mode": {
    "name": "ipython",
    "version": 3
   },
   "file_extension": ".py",
   "mimetype": "text/x-python",
   "name": "python",
   "nbconvert_exporter": "python",
   "pygments_lexer": "ipython3",
   "version": "3.10.12"
  }
 },
 "nbformat": 4,
 "nbformat_minor": 5
}
