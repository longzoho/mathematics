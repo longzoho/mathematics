{
 "cells": [
  {
   "cell_type": "code",
   "id": "initial_id",
   "metadata": {
    "collapsed": true,
    "ExecuteTime": {
     "end_time": "2024-05-11T10:00:22.812683Z",
     "start_time": "2024-05-11T10:00:22.809642Z"
    }
   },
   "source": [
    "from IPython.display import display, Math\n",
    "from sympy import Matrix, latex, symbols, Derivative, solve, limit, integrate, sqrt, expand, factor, oo, root, Rational, \\\n",
    "    ln, expand_log, together, apart, trigsimp, sin, cos, tan, cot, sec, csc, simplify, exp, E, diff, tan, Integral, \\\n",
    "    Limit, Sum, factorial, Abs\n",
    "# solve: giải phương trình\n",
    "# Derivative: đạo hàm\n",
    "# Matrix: ma trận\n",
    "# latex: hiển thị công thức toán học\n",
    "# display: hiển thị kết quả\n",
    "# symbols: khai báo biến\n",
    "# limit: giới hạn\n",
    "# integrate: tích phân\n",
    "# expand: triển khai (phân phối)\n",
    "# factor: phân tích (kết hợp)\n",
    "# oo: vô cùng\n",
    "# together: tổng hợp\n",
    "# integrate: tích phân\n",
    "# diff: đạo hàm\n",
    "# root: căn \n",
    "# e: E\n",
    "# f.subs(x, 0): thay x = 0 vào f\n",
    "# ##.function: hàm số (của đạo hàm hoặc tích phân)\n",
    "# trigsimp: rút gọn biểu thức trigonometric\n",
    "# factorial: giai thừa"
   ],
   "outputs": [],
   "execution_count": 30
  },
  {
   "metadata": {
    "ExecuteTime": {
     "end_time": "2024-05-11T09:22:07.434745Z",
     "start_time": "2024-05-11T09:22:07.431775Z"
    }
   },
   "cell_type": "code",
   "source": [
    "def khao_sat_bang_tieu_chuan_phan_ky(f, n, _from, _to):\n",
    "    S = Sum(f, (n, _from, _to))\n",
    "    k = Limit(f, n, _to)\n",
    "    krs = k.doit()\n",
    "    s = '''\n",
    "    \\\\textrm{Khảo sát sự hội tụ hay phân kỳ của chuỗi số S = }%s \\\\textrm{ bằng tiêu chuẩn phân kỳ} \\\\\\\\\n",
    "    \\\\textrm{Ta đặt }k = %s= %s \\\\\\\\\n",
    "    ''' % (latex(S), latex(k), latex(krs))\n",
    "    if krs.equals(0):\n",
    "        s += '''\n",
    "        \\\\textrm{Vì k = 0 nên không thể kết luận theo phương pháp này}\n",
    "        '''\n",
    "    else:\n",
    "        s += '''\n",
    "        \\\\textrm{Vì k = }%s \\\\neq 0\\\\textrm{ nên chuỗi S phân kỳ}\n",
    "        ''' % latex(krs)\n",
    "    return s"
   ],
   "id": "352c0b97ab2c9b74",
   "outputs": [],
   "execution_count": 17
  },
  {
   "metadata": {
    "ExecuteTime": {
     "end_time": "2024-05-11T10:35:11.230246Z",
     "start_time": "2024-05-11T10:35:11.225071Z"
    }
   },
   "cell_type": "code",
   "source": [
    "def khao_sat_bang_alambert(f, n, _from, _to):\n",
    "    i = symbols('i', integer=True, positive=True)\n",
    "    S = Sum(f, (n, _from, _to))\n",
    "    k = Limit(Abs(f.subs(n, i + 1)) / Abs(f.subs(n, i)), i, oo)\n",
    "    k_simple = Limit(k.args[0].simplify(), i, oo)\n",
    "    k_result = k_simple.doit()\n",
    "\n",
    "    s = '''\n",
    "    \\\\textrm{Khảo sát sự hội tụ hay phân kỳ của chuỗi số S = }%s \\\\textrm{ bằng tiêu chuẩn Alambert} \\\\\\\\\n",
    "    \\\\textrm{Ta đặt }k = %s= %s = %s \\\\\\\\\n",
    "    ''' % (latex(S), latex(k), latex(k_simple), latex(k_result))\n",
    "    if k_result.compare(1) < 0:\n",
    "        s += '''\n",
    "        \\\\textrm{Vì }k = %s < 1\\\\textrm{ nên chuỗi S hội tụ}\n",
    "        ''' % latex(k_result)\n",
    "    elif k_result.compare(1) > 0:\n",
    "        s += '''\n",
    "        \\\\textrm{Vì }k = %s > 1\\\\textrm{ nên chuỗi S phân kỳ}\n",
    "        ''' % latex(k_result)\n",
    "    else:\n",
    "        rs = f.subs(n, i + 1) - f.subs(n, i)\n",
    "        s += '''\n",
    "        \\\\textrm{Vì }k = %s = 1\\\\textrm{ nên ta xét} \\\\\\\\\n",
    "        \\\\textrm{Nếu }a_{n+1} >= a_n\\\\textrm{ thì chuỗi S phân kỳ} \\\\\\\\\n",
    "        \\\\textrm{Nếu }a_{n+1} < a_n\\\\textrm{ thì chuỗi S hội tụ} \\\\\\\\\n",
    "        \\\\textrm{Nếu không so sánh được thì không thể dùng phương pháp này} \\\\\\\\\n",
    "        \\\\textrm{Ta có }a_{n+1} - a_n = %s\n",
    "        ''' % (latex(k_result), latex(rs))\n",
    "    return s"
   ],
   "id": "96060dca8cfa6946",
   "outputs": [],
   "execution_count": 56
  },
  {
   "metadata": {
    "ExecuteTime": {
     "end_time": "2024-05-11T09:22:20.570811Z",
     "start_time": "2024-05-11T09:22:20.565566Z"
    }
   },
   "cell_type": "code",
   "source": [
    "n = symbols('n', integer=True, positive=True)\n",
    "f = (2 * n ** 2 + 3 * n + 5) / (8 * n + 3 * n ** 2 + 1)\n",
    "display(Math(khao_sat_bang_tieu_chuan_phan_ky(f, n, 1, oo)))"
   ],
   "id": "1d9c7097dc409ea4",
   "outputs": [
    {
     "data": {
      "text/plain": [
       "<IPython.core.display.Math object>"
      ],
      "text/latex": "$\\displaystyle \n    \\textrm{Khảo sát sự hội tụ hay phân kỳ của chuỗi số S = }\\sum_{n=1}^{\\infty} \\frac{2 n^{2} + 3 n + 5}{3 n^{2} + 8 n + 1} \\textrm{ bằng tiêu chuẩn phân kỳ}\\\\\n    \\textrm{Ta đặt }k = \\lim_{n \\to \\infty}\\left(\\frac{2 n^{2} + 3 n + 5}{3 n^{2} + 8 n + 1}\\right)= \\frac{2}{3} \\\\\n    \n        \\textrm{Vì k = }\\frac{2}{3} \\neq 0\\textrm{ nên chuỗi S phân kỳ}\n        $"
     },
     "metadata": {},
     "output_type": "display_data"
    }
   ],
   "execution_count": 19
  },
  {
   "metadata": {
    "ExecuteTime": {
     "end_time": "2024-05-11T10:38:59.920612Z",
     "start_time": "2024-05-11T10:38:59.894517Z"
    }
   },
   "cell_type": "code",
   "source": [
    "n = symbols('n', integer=True, positive=True)\n",
    "f = (n**3*4**n)/(5*factorial(n))\n",
    "display(Math(khao_sat_bang_alambert(f, n, 1, oo)))\n",
    "# display(Math(khao_sat_bang_tieu_chuan_phan_ky(f, n, 1, oo)))"
   ],
   "id": "3efcd8d4e4218f5f",
   "outputs": [
    {
     "data": {
      "text/plain": [
       "<IPython.core.display.Math object>"
      ],
      "text/latex": "$\\displaystyle \n    \\textrm{Khảo sát sự hội tụ hay phân kỳ của chuỗi số S = }\\sum_{n=1}^{\\infty} \\frac{4^{n} n^{3}}{5 n!} \\textrm{ bằng tiêu chuẩn Alambert} \\\\\n    \\textrm{Ta đặt }k = \\lim_{i \\to \\infty}\\left(\\frac{4^{- i} 4^{i + 1} \\left(i + 1\\right)^{3} i!}{i^{3} \\left(i + 1\\right)!}\\right)= \\lim_{i \\to \\infty}\\left(\\frac{4 \\left(i + 1\\right)^{2}}{i^{3}}\\right) = 0 \\\\\n    \n        \\textrm{Vì }k = 0 < 1\\textrm{ nên chuỗi S hội tụ}\n        $"
     },
     "metadata": {},
     "output_type": "display_data"
    }
   ],
   "execution_count": 60
  },
  {
   "metadata": {},
   "cell_type": "code",
   "outputs": [],
   "execution_count": null,
   "source": "",
   "id": "16e40981a9ea4ac3"
  }
 ],
 "metadata": {
  "kernelspec": {
   "display_name": "Python 3",
   "language": "python",
   "name": "python3"
  },
  "language_info": {
   "codemirror_mode": {
    "name": "ipython",
    "version": 2
   },
   "file_extension": ".py",
   "mimetype": "text/x-python",
   "name": "python",
   "nbconvert_exporter": "python",
   "pygments_lexer": "ipython2",
   "version": "2.7.6"
  }
 },
 "nbformat": 4,
 "nbformat_minor": 5
}
