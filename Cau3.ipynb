{
 "cells": [
  {
   "cell_type": "code",
   "id": "initial_id",
   "metadata": {
    "collapsed": true,
    "ExecuteTime": {
     "end_time": "2024-05-17T11:51:38.455591Z",
     "start_time": "2024-05-17T11:51:38.244812Z"
    }
   },
   "source": [
    "from IPython.display import display, Math\n",
    "from sympy import Matrix, latex, symbols, Derivative, solve, limit, integrate, sqrt, expand, factor, oo, root, Rational, \\\n",
    "    ln, expand_log, together, apart, trigsimp, sin, cos, tan, cot, sec, csc, simplify, exp, E, diff, tan, Integral, \\\n",
    "    Limit, Sum, factorial, Abs, print_latex\n",
    "# solve: giải phương trình\n",
    "# Derivative: đạo hàm\n",
    "# Matrix: ma trận\n",
    "# latex: hiển thị công thức toán học\n",
    "# display: hiển thị kết quả\n",
    "# symbols: khai báo biến\n",
    "# limit: giới hạn\n",
    "# integrate: tích phân\n",
    "# expand: triển khai (phân phối)\n",
    "# factor: phân tích (kết hợp)\n",
    "# oo: vô cùng\n",
    "# together: tổng hợp\n",
    "# integrate: tích phân\n",
    "# diff: đạo hàm\n",
    "# root: căn \n",
    "# e: E\n",
    "# f.subs(x, 0): thay x = 0 vào f\n",
    "# ##.function: hàm số (của đạo hàm hoặc tích phân)\n",
    "# trigsimp: rút gọn biểu thức trigonometric\n",
    "# factorial: giai thừa"
   ],
   "outputs": [],
   "execution_count": 1
  },
  {
   "metadata": {
    "ExecuteTime": {
     "end_time": "2024-05-17T11:51:38.460773Z",
     "start_time": "2024-05-17T11:51:38.457137Z"
    }
   },
   "cell_type": "code",
   "source": [
    "def khao_sat_bang_tieu_chuan_phan_ky(f, n, _from, _to):\n",
    "    S = Sum(f, (n, _from, _to))\n",
    "    k = Limit(f, n, _to)\n",
    "    krs = k.doit()\n",
    "    s = [\n",
    "        r'''\\textrm{Khảo sát sự hội tụ hay phân kỳ của chuỗi số S = }%s \\textrm{ bằng tiêu chuẩn phân kỳ}''' % latex(S)]\n",
    "    s += [r'''\\textrm{Ta đặt }k = %s= %s''' % (latex(k), latex(krs))]\n",
    "    if krs.equals(0):\n",
    "        s += [r'''\n",
    "        \\textrm{Vì k = 0 nên không thể kết luận theo phương pháp này}\n",
    "        ''']\n",
    "    else:\n",
    "        s += [r'''\n",
    "        \\textrm{Vì k = }%s \\neq 0\\textrm{ nên chuỗi S phân kỳ}\n",
    "        ''' % latex(krs)]\n",
    "    return s"
   ],
   "id": "4e96c7623a465fee",
   "outputs": [],
   "execution_count": 2
  },
  {
   "metadata": {
    "ExecuteTime": {
     "end_time": "2024-05-17T11:51:38.470230Z",
     "start_time": "2024-05-17T11:51:38.461663Z"
    }
   },
   "cell_type": "code",
   "source": [
    "def khao_sat_bang_alambert(f, n, _from, _to):\n",
    "    i = symbols('i', integer=True, positive=True)\n",
    "    S = Sum(f, (n, _from, _to))\n",
    "    k = Limit(Abs(f.subs(n, i + 1)) / Abs(f.subs(n, i)), i, oo)\n",
    "    k_simple = Limit(k.args[0].simplify(), i, oo)\n",
    "    k_result = k_simple.doit()\n",
    "    s = []\n",
    "    s += [r'''\\textrm{Khảo sát sự hội tụ hay phân kỳ của chuỗi số S = }%s \\textrm{ bằng tiêu chuẩn Alambert}''' % latex(\n",
    "        S),\n",
    "          r'''\\textrm{Ta đặt }k = %s= %s = %s \\\\''' % (latex(k), latex(k_simple), latex(k_result))]\n",
    "    if k_result < 1:\n",
    "        s += [r'''\n",
    "        \\textrm{Vì }k = %s < 1\\textrm{ nên chuỗi S hội tụ}\n",
    "        ''' % latex(k_result)]\n",
    "    elif k_result > 1:\n",
    "        s += [r'''\n",
    "        \\textrm{Vì }k = %s > 1\\textrm{ nên chuỗi S phân kỳ}\n",
    "        ''' % latex(k_result)]\n",
    "    else:\n",
    "        rs = f.subs(n, i + 1) - f.subs(n, i)\n",
    "        s += [r'''\\textrm{Vì }k = %s = 1\\textrm{ nên ta xét}''' % latex(k_result)]\n",
    "        s += [r'''\\textrm{Nếu }a_{n+1} >= a_n\\textrm{ thì chuỗi S phân kỳ}''']\n",
    "        s += [r'''\\textrm{Nếu }a_{n+1} < a_n\\textrm{ thì chuỗi S hội tụ}''']\n",
    "        s += [r'''\\textrm{Nếu không so sánh được thì không thể dùng phương pháp này}''']\n",
    "        s += [r'''\\textrm{Ta có }a_{n+1} - a_n = %s''' % latex(rs)]\n",
    "    return s"
   ],
   "id": "523dbaa8e6d1e551",
   "outputs": [],
   "execution_count": 3
  },
  {
   "metadata": {
    "ExecuteTime": {
     "end_time": "2024-05-17T11:51:38.475286Z",
     "start_time": "2024-05-17T11:51:38.471107Z"
    }
   },
   "cell_type": "code",
   "source": [
    "def khao_sat_bang_cauchy(f, n, _from, _to):\n",
    "    i = symbols('i', integer=True, positive=True)\n",
    "    S = Sum(f, (n, _from, _to))\n",
    "    k = Limit(root(Abs(f.subs(n, i)), i), i, oo)\n",
    "    k_simple = Limit(k.args[0].simplify(), i, oo)\n",
    "    k_result = k_simple.doit()\n",
    "\n",
    "    s = [\n",
    "        r'''\\textrm{Khảo sát sự hội tụ hay phân kỳ của chuỗi số\\\\S = }%s \\textrm{ bằng tiêu chuẩn Cauchy}''' % latex(S),\n",
    "        r'''\\textrm{Ta đặt }k = %s= %s = %s \\\\''' % (latex(k), latex(k_simple), latex(k_result))]\n",
    "    if k_result < 1:\n",
    "        s += [r'''\n",
    "        \\textrm{Vì }k = %s < 1\\textrm{ nên chuỗi S hội tụ}\n",
    "        ''' % latex(k_result)]\n",
    "    elif k_result > 1:\n",
    "        s += [r'''\n",
    "        \\textrm{Vì }k = %s > 1\\textrm{ nên chuỗi S phân kỳ}\n",
    "        ''' % latex(k_result)]\n",
    "    else:\n",
    "        rs = f.subs(n, i + 1) - f.subs(n, i)\n",
    "        s += [r'''\\textrm{Vì }k = %s = 1\\textrm{ nên ta xét}''' % latex(k_result)]\n",
    "        s += [r'''\\textrm{Nếu }a_{n+1} >= a_n\\textrm{ thì chuỗi S phân kỳ}''']\n",
    "        s += [r'''\\textrm{Nếu }a_{n+1} < a_n\\textrm{ thì chuỗi S hội tụ}''']\n",
    "        s += [r'''\\textrm{Nếu không so sánh được thì không thể dùng phương pháp này}''']\n",
    "        s += [r'''\\textrm{Ta có }a_{n+1} - a_n = %s''' % latex(rs)]\n",
    "    return s"
   ],
   "id": "bb31d99fbe5d8c7a",
   "outputs": [],
   "execution_count": 4
  },
  {
   "metadata": {
    "ExecuteTime": {
     "end_time": "2024-05-17T11:51:39.820493Z",
     "start_time": "2024-05-17T11:51:38.476515Z"
    }
   },
   "cell_type": "code",
   "source": [
    "n = symbols('n', integer=True, positive=True)\n",
    "f = (n**3*4**n)/(5*factorial(n))\n",
    "_to = oo\n",
    "\n",
    "for s in khao_sat_bang_tieu_chuan_phan_ky(f, n, 1, oo): display(Math(s))\n",
    "for s in khao_sat_bang_alambert(f, n, 1, oo): display(Math(s))\n",
    "for s in khao_sat_bang_cauchy(f, n, 1, oo): display(Math(s))"
   ],
   "id": "e15f50591229267",
   "outputs": [
    {
     "data": {
      "text/plain": [
       "<IPython.core.display.Math object>"
      ],
      "text/latex": "$\\displaystyle \\textrm{Khảo sát sự hội tụ hay phân kỳ của chuỗi số S = }\\sum_{n=1}^{\\infty} \\frac{4^{n} n^{3}}{5 n!} \\textrm{ bằng tiêu chuẩn phân kỳ}$"
     },
     "metadata": {},
     "output_type": "display_data"
    },
    {
     "data": {
      "text/plain": [
       "<IPython.core.display.Math object>"
      ],
      "text/latex": "$\\displaystyle \\textrm{Ta đặt }k = \\lim_{n \\to \\infty}\\left(\\frac{4^{n} n^{3}}{5 n!}\\right)= 0$"
     },
     "metadata": {},
     "output_type": "display_data"
    },
    {
     "data": {
      "text/plain": [
       "<IPython.core.display.Math object>"
      ],
      "text/latex": "$\\displaystyle \n        \\textrm{Vì k = 0 nên không thể kết luận theo phương pháp này}\n        $"
     },
     "metadata": {},
     "output_type": "display_data"
    },
    {
     "data": {
      "text/plain": [
       "<IPython.core.display.Math object>"
      ],
      "text/latex": "$\\displaystyle \\textrm{Khảo sát sự hội tụ hay phân kỳ của chuỗi số S = }\\sum_{n=1}^{\\infty} \\frac{4^{n} n^{3}}{5 n!} \\textrm{ bằng tiêu chuẩn Alambert}$"
     },
     "metadata": {},
     "output_type": "display_data"
    },
    {
     "data": {
      "text/plain": [
       "<IPython.core.display.Math object>"
      ],
      "text/latex": "$\\displaystyle \\textrm{Ta đặt }k = \\lim_{i \\to \\infty}\\left(\\frac{4^{- i} 4^{i + 1} \\left(i + 1\\right)^{3} i!}{i^{3} \\left(i + 1\\right)!}\\right)= \\lim_{i \\to \\infty}\\left(\\frac{4 \\left(i + 1\\right)^{2}}{i^{3}}\\right) = 0 \\\\$"
     },
     "metadata": {},
     "output_type": "display_data"
    },
    {
     "data": {
      "text/plain": [
       "<IPython.core.display.Math object>"
      ],
      "text/latex": "$\\displaystyle \n        \\textrm{Vì }k = 0 < 1\\textrm{ nên chuỗi S hội tụ}\n        $"
     },
     "metadata": {},
     "output_type": "display_data"
    },
    {
     "data": {
      "text/plain": [
       "<IPython.core.display.Math object>"
      ],
      "text/latex": "$\\displaystyle \\textrm{Khảo sát sự hội tụ hay phân kỳ của chuỗi số\\\\S = }\\sum_{n=1}^{\\infty} \\frac{4^{n} n^{3}}{5 n!} \\textrm{ bằng tiêu chuẩn Cauchy}$"
     },
     "metadata": {},
     "output_type": "display_data"
    },
    {
     "data": {
      "text/plain": [
       "<IPython.core.display.Math object>"
      ],
      "text/latex": "$\\displaystyle \\textrm{Ta đặt }k = \\lim_{i \\to \\infty} \\left(\\frac{4^{i} i^{3}}{5 i!}\\right)^{\\frac{1}{i}}= \\lim_{i \\to \\infty}\\left(4 \\left(\\frac{i^{3}}{5 i!}\\right)^{\\frac{1}{i}}\\right) = 4 \\\\$"
     },
     "metadata": {},
     "output_type": "display_data"
    },
    {
     "data": {
      "text/plain": [
       "<IPython.core.display.Math object>"
      ],
      "text/latex": "$\\displaystyle \n        \\textrm{Vì }k = 4 > 1\\textrm{ nên chuỗi S phân kỳ}\n        $"
     },
     "metadata": {},
     "output_type": "display_data"
    }
   ],
   "execution_count": 5
  }
 ],
 "metadata": {
  "kernelspec": {
   "display_name": "Python 3",
   "language": "python",
   "name": "python3"
  },
  "language_info": {
   "codemirror_mode": {
    "name": "ipython",
    "version": 2
   },
   "file_extension": ".py",
   "mimetype": "text/x-python",
   "name": "python",
   "nbconvert_exporter": "python",
   "pygments_lexer": "ipython2",
   "version": "2.7.6"
  }
 },
 "nbformat": 4,
 "nbformat_minor": 5
}
