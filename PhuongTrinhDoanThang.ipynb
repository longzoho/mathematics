{
 "cells": [
  {
   "cell_type": "code",
   "id": "initial_id",
   "metadata": {
    "collapsed": true,
    "ExecuteTime": {
     "end_time": "2024-04-30T07:50:33.205102Z",
     "start_time": "2024-04-30T07:50:32.902667Z"
    }
   },
   "source": [
    "from IPython.display import display, Math\n",
    "from sympy import symbols, Eq, solve"
   ],
   "outputs": [],
   "execution_count": 2
  },
  {
   "metadata": {
    "ExecuteTime": {
     "end_time": "2024-04-30T07:53:00.031211Z",
     "start_time": "2024-04-30T07:53:00.028824Z"
    }
   },
   "cell_type": "code",
   "source": [
    "\n",
    "# Định nghĩa các biến\n",
    "x, y = symbols('x y')\n"
   ],
   "id": "47a512247a24a361",
   "outputs": [],
   "execution_count": 12
  },
  {
   "metadata": {
    "ExecuteTime": {
     "end_time": "2024-04-30T07:53:00.476012Z",
     "start_time": "2024-04-30T07:53:00.473302Z"
    }
   },
   "cell_type": "code",
   "source": [
    "# Định nghĩa hai điểm trên đoạn thẳng\n",
    "x1, y1 = 2 ,2\n",
    "x2, y2 = 2, 0"
   ],
   "id": "6bb9372495f91c7c",
   "outputs": [],
   "execution_count": 13
  },
  {
   "metadata": {
    "ExecuteTime": {
     "end_time": "2024-04-30T07:53:00.924138Z",
     "start_time": "2024-04-30T07:53:00.912981Z"
    }
   },
   "cell_type": "code",
   "source": [
    "# Tính toán phương trình đoạn thẳng\n",
    "slope = (y2 - y1) / (x2 - x1)\n",
    "line_eq = Eq(y - y1, slope * (x - x1))"
   ],
   "id": "ce356e94c94eb7a3",
   "outputs": [
    {
     "ename": "ZeroDivisionError",
     "evalue": "division by zero",
     "output_type": "error",
     "traceback": [
      "\u001B[1;31m---------------------------------------------------------------------------\u001B[0m",
      "\u001B[1;31mZeroDivisionError\u001B[0m                         Traceback (most recent call last)",
      "Cell \u001B[1;32mIn[14], line 2\u001B[0m\n\u001B[0;32m      1\u001B[0m \u001B[38;5;66;03m# Tính toán phương trình đoạn thẳng\u001B[39;00m\n\u001B[1;32m----> 2\u001B[0m slope \u001B[38;5;241m=\u001B[39m \u001B[43m(\u001B[49m\u001B[43my2\u001B[49m\u001B[43m \u001B[49m\u001B[38;5;241;43m-\u001B[39;49m\u001B[43m \u001B[49m\u001B[43my1\u001B[49m\u001B[43m)\u001B[49m\u001B[43m \u001B[49m\u001B[38;5;241;43m/\u001B[39;49m\u001B[43m \u001B[49m\u001B[43m(\u001B[49m\u001B[43mx2\u001B[49m\u001B[43m \u001B[49m\u001B[38;5;241;43m-\u001B[39;49m\u001B[43m \u001B[49m\u001B[43mx1\u001B[49m\u001B[43m)\u001B[49m\n\u001B[0;32m      3\u001B[0m line_eq \u001B[38;5;241m=\u001B[39m Eq(y \u001B[38;5;241m-\u001B[39m y1, slope \u001B[38;5;241m*\u001B[39m (x \u001B[38;5;241m-\u001B[39m x1))\n",
      "\u001B[1;31mZeroDivisionError\u001B[0m: division by zero"
     ]
    }
   ],
   "execution_count": 14
  },
  {
   "metadata": {
    "ExecuteTime": {
     "end_time": "2024-04-30T07:53:01.463923Z",
     "start_time": "2024-04-30T07:53:01.460797Z"
    }
   },
   "cell_type": "code",
   "source": [
    "# Hiển thị phương trình đoạn thẳng\n",
    "display(Math('y = ' + str(slope) + 'x + ' + str(y1 - slope * x1)))"
   ],
   "id": "8c40d7f8fb882566",
   "outputs": [
    {
     "data": {
      "text/plain": [
       "<IPython.core.display.Math object>"
      ],
      "text/latex": "$\\displaystyle y = -1.0x + 4.0$"
     },
     "metadata": {},
     "output_type": "display_data"
    }
   ],
   "execution_count": 15
  },
  {
   "metadata": {},
   "cell_type": "code",
   "outputs": [],
   "execution_count": null,
   "source": "",
   "id": "dab34fe6936f198f"
  }
 ],
 "metadata": {
  "kernelspec": {
   "display_name": "Python 3",
   "language": "python",
   "name": "python3"
  },
  "language_info": {
   "codemirror_mode": {
    "name": "ipython",
    "version": 2
   },
   "file_extension": ".py",
   "mimetype": "text/x-python",
   "name": "python",
   "nbconvert_exporter": "python",
   "pygments_lexer": "ipython2",
   "version": "2.7.6"
  }
 },
 "nbformat": 4,
 "nbformat_minor": 5
}
