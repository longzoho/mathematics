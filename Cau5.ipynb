{
 "cells": [
  {
   "cell_type": "code",
   "id": "initial_id",
   "metadata": {
    "collapsed": true,
    "ExecuteTime": {
     "end_time": "2024-05-17T12:52:19.444088Z",
     "start_time": "2024-05-17T12:52:19.437685Z"
    }
   },
   "source": [
    "from IPython.display import display, Math\n",
    "import jupyter_server_mathjax\n",
    "from sympy import Matrix, latex, symbols, Derivative, solve, limit, integrate, sqrt, expand, factor, oo, root, Rational, \\\n",
    "    ln, expand_log, together, apart, trigsimp, sin, cos, tan, cot, sec, csc, simplify, exp, E, diff, tan, Integral, \\\n",
    "    Limit, Sum, factorial, Abs, Eq, solveset, S, solve_poly_system, Or, Le, Ge, Lt, Gt, And, Or\n",
    "# solve: giải phương trình\n",
    "# Derivative: đạo hàm\n",
    "# Matrix: ma trận\n",
    "# latex: hiển thị công thức toán học\n",
    "# display: hiển thị kết quả\n",
    "# symbols: khai báo biến\n",
    "# limit: giới hạn\n",
    "# integrate: tích phân\n",
    "# expand: triển khai (phân phối)\n",
    "# factor: phân tích (kết hợp)\n",
    "# oo: vô cùng\n",
    "# together: tổng hợp\n",
    "# integrate: tích phân\n",
    "# diff: đạo hàm\n",
    "# root: căn \n",
    "# e: E\n",
    "# f.subs(x, 0): thay x = 0 vào f\n",
    "# ##.function: hàm số (của đạo hàm hoặc tích phân)\n",
    "# trigsimp: rút gọn biểu thức trigonometric\n",
    "# factorial: giai thừa\n",
    "from sympy.plotting import plot, plot_implicit\n",
    "import sympy as sp\n",
    "import numpy as np\n",
    "from itertools import combinations, chain"
   ],
   "outputs": [],
   "execution_count": 64
  },
  {
   "metadata": {
    "ExecuteTime": {
     "end_time": "2024-05-17T12:52:20.547509Z",
     "start_time": "2024-05-17T12:52:19.445340Z"
    }
   },
   "cell_type": "code",
   "source": [
    "x, y = symbols('x y')\n",
    "\n",
    "# inequalities = Or(*cac_phuong_trinh)\n",
    "inequalities = And(\n",
    "    Le(x ** 2 + y ** 2, 4),\n",
    "    Ge(y, -x),\n",
    "    Ge(y, 0)\n",
    ")\n",
    "\n",
    "cac_phuong_trinh = [Eq(f.args[0],f.args[1]) for f in inequalities.args]\n",
    "solution = []\n",
    "for pair_f in combinations(cac_phuong_trinh, 2):\n",
    "    solution += solve((pair_f[0], pair_f[1]), (x, y))\n",
    "\n",
    "#filter solution with instance tuple\n",
    "solution = [f for f in solution if type(f) == tuple]\n",
    "solution = [p for p in solution if inequalities.subs({x: p[0], y: p[1]})]\n",
    "\n",
    "max_x, min_x = max([f[0] for f in solution]), min([f[0] for f in solution])\n",
    "max_y, min_y = max([f[1] for f in solution]), min([f[1] for f in solution])\n",
    "plot_min_x = (min_x + max_x) / 2 - (max_x - min_x)\n",
    "plot_max_x = (min_x + max_x) / 2 + (max_x - min_x)\n",
    "plot_min_y = (min_y + max_y) / 2 - (max_y - min_y)\n",
    "plot_max_y = (min_y + max_y) / 2 + (max_y - min_y)\n",
    "\n",
    "p1 = plot_implicit(inequalities, (x, plot_min_x, plot_max_x),\n",
    "                   (y, plot_min_y, plot_max_y), aspect_ratio=(1, 1), show=False)\n",
    "solution = list(set(solution))\n",
    "p1.show()\n",
    "display(Math(r'''\\textrm{Cac diem giao nhau} %s'''% latex(solution)))\n",
    "\n",
    "if min_x < max_x:\n",
    "    I = Integral(1, (x, min_x, max_x), (y, min_y, max_y))\n",
    "    "
   ],
   "id": "81b7e260a7185f1c",
   "outputs": [
    {
     "data": {
      "text/plain": [
       "<Figure size 640x480 with 1 Axes>"
      ],
      "image/png": "[encoded data removed]"
     },
     "metadata": {},
     "output_type": "display_data"
    },
    {
     "data": {
      "text/plain": [
       "<IPython.core.display.Math object>"
      ],
      "text/latex": "$\\displaystyle \\textrm{Cac diem giao nhau} \\left[ \\left( - \\sqrt{2}, \\  \\sqrt{2}\\right), \\  \\left( 2, \\  0\\right)\\right]$"
     },
     "metadata": {},
     "output_type": "display_data"
    }
   ],
   "execution_count": 65
  },
  {
   "metadata": {
    "ExecuteTime": {
     "end_time": "2024-05-17T12:52:20.550336Z",
     "start_time": "2024-05-17T12:52:20.548561Z"
    }
   },
   "cell_type": "code",
   "source": "",
   "id": "edb0f716e1d9ce",
   "outputs": [],
   "execution_count": 65
  }
 ],
 "metadata": {
  "kernelspec": {
   "display_name": "Python 3",
   "language": "python",
   "name": "python3"
  },
  "language_info": {
   "codemirror_mode": {
    "name": "ipython",
    "version": 2
   },
   "file_extension": ".py",
   "mimetype": "text/x-python",
   "name": "python",
   "nbconvert_exporter": "python",
   "pygments_lexer": "ipython2",
   "version": "2.7.6"
  }
 },
 "nbformat": 4,
 "nbformat_minor": 5
}
