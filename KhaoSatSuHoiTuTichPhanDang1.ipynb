{
 "cells": [
  {
   "cell_type": "code",
   "id": "initial_id",
   "metadata": {
    "collapsed": true,
    "ExecuteTime": {
     "end_time": "2024-05-05T03:37:02.929842Z",
     "start_time": "2024-05-05T03:37:02.583399Z"
    }
   },
   "source": [
    "from IPython.display import display, Math\n",
    "from sympy import Matrix, latex, symbols, Derivative, solve, limit, integrate, sqrt, expand, factor, oo, root, Rational, \\\n",
    "    ln, expand_log, together, apart, trigsimp, sin, cos, tan, cot, sec, csc, simplify, exp, E, diff, tan, Integral, \\\n",
    "    Limit\n",
    "# solve: giải phương trình\n",
    "# Derivative: đạo hàm\n",
    "# Matrix: ma trận\n",
    "# latex: hiển thị công thức toán học\n",
    "# display: hiển thị kết quả\n",
    "# symbols: khai báo biến\n",
    "# limit: giới hạn\n",
    "# integrate: tích phân\n",
    "# expand: triển khai (phân phối)\n",
    "# factor: phân tích (kết hợp)\n",
    "# oo: vô cùng\n",
    "# together: tổng hợp\n",
    "# integrate: tích phân\n",
    "# diff: đạo hàm\n",
    "# root: căn \n",
    "# e: E\n",
    "# f.subs(x, 0): thay x = 0 vào f\n",
    "# ##.function: hàm số (của đạo hàm hoặc tích phân)"
   ],
   "outputs": [],
   "execution_count": 1
  },
  {
   "metadata": {
    "ExecuteTime": {
     "end_time": "2024-05-05T03:37:02.932902Z",
     "start_time": "2024-05-05T03:37:02.930844Z"
    }
   },
   "cell_type": "code",
   "source": [
    "x, dx, b = symbols('x dx b')\n",
    "_from, _to = 0, oo"
   ],
   "id": "848b8f10eb60b924",
   "outputs": [],
   "execution_count": 2
  },
  {
   "metadata": {
    "ExecuteTime": {
     "end_time": "2024-05-05T03:37:02.966332Z",
     "start_time": "2024-05-05T03:37:02.932902Z"
    }
   },
   "cell_type": "code",
   "source": [
    "I = Integral(E ** (-root(x, 2)), (x, _from, _to))\n",
    "display(Math('I=' + latex(I)))"
   ],
   "id": "613b83d1b2058316",
   "outputs": [
    {
     "data": {
      "text/plain": [
       "<IPython.core.display.Math object>"
      ],
      "text/latex": "$\\displaystyle I=\\int\\limits_{0}^{\\infty} e^{- \\sqrt{x}}\\, dx$"
     },
     "metadata": {},
     "output_type": "display_data"
    }
   ],
   "execution_count": 3
  },
  {
   "metadata": {
    "ExecuteTime": {
     "end_time": "2024-05-05T03:37:03.077182Z",
     "start_time": "2024-05-05T03:37:02.967337Z"
    }
   },
   "cell_type": "code",
   "source": "display(Math('\\\\textrm{Kiểm tra: I =} %s' % latex(I.doit())))",
   "id": "ff8d295a87006156",
   "outputs": [
    {
     "data": {
      "text/plain": [
       "<IPython.core.display.Math object>"
      ],
      "text/latex": "$\\displaystyle \\textrm{Kiểm tra: I =} 2$"
     },
     "metadata": {},
     "output_type": "display_data"
    }
   ],
   "execution_count": 4
  },
  {
   "metadata": {
    "ExecuteTime": {
     "end_time": "2024-05-05T03:37:03.081103Z",
     "start_time": "2024-05-05T03:37:03.077182Z"
    }
   },
   "cell_type": "code",
   "source": [
    "F = I.function\n",
    "J = Integral(F, (x, _from, b))\n",
    "display(Math('\\\\textrm{Ta xét J=}%s'%latex(J)))"
   ],
   "id": "20b079427472d1c1",
   "outputs": [
    {
     "data": {
      "text/plain": [
       "<IPython.core.display.Math object>"
      ],
      "text/latex": "$\\displaystyle \\textrm{Ta xét J=}\\int\\limits_{0}^{b} e^{- \\sqrt{x}}\\, dx$"
     },
     "metadata": {},
     "output_type": "display_data"
    }
   ],
   "execution_count": 5
  },
  {
   "metadata": {
    "ExecuteTime": {
     "end_time": "2024-05-05T03:37:03.329968Z",
     "start_time": "2024-05-05T03:37:03.081103Z"
    }
   },
   "cell_type": "code",
   "source": [
    "display(Math('\\\\textrm{J =} %s\\\\textrm{ = }%s|_{%s}^{%s}\\\\textrm{ = }%s' % (\n",
    "latex(J), latex(integrate(J.function, x)), _from, b, latex(J.doit()))))\n",
    "J1=J.doit()"
   ],
   "id": "1c537fd4ee63f85",
   "outputs": [
    {
     "data": {
      "text/plain": [
       "<IPython.core.display.Math object>"
      ],
      "text/latex": "$\\displaystyle \\textrm{J =} \\int\\limits_{0}^{b} e^{- \\sqrt{x}}\\, dx\\textrm{ = }- 2 \\sqrt{x} e^{- \\sqrt{x}} - 2 e^{- \\sqrt{x}}|_{0}^{b}\\textrm{ = }- 2 \\sqrt{b} e^{- \\sqrt{b}} + 2 - 2 e^{- \\sqrt{b}}$"
     },
     "metadata": {},
     "output_type": "display_data"
    }
   ],
   "execution_count": 6
  },
  {
   "metadata": {
    "ExecuteTime": {
     "end_time": "2024-05-05T03:37:03.394954Z",
     "start_time": "2024-05-05T03:37:03.329968Z"
    }
   },
   "cell_type": "code",
   "source": [
    "L = Limit(J1, b, oo)\n",
    "display(Math('\\\\textrm{L = }%s\\\\textrm{ = }%s' % (latex(L), latex(L.doit()))))"
   ],
   "id": "10eeee7b60fa4520",
   "outputs": [
    {
     "data": {
      "text/plain": [
       "<IPython.core.display.Math object>"
      ],
      "text/latex": "$\\displaystyle \\textrm{L = }\\lim_{b \\to \\infty}\\left(- 2 \\sqrt{b} e^{- \\sqrt{b}} + 2 - 2 e^{- \\sqrt{b}}\\right)\\textrm{ = }2$"
     },
     "metadata": {},
     "output_type": "display_data"
    }
   ],
   "execution_count": 7
  },
  {
   "metadata": {},
   "cell_type": "markdown",
   "source": [
    "$ \n",
    "$$\\textrm{Nếu L = giá trị cụ thể => hội tụ}$$\n",
    "$"
   ],
   "id": "96867cd027263cf5"
  }
 ],
 "metadata": {
  "kernelspec": {
   "display_name": "Python 3",
   "language": "python",
   "name": "python3"
  },
  "language_info": {
   "codemirror_mode": {
    "name": "ipython",
    "version": 2
   },
   "file_extension": ".py",
   "mimetype": "text/x-python",
   "name": "python",
   "nbconvert_exporter": "python",
   "pygments_lexer": "ipython2",
   "version": "2.7.6"
  }
 },
 "nbformat": 4,
 "nbformat_minor": 5
}
