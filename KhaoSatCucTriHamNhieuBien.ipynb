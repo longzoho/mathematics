{
 "cells": [
  {
   "cell_type": "code",
   "id": "initial_id",
   "metadata": {
    "ExecuteTime": {
     "end_time": "2024-05-12T07:52:41.057530Z",
     "start_time": "2024-05-12T07:52:41.051907Z"
    }
   },
   "source": [
    "from IPython.display import display, Math\n",
    "import jupyter_server_mathjax\n",
    "from sympy import Matrix, latex, symbols, Derivative, solve, limit, integrate, sqrt, expand, factor, oo, root, Rational, \\\n",
    "    ln, expand_log, together, apart, trigsimp, sin, cos, tan, cot, sec, csc, simplify, exp, E, diff, tan, Integral, \\\n",
    "    Limit, Sum, factorial, Abs, Eq, solveset, S\n",
    "# solve: giải phương trình\n",
    "# Derivative: đạo hàm\n",
    "# Matrix: ma trận\n",
    "# latex: hiển thị công thức toán học\n",
    "# display: hiển thị kết quả\n",
    "# symbols: khai báo biến\n",
    "# limit: giới hạn\n",
    "# integrate: tích phân\n",
    "# expand: triển khai (phân phối)\n",
    "# factor: phân tích (kết hợp)\n",
    "# oo: vô cùng\n",
    "# together: tổng hợp\n",
    "# integrate: tích phân\n",
    "# diff: đạo hàm\n",
    "# root: căn \n",
    "# e: E\n",
    "# f.subs(x, 0): thay x = 0 vào f\n",
    "# ##.function: hàm số (của đạo hàm hoặc tích phân)\n",
    "# trigsimp: rút gọn biểu thức trigonometric\n",
    "# factorial: giai thừa"
   ],
   "outputs": [],
   "execution_count": 34
  },
  {
   "metadata": {
    "ExecuteTime": {
     "end_time": "2024-05-12T07:52:41.075265Z",
     "start_time": "2024-05-12T07:52:41.060853Z"
    }
   },
   "cell_type": "code",
   "source": [
    "def khao_sat_cuc_tri(f, x, y):\n",
    "    s = []\n",
    "    s += [r'''\\textrm{Khao sat cuc tri cua ham so }F = %s''' % latex(f)]\n",
    "\n",
    "    f_x_diff = diff(f, x)\n",
    "    f_y_diff = diff(f, y)\n",
    "    s += [r'''\n",
    "    \\begin{cases}\n",
    "        f_x' = (%s)_x'= %s \\\\\n",
    "        f_y' = (%s)_y' = %s\n",
    "        \\end{cases}\n",
    "    ''' % (latex(f), latex(f_x_diff), latex(f), latex(f_y_diff))]\n",
    "\n",
    "    eq1 = Eq(f_x_diff, 0)\n",
    "    eq2 = Eq(f_y_diff, 0)\n",
    "    nghiems = [sol for sol in solve((eq1, eq2), (x, y), domain=S.Reals) if all(sol[i].is_real for i in range(2))]\n",
    "    s += [r'''\\textrm{Giai he phuong trinh}''']\n",
    "    s += [r'''\\begin{cases}\n",
    "        %s \\\\\n",
    "        %s\n",
    "        \\end{cases}\n",
    "    ''' % (latex(eq1), latex(eq2))]\n",
    "\n",
    "    s += [r'''\\textrm{Phương trình có các nghiệm: } %s\n",
    "    ''' % ', '.join([latex(nghiem) for nghiem in nghiems])]\n",
    "\n",
    "    f_A = diff(f_x_diff, x)\n",
    "    f_B = diff(f_x_diff, y)\n",
    "    f_C = diff(f_y_diff, y)\n",
    "    s += [r'''\n",
    "    \\begin{cases}\n",
    "        f_{xx}'' = %s \\\\\n",
    "        f_{xy}'' = %s \\\\\n",
    "        f_{yy}'' = %s\n",
    "        \\end{cases}\n",
    "        ''' % (latex(f_A), latex(f_B), latex(f_C))]\n",
    "\n",
    "    for nghiem in nghiems:\n",
    "        A = f_A.subs(x, nghiem[0]).subs(y, nghiem[1])\n",
    "        B = f_B.subs(x, nghiem[0]).subs(y, nghiem[1])\n",
    "        C = f_C.subs(x, nghiem[0]).subs(y, nghiem[1])\n",
    "        DELTA = B ** 2 - A * C\n",
    "        s += [r'''\\textrm{Xét tại điểm } %s''' % latex(nghiem)]\n",
    "        s += [r'''\\begin{cases}\n",
    "                A  = f_{xx}''%s = %s \\\\\n",
    "                B = f_{xy}''%s = %s \\\\\n",
    "                C = f_{yy}''%s = %s\n",
    "                \\end{cases}\n",
    "            ''' % (latex(nghiem), latex(A), latex(nghiem), latex(B), latex(nghiem), latex(C))]\n",
    "        s += [r'''\\Delta = B^2 - AC = %s^2 - %s \\times %s = %s\n",
    "            ''' % (latex(B), latex(A), latex(C), latex(DELTA))]\n",
    "        if DELTA > 0:\n",
    "            s += [r'''\\Delta > 0 \\Rightarrow %s \\textrm{ khong phai la cuc tri cua F}''' % latex(nghiem)]\n",
    "        elif DELTA < 0:\n",
    "            if A < 0:\n",
    "                s += [r'''\\Delta < 0, A > 0 \\Rightarrow %s \\textrm{ la cuc dai cua F}''' % latex(nghiem)]\n",
    "            elif A > 0:\n",
    "                s += [r'''\\Delta < 0, A < 0 \\Rightarrow %s \\textrm{la cuc tieu cua F}''' % latex(nghiem)]\n",
    "        else:\n",
    "            s += [r'''\\Delta = 0 \\Rightarrow \\textrm{Xem cach giai trong tai lieu }''']\n",
    "    return s"
   ],
   "id": "ffe6dbecde4c8a8e",
   "outputs": [],
   "execution_count": 35
  },
  {
   "cell_type": "code",
   "id": "4bb27d7d5bc4a1f0",
   "metadata": {
    "ExecuteTime": {
     "end_time": "2024-05-12T07:52:41.100524Z",
     "start_time": "2024-05-12T07:52:41.076601Z"
    }
   },
   "source": [
    "x, y = symbols('x y')\n",
    "f = y ** 3 - 12 * x * y + 6 * x ** 2 - 36 * x + 7\n",
    "\n",
    "s = khao_sat_cuc_tri(f, x, y)\n",
    "for _s in s: display(Math(_s))"
   ],
   "outputs": [
    {
     "data": {
      "text/plain": [
       "<IPython.core.display.Math object>"
      ],
      "text/latex": "$\\displaystyle \\textrm{Khao sat cuc tri cua ham so }F = 6 x^{2} - 12 x y - 36 x + y^{3} + 7$"
     },
     "metadata": {},
     "output_type": "display_data"
    },
    {
     "data": {
      "text/plain": [
       "<IPython.core.display.Math object>"
      ],
      "text/latex": "$\\displaystyle \n    \\begin{cases}\n        f_x' = (6 x^{2} - 12 x y - 36 x + y^{3} + 7)_x'= 12 x - 12 y - 36 \\\\\n        f_y' = (6 x^{2} - 12 x y - 36 x + y^{3} + 7)_y' = - 12 x + 3 y^{2}\n        \\end{cases}\n    $"
     },
     "metadata": {},
     "output_type": "display_data"
    },
    {
     "data": {
      "text/plain": [
       "<IPython.core.display.Math object>"
      ],
      "text/latex": "$\\displaystyle \\textrm{Giai he phuong trinh}$"
     },
     "metadata": {},
     "output_type": "display_data"
    },
    {
     "data": {
      "text/plain": [
       "<IPython.core.display.Math object>"
      ],
      "text/latex": "$\\displaystyle \\begin{cases}\n        12 x - 12 y - 36 = 0 \\\\\n        - 12 x + 3 y^{2} = 0\n        \\end{cases}\n    $"
     },
     "metadata": {},
     "output_type": "display_data"
    },
    {
     "data": {
      "text/plain": [
       "<IPython.core.display.Math object>"
      ],
      "text/latex": "$\\displaystyle \\textrm{Phương trình có các nghiệm: } \\left( 1, \\  -2\\right), \\left( 9, \\  6\\right)\n    $"
     },
     "metadata": {},
     "output_type": "display_data"
    },
    {
     "data": {
      "text/plain": [
       "<IPython.core.display.Math object>"
      ],
      "text/latex": "$\\displaystyle \n    \\begin{cases}\n        f_{xx}'' = 12 \\\\\n        f_{xy}'' = -12 \\\\\n        f_{yy}'' = 6 y\n        \\end{cases}\n        $"
     },
     "metadata": {},
     "output_type": "display_data"
    },
    {
     "data": {
      "text/plain": [
       "<IPython.core.display.Math object>"
      ],
      "text/latex": "$\\displaystyle \\textrm{Xét tại điểm } \\left( 1, \\  -2\\right)$"
     },
     "metadata": {},
     "output_type": "display_data"
    },
    {
     "data": {
      "text/plain": [
       "<IPython.core.display.Math object>"
      ],
      "text/latex": "$\\displaystyle \\begin{cases}\n                A  = f_{xx}''\\left( 1, \\  -2\\right) = 12 \\\\\n                B = f_{xy}''\\left( 1, \\  -2\\right) = -12 \\\\\n                C = f_{yy}''\\left( 1, \\  -2\\right) = -12\n                \\end{cases}\n            $"
     },
     "metadata": {},
     "output_type": "display_data"
    },
    {
     "data": {
      "text/plain": [
       "<IPython.core.display.Math object>"
      ],
      "text/latex": "$\\displaystyle \\Delta = B^2 - AC = -12^2 - 12 \\times -12 = 288\n            $"
     },
     "metadata": {},
     "output_type": "display_data"
    },
    {
     "data": {
      "text/plain": [
       "<IPython.core.display.Math object>"
      ],
      "text/latex": "$\\displaystyle \\Delta > 0 \\Rightarrow \\left( 1, \\  -2\\right) \\textrm{ khong phai la cuc tri cua F}$"
     },
     "metadata": {},
     "output_type": "display_data"
    },
    {
     "data": {
      "text/plain": [
       "<IPython.core.display.Math object>"
      ],
      "text/latex": "$\\displaystyle \\textrm{Xét tại điểm } \\left( 9, \\  6\\right)$"
     },
     "metadata": {},
     "output_type": "display_data"
    },
    {
     "data": {
      "text/plain": [
       "<IPython.core.display.Math object>"
      ],
      "text/latex": "$\\displaystyle \\begin{cases}\n                A  = f_{xx}''\\left( 9, \\  6\\right) = 12 \\\\\n                B = f_{xy}''\\left( 9, \\  6\\right) = -12 \\\\\n                C = f_{yy}''\\left( 9, \\  6\\right) = 36\n                \\end{cases}\n            $"
     },
     "metadata": {},
     "output_type": "display_data"
    },
    {
     "data": {
      "text/plain": [
       "<IPython.core.display.Math object>"
      ],
      "text/latex": "$\\displaystyle \\Delta = B^2 - AC = -12^2 - 12 \\times 36 = -288\n            $"
     },
     "metadata": {},
     "output_type": "display_data"
    },
    {
     "data": {
      "text/plain": [
       "<IPython.core.display.Math object>"
      ],
      "text/latex": "$\\displaystyle \\Delta < 0, A < 0 \\Rightarrow \\left( 9, \\  6\\right) \\textrm{la cuc tieu cua F}$"
     },
     "metadata": {},
     "output_type": "display_data"
    }
   ],
   "execution_count": 36
  }
 ],
 "metadata": {
  "kernelspec": {
   "display_name": "Python 3 (ipykernel)",
   "language": "python",
   "name": "python3"
  },
  "language_info": {
   "codemirror_mode": {
    "name": "ipython",
    "version": 3
   },
   "file_extension": ".py",
   "mimetype": "text/x-python",
   "name": "python",
   "nbconvert_exporter": "python",
   "pygments_lexer": "ipython3",
   "version": "3.10.12"
  }
 },
 "nbformat": 4,
 "nbformat_minor": 5
}
