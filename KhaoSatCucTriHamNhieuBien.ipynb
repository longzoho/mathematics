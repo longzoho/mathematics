{
 "cells": [
  {
   "cell_type": "code",
   "execution_count": 1,
   "id": "initial_id",
   "metadata": {
    "ExecuteTime": {
     "end_time": "2024-05-12T01:41:20.354478Z",
     "start_time": "2024-05-12T01:41:20.030549Z"
    }
   },
   "outputs": [],
   "source": [
    "from IPython.display import display, Math\n",
    "import jupyter_server_mathjax\n",
    "from sympy import Matrix, latex, symbols, Derivative, solve, limit, integrate, sqrt, expand, factor, oo, root, Rational, \\\n",
    "    ln, expand_log, together, apart, trigsimp, sin, cos, tan, cot, sec, csc, simplify, exp, E, diff, tan, Integral, \\\n",
    "    Limit, Sum, factorial, Abs, Eq, solveset, S\n",
    "# solve: giải phương trình\n",
    "# Derivative: đạo hàm\n",
    "# Matrix: ma trận\n",
    "# latex: hiển thị công thức toán học\n",
    "# display: hiển thị kết quả\n",
    "# symbols: khai báo biến\n",
    "# limit: giới hạn\n",
    "# integrate: tích phân\n",
    "# expand: triển khai (phân phối)\n",
    "# factor: phân tích (kết hợp)\n",
    "# oo: vô cùng\n",
    "# together: tổng hợp\n",
    "# integrate: tích phân\n",
    "# diff: đạo hàm\n",
    "# root: căn \n",
    "# e: E\n",
    "# f.subs(x, 0): thay x = 0 vào f\n",
    "# ##.function: hàm số (của đạo hàm hoặc tích phân)\n",
    "# trigsimp: rút gọn biểu thức trigonometric\n",
    "# factorial: giai thừa"
   ]
  },
  {
   "cell_type": "code",
   "execution_count": 2,
   "id": "4bb27d7d5bc4a1f0",
   "metadata": {
    "ExecuteTime": {
     "end_time": "2024-05-12T01:46:47.051015Z",
     "start_time": "2024-05-12T01:46:46.971466Z"
    }
   },
   "outputs": [
    {
     "data": {
      "text/latex": [
       "$\\displaystyle x^{4} - 4 x y + y^{4} + 3$"
      ],
      "text/plain": [
       "<IPython.core.display.Math object>"
      ]
     },
     "metadata": {},
     "output_type": "display_data"
    },
    {
     "data": {
      "text/latex": [
       "$\\displaystyle \n",
       "\\begin{cases}\n",
       "    f_x' = (x^{4} - 4 x y + y^{4} + 3)_x'= 4 x^{3} - 4 y \\\\\n",
       "    f_y' = (x^{4} - 4 x y + y^{4} + 3)_y' = - 4 x + 4 y^{3}\n",
       "    \\end{cases}\n",
       "$"
      ],
      "text/plain": [
       "<IPython.core.display.Math object>"
      ]
     },
     "metadata": {},
     "output_type": "display_data"
    },
    {
     "data": {
      "text/latex": [
       "$\\displaystyle \n",
       "\\textrm{Giải hệ phương trình} \\\\\n",
       "\\begin{cases}\n",
       "    4 x^{3} - 4 y = 0 \\\\\n",
       "    - 4 x + 4 y^{3} = 0\n",
       "    \\end{cases}\n",
       "$"
      ],
      "text/plain": [
       "<IPython.core.display.Math object>"
      ]
     },
     "metadata": {},
     "output_type": "display_data"
    },
    {
     "data": {
      "text/latex": [
       "$\\displaystyle \\textrm{Phương trình có các nghiệm: } \\left( -1, \\  -1\\right), \\left( 0, \\  0\\right), \\left( 1, \\  1\\right)\n",
       "$"
      ],
      "text/plain": [
       "<IPython.core.display.Math object>"
      ]
     },
     "metadata": {},
     "output_type": "display_data"
    },
    {
     "data": {
      "text/latex": [
       "$\\displaystyle \n",
       "\\begin{cases}\n",
       "    f_{xx}'' = 12 x^{2} \\\\\n",
       "    f_{xy}'' = -4 \\\\\n",
       "    f_{yy}'' = 12 y^{2}\n",
       "    \\end{cases}\n",
       "    $"
      ],
      "text/plain": [
       "<IPython.core.display.Math object>"
      ]
     },
     "metadata": {},
     "output_type": "display_data"
    },
    {
     "ename": "TypeError",
     "evalue": "cannot unpack non-iterable NegativeOne object",
     "output_type": "error",
     "traceback": [
      "\u001b[0;31m---------------------------------------------------------------------------\u001b[0m",
      "\u001b[0;31mTypeError\u001b[0m                                 Traceback (most recent call last)",
      "Cell \u001b[0;32mIn[2], line 50\u001b[0m\n\u001b[1;32m     41\u001b[0m B \u001b[38;5;241m=\u001b[39m f_B\u001b[38;5;241m.\u001b[39msubs(x, nghiem[\u001b[38;5;241m0\u001b[39m])\u001b[38;5;241m.\u001b[39msubs(y, nghiem[\u001b[38;5;241m1\u001b[39m])\n\u001b[1;32m     42\u001b[0m C \u001b[38;5;241m=\u001b[39m f_C\u001b[38;5;241m.\u001b[39msubs(x, nghiem[\u001b[38;5;241m0\u001b[39m])\u001b[38;5;241m.\u001b[39msubs(y, nghiem[\u001b[38;5;241m1\u001b[39m])\n\u001b[1;32m     43\u001b[0m display(Math(\u001b[38;5;124mr\u001b[39m\u001b[38;5;124m'''\u001b[39m\n\u001b[1;32m     44\u001b[0m \u001b[38;5;124m\u001b[39m\u001b[38;5;124m\\\u001b[39m\u001b[38;5;124mtextrm\u001b[39m\u001b[38;5;124m{\u001b[39m\u001b[38;5;124mXét tại điểm } \u001b[39m\u001b[38;5;132;01m%s\u001b[39;00m\u001b[38;5;124m \u001b[39m\u001b[38;5;124m\\\u001b[39m\u001b[38;5;124m\\\u001b[39m\n\u001b[1;32m     45\u001b[0m \u001b[38;5;124m\u001b[39m\u001b[38;5;124m\\\u001b[39m\u001b[38;5;124mbegin\u001b[39m\u001b[38;5;132;01m{cases}\u001b[39;00m\n\u001b[1;32m     46\u001b[0m \u001b[38;5;124m    A  = f_\u001b[39m\u001b[38;5;132;01m{xx}\u001b[39;00m\u001b[38;5;124m'\u001b[39m\u001b[38;5;124m'\u001b[39m\u001b[38;5;132;01m%s\u001b[39;00m\u001b[38;5;124m = \u001b[39m\u001b[38;5;132;01m%s\u001b[39;00m\u001b[38;5;124m \u001b[39m\u001b[38;5;124m\\\u001b[39m\u001b[38;5;124m\\\u001b[39m\n\u001b[1;32m     47\u001b[0m \u001b[38;5;124m    B = f_\u001b[39m\u001b[38;5;132;01m{xy}\u001b[39;00m\u001b[38;5;124m'\u001b[39m\u001b[38;5;124m'\u001b[39m\u001b[38;5;132;01m%s\u001b[39;00m\u001b[38;5;124m = \u001b[39m\u001b[38;5;132;01m%s\u001b[39;00m\u001b[38;5;124m \u001b[39m\u001b[38;5;124m\\\u001b[39m\u001b[38;5;124m\\\u001b[39m\n\u001b[1;32m     48\u001b[0m \u001b[38;5;124m    C = f_\u001b[39m\u001b[38;5;132;01m{yy}\u001b[39;00m\u001b[38;5;124m'\u001b[39m\u001b[38;5;124m'\u001b[39m\u001b[38;5;132;01m%s\u001b[39;00m\u001b[38;5;124m = \u001b[39m\u001b[38;5;132;01m%s\u001b[39;00m\n\u001b[1;32m     49\u001b[0m \u001b[38;5;124m    \u001b[39m\u001b[38;5;124m\\\u001b[39m\u001b[38;5;124mend\u001b[39m\u001b[38;5;132;01m{cases}\u001b[39;00m\n\u001b[0;32m---> 50\u001b[0m \u001b[38;5;124m\u001b[39m\u001b[38;5;124m'''\u001b[39m \u001b[38;5;241m%\u001b[39m (latex(nghiem), latex(nghiem),latex(\u001b[43mf_A\u001b[49m\u001b[38;5;241;43m.\u001b[39;49m\u001b[43msubs\u001b[49m\u001b[43m(\u001b[49m\u001b[43mnghiem\u001b[49m\u001b[43m)\u001b[49m), latex(nghiem),latex(f_B\u001b[38;5;241m.\u001b[39msubs(nghiem)),latex(nghiem), latex(f_C\u001b[38;5;241m.\u001b[39msubs(nghiem)))))\n",
      "File \u001b[0;32m~/PycharmProjects/mathematics/.venv/lib/python3.10/site-packages/sympy/core/basic.py:991\u001b[0m, in \u001b[0;36mBasic.subs\u001b[0;34m(self, *args, **kwargs)\u001b[0m\n\u001b[1;32m    988\u001b[0m     \u001b[38;5;28;01melse\u001b[39;00m:\n\u001b[1;32m    989\u001b[0m         \u001b[38;5;28;01mreturn\u001b[39;00m sympify(new, strict\u001b[38;5;241m=\u001b[39m\u001b[38;5;28;01mTrue\u001b[39;00m)\n\u001b[0;32m--> 991\u001b[0m sequence \u001b[38;5;241m=\u001b[39m [(sympify_old(s1), sympify_new(s2)) \u001b[38;5;28;01mfor\u001b[39;00m s1, s2 \u001b[38;5;129;01min\u001b[39;00m sequence]\n\u001b[1;32m    993\u001b[0m \u001b[38;5;66;03m# skip if there is no change\u001b[39;00m\n\u001b[1;32m    994\u001b[0m sequence \u001b[38;5;241m=\u001b[39m [(s1, s2) \u001b[38;5;28;01mfor\u001b[39;00m s1, s2 \u001b[38;5;129;01min\u001b[39;00m sequence \u001b[38;5;28;01mif\u001b[39;00m \u001b[38;5;129;01mnot\u001b[39;00m _aresame(s1, s2)]\n",
      "File \u001b[0;32m~/PycharmProjects/mathematics/.venv/lib/python3.10/site-packages/sympy/core/basic.py:991\u001b[0m, in \u001b[0;36m<listcomp>\u001b[0;34m(.0)\u001b[0m\n\u001b[1;32m    988\u001b[0m     \u001b[38;5;28;01melse\u001b[39;00m:\n\u001b[1;32m    989\u001b[0m         \u001b[38;5;28;01mreturn\u001b[39;00m sympify(new, strict\u001b[38;5;241m=\u001b[39m\u001b[38;5;28;01mTrue\u001b[39;00m)\n\u001b[0;32m--> 991\u001b[0m sequence \u001b[38;5;241m=\u001b[39m [(sympify_old(s1), sympify_new(s2)) \u001b[38;5;28;01mfor\u001b[39;00m s1, s2 \u001b[38;5;129;01min\u001b[39;00m sequence]\n\u001b[1;32m    993\u001b[0m \u001b[38;5;66;03m# skip if there is no change\u001b[39;00m\n\u001b[1;32m    994\u001b[0m sequence \u001b[38;5;241m=\u001b[39m [(s1, s2) \u001b[38;5;28;01mfor\u001b[39;00m s1, s2 \u001b[38;5;129;01min\u001b[39;00m sequence \u001b[38;5;28;01mif\u001b[39;00m \u001b[38;5;129;01mnot\u001b[39;00m _aresame(s1, s2)]\n",
      "\u001b[0;31mTypeError\u001b[0m: cannot unpack non-iterable NegativeOne object"
     ]
    }
   ],
   "source": [
    "x, y = symbols('x y')\n",
    "f = x ** 4 + y ** 4 - 4 * x * y + 3\n",
    "display(Math(latex(f)))\n",
    "\n",
    "f_x_diff = diff(f, x)\n",
    "f_y_diff = diff(f, y)\n",
    "display(Math(r'''\n",
    "\\begin{cases}\n",
    "    f_x' = (%s)_x'= %s \\\\\n",
    "    f_y' = (%s)_y' = %s\n",
    "    \\end{cases}\n",
    "''' % (latex(f), latex(f_x_diff), latex(f), latex(f_y_diff))))\n",
    "\n",
    "eq1 = Eq(f_x_diff, 0)\n",
    "eq2 = Eq(f_y_diff, 0)\n",
    "nghiems = [sol for sol in solve((eq1, eq2), (x, y), domain=S.Reals) if all(sol[i].is_real for i in range(2))]\n",
    "display(Math(r'''\n",
    "\\textrm{Giải hệ phương trình} \\\\\n",
    "\\begin{cases}\n",
    "    %s \\\\\n",
    "    %s\n",
    "    \\end{cases}\n",
    "''' % (latex(eq1), latex(eq2))))\n",
    "\n",
    "display(Math(r'''\\textrm{Phương trình có các nghiệm: } %s\n",
    "''' % ', '.join([latex(nghiem) for nghiem in nghiems])))\n",
    "\n",
    "f_A = diff(f_x_diff, x)\n",
    "f_B = diff(f_x_diff, y)\n",
    "f_C = diff(f_y_diff, y)\n",
    "display(Math(r'''\n",
    "\\begin{cases}\n",
    "    f_{xx}'' = %s \\\\\n",
    "    f_{xy}'' = %s \\\\\n",
    "    f_{yy}'' = %s\n",
    "    \\end{cases}\n",
    "    ''' % (latex(f_A), latex(f_B), latex(f_C))))\n",
    "\n",
    "for nghiem in nghiems:\n",
    "    A = f_A.subs(x, nghiem[0]).subs(y, nghiem[1])\n",
    "    B = f_B.subs(x, nghiem[0]).subs(y, nghiem[1])\n",
    "    C = f_C.subs(x, nghiem[0]).subs(y, nghiem[1])\n",
    "    display(Math(r'''\n",
    "    \\textrm{Xét tại điểm } %s \\\\\n",
    "    \\begin{cases}\n",
    "        A  = f_{xx}''%s = %s \\\\\n",
    "        B = f_{xy}''%s = %s \\\\\n",
    "        C = f_{yy}''%s = %s\n",
    "        \\end{cases}\n",
    "    ''' % (latex(nghiem), latex(nghiem),latex(f_A.subs(nghiem)), latex(nghiem),latex(f_B.subs(nghiem)),latex(nghiem), latex(f_C.subs(nghiem)))))\n"
   ]
  },
  {
   "cell_type": "code",
   "execution_count": null,
   "id": "c0e2c78a8bfadac6",
   "metadata": {},
   "outputs": [],
   "source": [
    "\n",
    "    display(nghiems)"
   ]
  },
  {
   "cell_type": "code",
   "execution_count": null,
   "id": "c6dca35992163ad",
   "metadata": {},
   "outputs": [],
   "source": [
    "eq1 = Eq(f_x_diff, 0)\n",
    "eq2 = Eq(f_y_diff, 0)\n",
    "nghiems = solve((eq1, eq2), (x, y))\n",
    "Math(latex(nghiems))"
   ]
  },
  {
   "cell_type": "code",
   "execution_count": null,
   "id": "c29b6840e77a9ee4",
   "metadata": {},
   "outputs": [],
   "source": []
  }
 ],
 "metadata": {
  "kernelspec": {
   "display_name": "Python 3 (ipykernel)",
   "language": "python",
   "name": "python3"
  },
  "language_info": {
   "codemirror_mode": {
    "name": "ipython",
    "version": 3
   },
   "file_extension": ".py",
   "mimetype": "text/x-python",
   "name": "python",
   "nbconvert_exporter": "python",
   "pygments_lexer": "ipython3",
   "version": "3.10.12"
  }
 },
 "nbformat": 4,
 "nbformat_minor": 5
}
