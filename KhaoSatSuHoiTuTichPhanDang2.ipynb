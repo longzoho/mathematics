{
 "cells": [
  {
   "cell_type": "code",
   "id": "initial_id",
   "metadata": {
    "collapsed": true,
    "ExecuteTime": {
     "end_time": "2024-05-10T15:51:01.463044Z",
     "start_time": "2024-05-10T15:51:01.459492Z"
    }
   },
   "source": [
    "from IPython.display import display, Math\n",
    "from sympy import Matrix, latex, symbols, Derivative, solve, limit, integrate, sqrt, expand, factor, oo, root, Rational, \\\n",
    "    ln, expand_log, together, apart, trigsimp, sin, cos, tan, cot, sec, csc, simplify, exp, E, diff, tan, Integral, \\\n",
    "    Limit\n",
    "# solve: giải phương trình\n",
    "# Derivative: đạo hàm\n",
    "# Matrix: ma trận\n",
    "# latex: hiển thị công thức toán học\n",
    "# display: hiển thị kết quả\n",
    "# symbols: khai báo biến\n",
    "# limit: giới hạn\n",
    "# integrate: tích phân\n",
    "# expand: triển khai (phân phối)\n",
    "# factor: phân tích (kết hợp)\n",
    "# oo: vô cùng\n",
    "# together: tổng hợp\n",
    "# integrate: tích phân\n",
    "# diff: đạo hàm\n",
    "# root: căn \n",
    "# e: E\n",
    "# f.subs(x, 0): thay x = 0 vào f\n",
    "# ##.function: hàm số (của đạo hàm hoặc tích phân)"
   ],
   "outputs": [],
   "execution_count": 20
  },
  {
   "metadata": {
    "ExecuteTime": {
     "end_time": "2024-05-10T15:51:01.509140Z",
     "start_time": "2024-05-10T15:51:01.506331Z"
    }
   },
   "cell_type": "code",
   "source": [
    "x,  b = symbols('x b')\n",
    "_from, _to = 0, 1"
   ],
   "id": "848b8f10eb60b924",
   "outputs": [],
   "execution_count": 21
  },
  {
   "metadata": {
    "ExecuteTime": {
     "end_time": "2024-05-10T15:51:01.522558Z",
     "start_time": "2024-05-10T15:51:01.518143Z"
    }
   },
   "cell_type": "code",
   "source": [
    "I = Integral((x**2+3*x+5)/(x*sin(2*x)), (x, _from, _to))\n",
    "display(Math('I=' + latex(I)))"
   ],
   "id": "613b83d1b2058316",
   "outputs": [
    {
     "data": {
      "text/plain": [
       "<IPython.core.display.Math object>"
      ],
      "text/latex": "$\\displaystyle I=\\int\\limits_{0}^{1} \\frac{x^{2} + 3 x + 5}{x \\sin{\\left(2 x \\right)}}\\, dx$"
     },
     "metadata": {},
     "output_type": "display_data"
    }
   ],
   "execution_count": 22
  },
  {
   "metadata": {
    "ExecuteTime": {
     "end_time": "2024-05-10T15:58:48.058925Z",
     "start_time": "2024-05-10T15:58:48.054226Z"
    }
   },
   "cell_type": "code",
   "source": [
    "J = Integral((x**2+3*x+5)/x, (x, _from, _to))\n",
    "display(Math('J=' + latex(J)))"
   ],
   "id": "683559740b7d237e",
   "outputs": [
    {
     "data": {
      "text/plain": [
       "<IPython.core.display.Math object>"
      ],
      "text/latex": "$\\displaystyle J=\\int\\limits_{0}^{1} \\frac{x^{2} + 3 x + 5}{x}\\, dx$"
     },
     "metadata": {},
     "output_type": "display_data"
    }
   ],
   "execution_count": 27
  },
  {
   "metadata": {
    "ExecuteTime": {
     "end_time": "2024-05-10T15:59:14.168890Z",
     "start_time": "2024-05-10T15:59:14.106022Z"
    }
   },
   "cell_type": "code",
   "source": "display(Math('\\\\textrm{Kiểm tra: I > J =} %s' % latex(J.doit())))",
   "id": "ff8d295a87006156",
   "outputs": [
    {
     "data": {
      "text/plain": [
       "<IPython.core.display.Math object>"
      ],
      "text/latex": "$\\displaystyle \\textrm{Kiểm tra: I > J =} \\infty$"
     },
     "metadata": {},
     "output_type": "display_data"
    }
   ],
   "execution_count": 28
  },
  {
   "metadata": {
    "ExecuteTime": {
     "end_time": "2024-05-10T15:59:40.105965Z",
     "start_time": "2024-05-10T15:59:40.102561Z"
    }
   },
   "cell_type": "code",
   "source": [
    "F = J.function\n",
    "K = Integral(F, (x, b, _to))\n",
    "display(Math('\\\\textrm{Ta xét K=}%s'%latex(K)))"
   ],
   "id": "20b079427472d1c1",
   "outputs": [
    {
     "data": {
      "text/plain": [
       "<IPython.core.display.Math object>"
      ],
      "text/latex": "$\\displaystyle \\textrm{Ta xét K=}\\int\\limits_{b}^{1} \\frac{x^{2} + 3 x + 5}{x}\\, dx$"
     },
     "metadata": {},
     "output_type": "display_data"
    }
   ],
   "execution_count": 29
  },
  {
   "metadata": {
    "ExecuteTime": {
     "end_time": "2024-05-10T16:00:31.784986Z",
     "start_time": "2024-05-10T16:00:31.750091Z"
    }
   },
   "cell_type": "code",
   "source": [
    "display(Math('\\\\textrm{K =} %s\\\\textrm{ = }%s|_{%s}^{%s}\\\\textrm{ = }%s' % (\n",
    "latex(K), latex(integrate(K.function, x)), b, _to, latex(K.doit()))))\n",
    "K1=K.doit()"
   ],
   "id": "1c537fd4ee63f85",
   "outputs": [
    {
     "data": {
      "text/plain": [
       "<IPython.core.display.Math object>"
      ],
      "text/latex": "$\\displaystyle \\textrm{K =} \\int\\limits_{b}^{1} \\frac{x^{2} + 3 x + 5}{x}\\, dx\\textrm{ = }\\frac{x^{2}}{2} + 3 x + 5 \\log{\\left(x \\right)}|_{b}^{1}\\textrm{ = }- \\frac{b^{2}}{2} - 3 b - 5 \\log{\\left(b \\right)} + \\frac{7}{2}$"
     },
     "metadata": {},
     "output_type": "display_data"
    }
   ],
   "execution_count": 30
  },
  {
   "metadata": {
    "ExecuteTime": {
     "end_time": "2024-05-10T16:02:50.418202Z",
     "start_time": "2024-05-10T16:02:50.413060Z"
    }
   },
   "cell_type": "code",
   "source": [
    "L = Limit(K1, b, 0)\n",
    "display(Math('\\\\textrm{L = }%s\\\\textrm{ = }%s' % (latex(K1), latex(K1.doit()))))"
   ],
   "id": "10eeee7b60fa4520",
   "outputs": [
    {
     "data": {
      "text/plain": [
       "<IPython.core.display.Math object>"
      ],
      "text/latex": "$\\displaystyle \\textrm{L = }- \\frac{b^{2}}{2} - 3 b - 5 \\log{\\left(b \\right)} + \\frac{7}{2}\\textrm{ = }- \\frac{b^{2}}{2} - 3 b - 5 \\log{\\left(b \\right)} + \\frac{7}{2}$"
     },
     "metadata": {},
     "output_type": "display_data"
    }
   ],
   "execution_count": 32
  },
  {
   "metadata": {},
   "cell_type": "markdown",
   "source": [
    "$ \n",
    "$$\\textrm{Nếu L = giá trị cụ thể => hội tụ}$$\n",
    "$"
   ],
   "id": "96867cd027263cf5"
  }
 ],
 "metadata": {
  "kernelspec": {
   "display_name": "Python 3",
   "language": "python",
   "name": "python3"
  },
  "language_info": {
   "codemirror_mode": {
    "name": "ipython",
    "version": 2
   },
   "file_extension": ".py",
   "mimetype": "text/x-python",
   "name": "python",
   "nbconvert_exporter": "python",
   "pygments_lexer": "ipython2",
   "version": "2.7.6"
  }
 },
 "nbformat": 4,
 "nbformat_minor": 5
}
