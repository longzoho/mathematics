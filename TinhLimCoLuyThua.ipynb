{
 "cells": [
  {
   "cell_type": "code",
   "execution_count": 47,
   "id": "initial_id",
   "metadata": {
    "ExecuteTime": {
     "end_time": "2024-05-12T05:04:47.946288Z",
     "start_time": "2024-05-12T05:04:47.941023Z"
    },
    "collapsed": true,
    "jupyter": {
     "outputs_hidden": true
    }
   },
   "outputs": [],
   "source": [
    "from IPython.display import display, Math\n",
    "from sympy import Matrix, latex, symbols, Derivative, solve, limit, integrate, sqrt, expand, factor, oo, root, Rational, \\\n",
    "    ln, expand_log, together, apart, trigsimp, sin, cos, tan, cot, sec, csc, simplify, exp, E, diff, tan, Limit\n",
    "# solve: giải phương trình\n",
    "# Derivative: đạo hàm\n",
    "# Matrix: ma trận\n",
    "# latex: hiển thị công thức toán học\n",
    "# display: hiển thị kết quả\n",
    "# symbols: khai báo biến\n",
    "# limit: giới hạn\n",
    "# integrate: tích phân\n",
    "# expand: triển khai (phân phối)\n",
    "# factor: phân tích (kết hợp)\n",
    "# oo: vô cùng\n",
    "# together: tổng hợp\n",
    "# integrate: tích phân\n",
    "# diff: đạo hàm\n",
    "# root: căn \n",
    "# e: E\n",
    "# f.subs(x, 0): thay x = 0 vào f"
   ]
  },
  {
   "cell_type": "code",
   "execution_count": 48,
   "id": "8a1d21419a80d5d7",
   "metadata": {
    "ExecuteTime": {
     "end_time": "2024-05-12T05:04:47.956657Z",
     "start_time": "2024-05-12T05:04:47.947590Z"
    }
   },
   "outputs": [],
   "source": [
    "def can_apply_hopital(f, x, to):\n",
    "    t, m = f.as_numer_denom()\n",
    "    return (t.subs(x, to) == 0 and m.subs(x, to) == 0) or (limit(t, x, to) == oo and limit(m, x, to) == oo)"
   ]
  },
  {
   "cell_type": "code",
   "execution_count": 49,
   "id": "556f8d1102de0e43",
   "metadata": {
    "ExecuteTime": {
     "end_time": "2024-05-12T05:04:47.962217Z",
     "start_time": "2024-05-12T05:04:47.958156Z"
    }
   },
   "outputs": [],
   "source": [
    "def limit_hopital(f, x, to):\n",
    "    L = Limit(f, x, to)\n",
    "    t, m = f.as_numer_denom()\n",
    "    s = []\n",
    "    while can_apply_hopital(f, x, to):\n",
    "        t_diff = Derivative(t, x)\n",
    "        m_diff = Derivative(m, x)\n",
    "        f = t_diff.doit() / m_diff.doit()\n",
    "        t, m = f.as_numer_denom()\n",
    "        L = Limit(f, x, to)\n",
    "        s += [r'''\\textrm{Phương trình có dạng vô định 0/0. Áp dụng công thức L'Hopital}''']\n",
    "        s += [r'''L = %s \\\\= \\lim_{x \\to %s} \\frac{%s}{%s}''' % (latex(L), to, latex(t_diff), latex(m_diff))]\n",
    "        s += [\n",
    "            r'''=\\lim_{x \\to %s} \\frac {%s}{%s}\\\\= %s ''' % (to, latex(t_diff.doit()), latex(m_diff.doit()), latex(L))]\n",
    "    s += [r'''= %s''' % L.doit()]\n",
    "    return s"
   ]
  },
  {
   "cell_type": "code",
   "execution_count": 50,
   "id": "a4676db7e7a7fb70",
   "metadata": {
    "ExecuteTime": {
     "end_time": "2024-05-12T05:04:47.968060Z",
     "start_time": "2024-05-12T05:04:47.963601Z"
    }
   },
   "outputs": [],
   "source": [
    "def limit_luy_thua(f, luythua, x, _to):\n",
    "    L = Limit(f ** luythua, x, _to)\n",
    "    ln_L = Limit(luythua * ln(f), x, _to)\n",
    "    ln_f = luythua * ln(f)\n",
    "    s = []\n",
    "    s += [r'''\\textrm{L = } %s''' % latex(L)]\n",
    "    s += [r'''\\textrm{Ta có }\\ln(L) = %s''' % latex(ln_L)]\n",
    "    if Limit(f, x, _to).doit() == 1:\n",
    "        s += [r'''\\textrm{Khi }x\\to %s \\Rightarrow %s-1 \\to 0''' % (latex(_to), latex(f))]\n",
    "        s += [r'''\\textrm{Do đó khi }x\\to %s \\Rightarrow \\ln(1+%s-1) \\to %s''' % (latex(_to), latex(f), latex(f - 1))]\n",
    "        ln_f = together(luythua * (f - 1))\n",
    "        ln_L = Limit(ln_f, x, _to)\n",
    "        s += [r'''\\textrm{ln(L) = }%s''' % latex(Limit(luythua * (f - 1), x, _to))]\n",
    "        s += [r'''=%s''' % latex(ln_L)]\n",
    "        s += limit_hopital(ln_f, x, _to)\n",
    "        s += [r'''\\textrm{ln(L)}=%s\\textrm{. Vậy }L = e^%s''' % (latex(ln_L.doit()), latex(ln_L.doit()))]\n",
    "    else:\n",
    "        s += [r'''\\textrm{Không tính được theo cách này}''']\n",
    "    return s"
   ]
  },
  {
   "cell_type": "code",
   "execution_count": 51,
   "id": "f1475bb7760da21f",
   "metadata": {
    "ExecuteTime": {
     "end_time": "2024-05-12T05:04:47.995461Z",
     "start_time": "2024-05-12T05:04:47.968958Z"
    }
   },
   "outputs": [
    {
     "data": {
      "text/latex": [
       "$\\displaystyle \\textrm{L = } \\lim_{x \\to \\infty} \\left(\\frac{3 x^{2} + x - 2}{3 x^{2} - x + 7}\\right)^{4 x + 1}$"
      ],
      "text/plain": [
       "<IPython.core.display.Math object>"
      ]
     },
     "metadata": {},
     "output_type": "display_data"
    },
    {
     "data": {
      "text/latex": [
       "$\\displaystyle \\textrm{Ta có }\\ln(L) = \\lim_{x \\to \\infty}\\left(\\left(4 x + 1\\right) \\log{\\left(\\frac{3 x^{2} + x - 2}{3 x^{2} - x + 7} \\right)}\\right)$"
      ],
      "text/plain": [
       "<IPython.core.display.Math object>"
      ]
     },
     "metadata": {},
     "output_type": "display_data"
    },
    {
     "data": {
      "text/latex": [
       "$\\displaystyle \\textrm{Khi }x\\to \\infty \\Rightarrow \\frac{3 x^{2} + x - 2}{3 x^{2} - x + 7}-1 \\to 0$"
      ],
      "text/plain": [
       "<IPython.core.display.Math object>"
      ]
     },
     "metadata": {},
     "output_type": "display_data"
    },
    {
     "data": {
      "text/latex": [
       "$\\displaystyle \\textrm{Do đó khi }x\\to \\infty \\Rightarrow \\ln(1+\\frac{3 x^{2} + x - 2}{3 x^{2} - x + 7}-1) \\to -1 + \\frac{3 x^{2} + x - 2}{3 x^{2} - x + 7}$"
      ],
      "text/plain": [
       "<IPython.core.display.Math object>"
      ]
     },
     "metadata": {},
     "output_type": "display_data"
    },
    {
     "data": {
      "text/latex": [
       "$\\displaystyle \\textrm{ln(L) = }\\lim_{x \\to \\infty}\\left(\\left(-1 + \\frac{3 x^{2} + x - 2}{3 x^{2} - x + 7}\\right) \\left(4 x + 1\\right)\\right)$"
      ],
      "text/plain": [
       "<IPython.core.display.Math object>"
      ]
     },
     "metadata": {},
     "output_type": "display_data"
    },
    {
     "data": {
      "text/latex": [
       "$\\displaystyle =\\lim_{x \\to \\infty}\\left(\\frac{\\left(2 x - 9\\right) \\left(4 x + 1\\right)}{3 x^{2} - x + 7}\\right)$"
      ],
      "text/plain": [
       "<IPython.core.display.Math object>"
      ]
     },
     "metadata": {},
     "output_type": "display_data"
    },
    {
     "data": {
      "text/latex": [
       "$\\displaystyle \\textrm{Phương trình có dạng vô định 0/0. Áp dụng công thức L'Hopital}$"
      ],
      "text/plain": [
       "<IPython.core.display.Math object>"
      ]
     },
     "metadata": {},
     "output_type": "display_data"
    },
    {
     "data": {
      "text/latex": [
       "$\\displaystyle L = \\lim_{x \\to \\infty}\\left(\\frac{16 x - 34}{6 x - 1}\\right) \\\\= \\lim_{x \\to oo} \\frac{\\frac{d}{d x} \\left(2 x - 9\\right) \\left(4 x + 1\\right)}{\\frac{d}{d x} \\left(3 x^{2} - x + 7\\right)}$"
      ],
      "text/plain": [
       "<IPython.core.display.Math object>"
      ]
     },
     "metadata": {},
     "output_type": "display_data"
    },
    {
     "data": {
      "text/latex": [
       "$\\displaystyle =\\lim_{x \\to oo} \\frac {16 x - 34}{6 x - 1}\\\\= \\lim_{x \\to \\infty}\\left(\\frac{16 x - 34}{6 x - 1}\\right) $"
      ],
      "text/plain": [
       "<IPython.core.display.Math object>"
      ]
     },
     "metadata": {},
     "output_type": "display_data"
    },
    {
     "data": {
      "text/latex": [
       "$\\displaystyle \\textrm{Phương trình có dạng vô định 0/0. Áp dụng công thức L'Hopital}$"
      ],
      "text/plain": [
       "<IPython.core.display.Math object>"
      ]
     },
     "metadata": {},
     "output_type": "display_data"
    },
    {
     "data": {
      "text/latex": [
       "$\\displaystyle L = \\lim_{x \\to \\infty} \\frac{8}{3} \\\\= \\lim_{x \\to oo} \\frac{\\frac{d}{d x} \\left(16 x - 34\\right)}{\\frac{d}{d x} \\left(6 x - 1\\right)}$"
      ],
      "text/plain": [
       "<IPython.core.display.Math object>"
      ]
     },
     "metadata": {},
     "output_type": "display_data"
    },
    {
     "data": {
      "text/latex": [
       "$\\displaystyle =\\lim_{x \\to oo} \\frac {16}{6}\\\\= \\lim_{x \\to \\infty} \\frac{8}{3} $"
      ],
      "text/plain": [
       "<IPython.core.display.Math object>"
      ]
     },
     "metadata": {},
     "output_type": "display_data"
    },
    {
     "data": {
      "text/latex": [
       "$\\displaystyle = 8/3$"
      ],
      "text/plain": [
       "<IPython.core.display.Math object>"
      ]
     },
     "metadata": {},
     "output_type": "display_data"
    },
    {
     "data": {
      "text/latex": [
       "$\\displaystyle \\textrm{ln(L)}=\\frac{8}{3}\\textrm{. Vậy }L = e^\\frac{8}{3}$"
      ],
      "text/plain": [
       "<IPython.core.display.Math object>"
      ]
     },
     "metadata": {},
     "output_type": "display_data"
    }
   ],
   "source": [
    "x = symbols('x')\n",
    "f = (3*x-2)/(3*x+5)\n",
    "luythua = 5*x+2\n",
    "_to = oo\n",
    "\n",
    "s = limit_luy_thua(f, luythua, x, _to)\n",
    "for _s in s:\n",
    "    display(Math(_s))"
   ]
  },
  {
   "cell_type": "code",
   "execution_count": 52,
   "id": "2fd52374f9524bb4",
   "metadata": {},
   "outputs": [],
   "source": []
  }
 ],
 "metadata": {
  "kernelspec": {
   "display_name": "Python 3 (ipykernel)",
   "language": "python",
   "name": "python3"
  },
  "language_info": {
   "codemirror_mode": {
    "name": "ipython",
    "version": 3
   },
   "file_extension": ".py",
   "mimetype": "text/x-python",
   "name": "python",
   "nbconvert_exporter": "python",
   "pygments_lexer": "ipython3",
   "version": "3.10.12"
  }
 },
 "nbformat": 4,
 "nbformat_minor": 5
}
