{
 "cells": [
  {
   "cell_type": "code",
   "id": "initial_id",
   "metadata": {
    "collapsed": true,
    "ExecuteTime": {
     "end_time": "2024-04-30T07:25:14.335690Z",
     "start_time": "2024-04-30T07:25:14.031045Z"
    }
   },
   "source": [
    "from IPython.display import display, Math\n",
    "from sympy import Matrix, latex, symbols, Derivative, solve, limit, integrate, sqrt, expand, factor, oo, root, Rational, \\\n",
    "    ln, expand_log, together, apart, trigsimp, sin, cos, tan, cot, sec, csc, simplify, exp, E, diff, tan\n",
    "# solve: giải phương trình\n",
    "# Derivative: đạo hàm\n",
    "# Matrix: ma trận\n",
    "# latex: hiển thị công thức toán học\n",
    "# display: hiển thị kết quả\n",
    "# symbols: khai báo biến\n",
    "# limit: giới hạn\n",
    "# integrate: tích phân\n",
    "# expand: triển khai (phân phối)\n",
    "# factor: phân tích (kết hợp)\n",
    "# oo: vô cùng\n",
    "# together: tổng hợp\n",
    "# integrate: tích phân\n",
    "# diff: đạo hàm\n",
    "# root: căn "
   ],
   "outputs": [],
   "execution_count": 1
  },
  {
   "metadata": {
    "ExecuteTime": {
     "end_time": "2024-04-30T07:29:44.717884Z",
     "start_time": "2024-04-30T07:29:44.714983Z"
    }
   },
   "cell_type": "code",
   "source": "lim_to = 1",
   "id": "82871d2a7f36b415",
   "outputs": [],
   "execution_count": 12
  },
  {
   "metadata": {
    "ExecuteTime": {
     "end_time": "2024-04-30T07:29:45.139071Z",
     "start_time": "2024-04-30T07:29:45.135834Z"
    }
   },
   "cell_type": "code",
   "source": "x = symbols('x')",
   "id": "8b234d6480d22b7b",
   "outputs": [],
   "execution_count": 13
  },
  {
   "metadata": {
    "ExecuteTime": {
     "end_time": "2024-04-30T07:29:45.484512Z",
     "start_time": "2024-04-30T07:29:45.480889Z"
    }
   },
   "cell_type": "code",
   "source": [
    "f = (root(x,3)-root(x,2))/(x-1)\n",
    "display(Math(latex(\n",
    "    f\n",
    ")))"
   ],
   "id": "75bc6896f1033fe6",
   "outputs": [
    {
     "data": {
      "text/plain": [
       "<IPython.core.display.Math object>"
      ],
      "text/latex": "$\\displaystyle \\frac{\\sqrt[3]{x} - \\sqrt{x}}{x - 1}$"
     },
     "metadata": {},
     "output_type": "display_data"
    }
   ],
   "execution_count": 14
  },
  {
   "metadata": {
    "ExecuteTime": {
     "end_time": "2024-04-30T07:29:45.715060Z",
     "start_time": "2024-04-30T07:29:45.710782Z"
    }
   },
   "cell_type": "code",
   "source": [
    "lim = limit(f, x, lim_to)\n",
    "display(Math(latex(\n",
    "    lim\n",
    ")))"
   ],
   "id": "a0a95b9fd113672e",
   "outputs": [
    {
     "data": {
      "text/plain": [
       "<IPython.core.display.Math object>"
      ],
      "text/latex": "$\\displaystyle - \\frac{1}{6}$"
     },
     "metadata": {},
     "output_type": "display_data"
    }
   ],
   "execution_count": 15
  },
  {
   "metadata": {
    "ExecuteTime": {
     "end_time": "2024-04-30T07:29:46.187006Z",
     "start_time": "2024-04-30T07:29:46.183125Z"
    }
   },
   "cell_type": "code",
   "source": [
    "T, M = f.as_numer_denom()\n",
    "display(Math(latex(\n",
    "    T\n",
    ")))\n",
    "display(Math(latex(\n",
    "    M\n",
    ")))"
   ],
   "id": "202d8a6c9b528ae4",
   "outputs": [
    {
     "data": {
      "text/plain": [
       "<IPython.core.display.Math object>"
      ],
      "text/latex": "$\\displaystyle \\sqrt[3]{x} - \\sqrt{x}$"
     },
     "metadata": {},
     "output_type": "display_data"
    },
    {
     "data": {
      "text/plain": [
       "<IPython.core.display.Math object>"
      ],
      "text/latex": "$\\displaystyle x - 1$"
     },
     "metadata": {},
     "output_type": "display_data"
    }
   ],
   "execution_count": 16
  },
  {
   "metadata": {
    "ExecuteTime": {
     "end_time": "2024-04-30T07:29:47.067811Z",
     "start_time": "2024-04-30T07:29:47.065093Z"
    }
   },
   "cell_type": "code",
   "source": [
    "T = Derivative(T, x).doit()\n",
    "M = Derivative(M, x).doit()"
   ],
   "id": "f9f05e1f735683c2",
   "outputs": [],
   "execution_count": 17
  },
  {
   "metadata": {
    "ExecuteTime": {
     "end_time": "2024-04-30T07:29:48.484706Z",
     "start_time": "2024-04-30T07:29:48.478996Z"
    }
   },
   "cell_type": "code",
   "source": [
    "\n",
    "display(Math(latex(\n",
    "    T\n",
    ")))\n",
    "display(Math(latex(\n",
    "    M\n",
    ")))"
   ],
   "id": "64dba0f9f05aa7e1",
   "outputs": [
    {
     "data": {
      "text/plain": [
       "<IPython.core.display.Math object>"
      ],
      "text/latex": "$\\displaystyle - \\frac{1}{2 \\sqrt{x}} + \\frac{1}{3 x^{\\frac{2}{3}}}$"
     },
     "metadata": {},
     "output_type": "display_data"
    },
    {
     "data": {
      "text/plain": [
       "<IPython.core.display.Math object>"
      ],
      "text/latex": "$\\displaystyle 1$"
     },
     "metadata": {},
     "output_type": "display_data"
    }
   ],
   "execution_count": 18
  },
  {
   "metadata": {
    "ExecuteTime": {
     "end_time": "2024-04-30T07:30:28.643740Z",
     "start_time": "2024-04-30T07:30:28.640376Z"
    }
   },
   "cell_type": "code",
   "source": [
    "display(Math(latex(\n",
    "    T.subs(x, lim_to)\n",
    ")))"
   ],
   "id": "9baea0b69eef5811",
   "outputs": [
    {
     "data": {
      "text/plain": [
       "<IPython.core.display.Math object>"
      ],
      "text/latex": "$\\displaystyle - \\frac{1}{6}$"
     },
     "metadata": {},
     "output_type": "display_data"
    }
   ],
   "execution_count": 19
  },
  {
   "metadata": {},
   "cell_type": "code",
   "outputs": [],
   "execution_count": null,
   "source": "",
   "id": "27821397a45428fa"
  }
 ],
 "metadata": {
  "kernelspec": {
   "display_name": "Python 3",
   "language": "python",
   "name": "python3"
  },
  "language_info": {
   "codemirror_mode": {
    "name": "ipython",
    "version": 2
   },
   "file_extension": ".py",
   "mimetype": "text/x-python",
   "name": "python",
   "nbconvert_exporter": "python",
   "pygments_lexer": "ipython2",
   "version": "2.7.6"
  }
 },
 "nbformat": 4,
 "nbformat_minor": 5
}
