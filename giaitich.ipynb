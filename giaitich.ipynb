{
 "cells": [
  {
   "cell_type": "code",
   "id": "initial_id",
   "metadata": {
    "collapsed": true,
    "jupyter": {
     "outputs_hidden": true
    },
    "ExecuteTime": {
     "end_time": "2024-05-12T02:21:25.264735Z",
     "start_time": "2024-05-12T02:21:25.261167Z"
    }
   },
   "source": [
    "from IPython.display import display, Math\n",
    "from sympy import Matrix, latex, symbols, Derivative, solve, limit, integrate, sqrt, expand, factor, oo, root, Rational, \\\n",
    "    ln, expand_log, together, apart, trigsimp, sin, cos, tan, cot, sec, csc, simplify, exp, E, diff, tan, Limit\n",
    "# solve: giải phương trình\n",
    "# Derivative: đạo hàm\n",
    "# Matrix: ma trận\n",
    "# latex: hiển thị công thức toán học\n",
    "# display: hiển thị kết quả\n",
    "# symbols: khai báo biến\n",
    "# limit: giới hạn\n",
    "# integrate: tích phân\n",
    "# expand: triển khai (phân phối)\n",
    "# factor: phân tích (kết hợp)\n",
    "# oo: vô cùng\n",
    "# together: tổng hợp\n",
    "# integrate: tích phân\n",
    "# diff: đạo hàm\n",
    "# root: căn \n",
    "# e: E\n",
    "# f.subs(x, 0): thay x = 0 vào f"
   ],
   "execution_count": 3,
   "outputs": []
  },
  {
   "cell_type": "code",
   "id": "82871d2a7f36b415",
   "metadata": {
    "ExecuteTime": {
     "end_time": "2024-05-12T02:36:53.876774Z",
     "start_time": "2024-05-12T02:36:53.864122Z"
    }
   },
   "source": [
    "x = symbols('x')\n",
    "f = (E**(10*x**2)-cos(4*x))/ln(cos(x))\n",
    "l = Limit(f, x, 0)\n",
    "display(Math(latex(l)))\n",
    "t, m = f.as_numer_denom()\n",
    "\n",
    "t_1 = Derivative(t, x).doit()\n",
    "m_1 = Derivative(m, x).doit()\n",
    "display(Math(latex(t_1)))\n",
    "display(Math(latex(m_1)))\n",
    "display(Math(latex(t_1/m_1)))"
   ],
   "execution_count": 9,
   "outputs": []
  },
  {
   "cell_type": "code",
   "id": "8b234d6480d22b7b",
   "metadata": {
    "ExecuteTime": {
     "end_time": "2024-05-08T14:08:16.872163Z",
     "start_time": "2024-05-08T14:08:16.827673Z"
    }
   },
   "source": [
    "x = symbols('x')\n",
    "F = (E**(10*x**2)-cos(4*x))/ln(cos(x))\n",
    "display(Math(latex(F)))"
   ],
   "execution_count": 3,
   "outputs": []
  },
  {
   "metadata": {
    "ExecuteTime": {
     "end_time": "2024-05-08T14:08:46.906607Z",
     "start_time": "2024-05-08T14:08:46.891107Z"
    }
   },
   "cell_type": "code",
   "source": [
    "T, M = F.as_numer_denom()\n",
    "T1 = Derivative(T, x).doit()\n",
    "M1 = Derivative(M, x).doit()\n",
    "F1=T1/M1\n",
    "display(Math(latex(F1)))"
   ],
   "id": "67b0c75c1aebc8a",
   "execution_count": 4,
   "outputs": []
  },
  {
   "cell_type": "code",
   "id": "75bc6896f1033fe6",
   "metadata": {
    "ExecuteTime": {
     "end_time": "2024-05-08T14:11:37.501454Z",
     "start_time": "2024-05-08T14:11:37.491319Z"
    }
   },
   "source": [
    "L = limit(F1, x, 0)\n",
    "display(Math(latex(L.doit())))"
   ],
   "execution_count": 5,
   "outputs": []
  },
  {
   "cell_type": "code",
   "id": "a0a95b9fd113672e",
   "metadata": {
    "ExecuteTime": {
     "end_time": "2024-05-08T14:13:02.371663Z",
     "start_time": "2024-05-08T14:13:02.358139Z"
    }
   },
   "source": [
    "T2, M2 = F1.as_numer_denom()\n",
    "T3 = Derivative(T2, x).doit()\n",
    "M3 = Derivative(M2, x).doit()\n",
    "F2 = T3/M3\n",
    "display(Math(latex(F2)))"
   ],
   "execution_count": 6,
   "outputs": []
  },
  {
   "cell_type": "code",
   "execution_count": 24,
   "id": "202d8a6c9b528ae4",
   "metadata": {
    "ExecuteTime": {
     "end_time": "2024-04-30T07:36:05.531573Z",
     "start_time": "2024-04-30T07:36:05.527066Z"
    }
   },
   "source": [
    "T, M = f.as_numer_denom()\n",
    "display(Math(latex(T)))\n",
    "display(Math(latex(M)))"
   ],
   "outputs": []
  },
  {
   "cell_type": "code",
   "execution_count": 25,
   "id": "9522bc46b34b7640",
   "metadata": {
    "ExecuteTime": {
     "end_time": "2024-04-30T07:36:53.686654Z",
     "start_time": "2024-04-30T07:36:53.682709Z"
    }
   },
   "source": [
    "display(Math(latex(T.subs(x, lim_to))))\n",
    "display(Math(latex(M.subs(x, lim_to))))"
   ],
   "outputs": []
  },
  {
   "cell_type": "code",
   "execution_count": 26,
   "id": "f9f05e1f735683c2",
   "metadata": {
    "ExecuteTime": {
     "end_time": "2024-04-30T07:37:22.704097Z",
     "start_time": "2024-04-30T07:37:22.695410Z"
    }
   },
   "source": [
    "T1 = Derivative(T, x).doit()\n",
    "M1 = Derivative(M, x).doit()"
   ],
   "outputs": []
  },
  {
   "cell_type": "code",
   "execution_count": 27,
   "id": "64dba0f9f05aa7e1",
   "metadata": {
    "ExecuteTime": {
     "end_time": "2024-04-30T07:37:35.372548Z",
     "start_time": "2024-04-30T07:37:35.367045Z"
    }
   },
   "source": [
    "display(Math(latex(T1)))\n",
    "display(Math(latex(M1)))"
   ],
   "outputs": []
  },
  {
   "cell_type": "code",
   "execution_count": 28,
   "id": "9baea0b69eef5811",
   "metadata": {
    "ExecuteTime": {
     "end_time": "2024-04-30T07:37:55.492500Z",
     "start_time": "2024-04-30T07:37:55.485479Z"
    }
   },
   "source": "display(Math(latex(T1 / M1)))",
   "outputs": []
  },
  {
   "cell_type": "code",
   "execution_count": 29,
   "id": "27821397a45428fa",
   "metadata": {
    "ExecuteTime": {
     "end_time": "2024-04-30T07:38:41.172366Z",
     "start_time": "2024-04-30T07:38:41.162062Z"
    }
   },
   "source": [
    "T2 = Derivative(T1, x).doit()\n",
    "M2 = Derivative(M1, x).doit()"
   ],
   "outputs": []
  },
  {
   "cell_type": "code",
   "execution_count": 30,
   "id": "aaae269fbe2cadda",
   "metadata": {
    "ExecuteTime": {
     "end_time": "2024-04-30T07:38:46.642492Z",
     "start_time": "2024-04-30T07:38:46.637479Z"
    }
   },
   "source": [
    "display(Math(latex(T2)))\n",
    "display(Math(latex(M2)))"
   ],
   "outputs": []
  },
  {
   "cell_type": "code",
   "execution_count": 31,
   "id": "468989be95100349",
   "metadata": {
    "ExecuteTime": {
     "end_time": "2024-04-30T07:39:17.282366Z",
     "start_time": "2024-04-30T07:39:17.277863Z"
    }
   },
   "source": [
    "display(Math(latex(T2.subs(x, lim_to))))\n",
    "display(Math(latex(M2.subs(x, lim_to))))"
   ],
   "outputs": []
  },
  {
   "cell_type": "code",
   "execution_count": null,
   "id": "d126d59f1465bafb",
   "metadata": {},
   "source": [],
   "outputs": []
  }
 ],
 "metadata": {
  "kernelspec": {
   "display_name": "Python 3 (ipykernel)",
   "language": "python",
   "name": "python3"
  },
  "language_info": {
   "codemirror_mode": {
    "name": "ipython",
    "version": 3
   },
   "file_extension": ".py",
   "mimetype": "text/x-python",
   "name": "python",
   "nbconvert_exporter": "python",
   "pygments_lexer": "ipython3",
   "version": "3.12.2"
  }
 },
 "nbformat": 4,
 "nbformat_minor": 5
}
