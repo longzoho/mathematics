{
 "cells": [
  {
   "cell_type": "code",
   "id": "initial_id",
   "metadata": {
    "collapsed": true,
    "ExecuteTime": {
     "end_time": "2024-04-30T07:25:14.335690Z",
     "start_time": "2024-04-30T07:25:14.031045Z"
    }
   },
   "source": [
    "from IPython.display import display, Math\n",
    "from sympy import Matrix, latex, symbols, Derivative, solve, limit, integrate, sqrt, expand, factor, oo, root, Rational, \\\n",
    "    ln, expand_log, together, apart, trigsimp, sin, cos, tan, cot, sec, csc, simplify, exp, E, diff, tan\n",
    "# solve: giải phương trình\n",
    "# Derivative: đạo hàm\n",
    "# Matrix: ma trận\n",
    "# latex: hiển thị công thức toán học\n",
    "# display: hiển thị kết quả\n",
    "# symbols: khai báo biến\n",
    "# limit: giới hạn\n",
    "# integrate: tích phân\n",
    "# expand: triển khai (phân phối)\n",
    "# factor: phân tích (kết hợp)\n",
    "# oo: vô cùng\n",
    "# together: tổng hợp\n",
    "# integrate: tích phân\n",
    "# diff: đạo hàm\n",
    "# root: căn \n",
    "# e: E\n",
    "# f.subs(x, 0): thay x = 0 vào f"
   ],
   "outputs": [],
   "execution_count": 1
  },
  {
   "metadata": {
    "ExecuteTime": {
     "end_time": "2024-04-30T07:34:27.966063Z",
     "start_time": "2024-04-30T07:34:27.963672Z"
    }
   },
   "cell_type": "code",
   "source": "lim_to = 0",
   "id": "82871d2a7f36b415",
   "outputs": [],
   "execution_count": 20
  },
  {
   "metadata": {
    "ExecuteTime": {
     "end_time": "2024-04-30T07:34:31.645136Z",
     "start_time": "2024-04-30T07:34:31.642256Z"
    }
   },
   "cell_type": "code",
   "source": "x = symbols('x')",
   "id": "8b234d6480d22b7b",
   "outputs": [],
   "execution_count": 21
  },
  {
   "metadata": {
    "ExecuteTime": {
     "end_time": "2024-04-30T07:35:38.050128Z",
     "start_time": "2024-04-30T07:35:38.040538Z"
    }
   },
   "cell_type": "code",
   "source": [
    "f = (E**(10*x**2)-cos(4*x))/(ln(cos(x)))\n",
    "display(Math(latex(f)))"
   ],
   "id": "75bc6896f1033fe6",
   "outputs": [
    {
     "data": {
      "text/plain": [
       "<IPython.core.display.Math object>"
      ],
      "text/latex": "$\\displaystyle \\frac{e^{10 x^{2}} - \\cos{\\left(4 x \\right)}}{\\log{\\left(\\cos{\\left(x \\right)} \\right)}}$"
     },
     "metadata": {},
     "output_type": "display_data"
    }
   ],
   "execution_count": 22
  },
  {
   "metadata": {
    "ExecuteTime": {
     "end_time": "2024-04-30T07:35:48.612408Z",
     "start_time": "2024-04-30T07:35:48.569205Z"
    }
   },
   "cell_type": "code",
   "source": [
    "lim = limit(f, x, lim_to)\n",
    "display(Math(latex(\n",
    "    lim\n",
    ")))"
   ],
   "id": "a0a95b9fd113672e",
   "outputs": [
    {
     "data": {
      "text/plain": [
       "<IPython.core.display.Math object>"
      ],
      "text/latex": "$\\displaystyle -36$"
     },
     "metadata": {},
     "output_type": "display_data"
    }
   ],
   "execution_count": 23
  },
  {
   "metadata": {
    "ExecuteTime": {
     "end_time": "2024-04-30T07:36:05.531573Z",
     "start_time": "2024-04-30T07:36:05.527066Z"
    }
   },
   "cell_type": "code",
   "source": [
    "T, M = f.as_numer_denom()\n",
    "display(Math(latex(T)))\n",
    "display(Math(latex(M)))"
   ],
   "id": "202d8a6c9b528ae4",
   "outputs": [
    {
     "data": {
      "text/plain": [
       "<IPython.core.display.Math object>"
      ],
      "text/latex": "$\\displaystyle e^{10 x^{2}} - \\cos{\\left(4 x \\right)}$"
     },
     "metadata": {},
     "output_type": "display_data"
    },
    {
     "data": {
      "text/plain": [
       "<IPython.core.display.Math object>"
      ],
      "text/latex": "$\\displaystyle \\log{\\left(\\cos{\\left(x \\right)} \\right)}$"
     },
     "metadata": {},
     "output_type": "display_data"
    }
   ],
   "execution_count": 24
  },
  {
   "metadata": {
    "ExecuteTime": {
     "end_time": "2024-04-30T07:36:53.686654Z",
     "start_time": "2024-04-30T07:36:53.682709Z"
    }
   },
   "cell_type": "code",
   "source": [
    "display(Math(latex(T.subs(x, lim_to))))\n",
    "display(Math(latex(M.subs(x, lim_to))))"
   ],
   "id": "9522bc46b34b7640",
   "outputs": [
    {
     "data": {
      "text/plain": [
       "<IPython.core.display.Math object>"
      ],
      "text/latex": "$\\displaystyle 0$"
     },
     "metadata": {},
     "output_type": "display_data"
    },
    {
     "data": {
      "text/plain": [
       "<IPython.core.display.Math object>"
      ],
      "text/latex": "$\\displaystyle 0$"
     },
     "metadata": {},
     "output_type": "display_data"
    }
   ],
   "execution_count": 25
  },
  {
   "metadata": {
    "ExecuteTime": {
     "end_time": "2024-04-30T07:37:22.704097Z",
     "start_time": "2024-04-30T07:37:22.695410Z"
    }
   },
   "cell_type": "code",
   "source": [
    "T1 = Derivative(T, x).doit()\n",
    "M1 = Derivative(M, x).doit()"
   ],
   "id": "f9f05e1f735683c2",
   "outputs": [],
   "execution_count": 26
  },
  {
   "metadata": {
    "ExecuteTime": {
     "end_time": "2024-04-30T07:37:35.372548Z",
     "start_time": "2024-04-30T07:37:35.367045Z"
    }
   },
   "cell_type": "code",
   "source": [
    "display(Math(latex(T1)))\n",
    "display(Math(latex(M1)))"
   ],
   "id": "64dba0f9f05aa7e1",
   "outputs": [
    {
     "data": {
      "text/plain": [
       "<IPython.core.display.Math object>"
      ],
      "text/latex": "$\\displaystyle 20 x e^{10 x^{2}} + 4 \\sin{\\left(4 x \\right)}$"
     },
     "metadata": {},
     "output_type": "display_data"
    },
    {
     "data": {
      "text/plain": [
       "<IPython.core.display.Math object>"
      ],
      "text/latex": "$\\displaystyle - \\frac{\\sin{\\left(x \\right)}}{\\cos{\\left(x \\right)}}$"
     },
     "metadata": {},
     "output_type": "display_data"
    }
   ],
   "execution_count": 27
  },
  {
   "metadata": {
    "ExecuteTime": {
     "end_time": "2024-04-30T07:37:55.492500Z",
     "start_time": "2024-04-30T07:37:55.485479Z"
    }
   },
   "cell_type": "code",
   "source": "display(Math(latex(T1/M1)))",
   "id": "9baea0b69eef5811",
   "outputs": [
    {
     "data": {
      "text/plain": [
       "<IPython.core.display.Math object>"
      ],
      "text/latex": "$\\displaystyle - \\frac{\\left(20 x e^{10 x^{2}} + 4 \\sin{\\left(4 x \\right)}\\right) \\cos{\\left(x \\right)}}{\\sin{\\left(x \\right)}}$"
     },
     "metadata": {},
     "output_type": "display_data"
    }
   ],
   "execution_count": 28
  },
  {
   "metadata": {
    "ExecuteTime": {
     "end_time": "2024-04-30T07:38:41.172366Z",
     "start_time": "2024-04-30T07:38:41.162062Z"
    }
   },
   "cell_type": "code",
   "source": [
    "T2= Derivative(T1, x).doit()\n",
    "M2 = Derivative(M1, x).doit()"
   ],
   "id": "27821397a45428fa",
   "outputs": [],
   "execution_count": 29
  },
  {
   "metadata": {
    "ExecuteTime": {
     "end_time": "2024-04-30T07:38:46.642492Z",
     "start_time": "2024-04-30T07:38:46.637479Z"
    }
   },
   "cell_type": "code",
   "source": [
    "display(Math(latex(T2)))\n",
    "display(Math(latex(M2)))"
   ],
   "id": "aaae269fbe2cadda",
   "outputs": [
    {
     "data": {
      "text/plain": [
       "<IPython.core.display.Math object>"
      ],
      "text/latex": "$\\displaystyle 400 x^{2} e^{10 x^{2}} + 20 e^{10 x^{2}} + 16 \\cos{\\left(4 x \\right)}$"
     },
     "metadata": {},
     "output_type": "display_data"
    },
    {
     "data": {
      "text/plain": [
       "<IPython.core.display.Math object>"
      ],
      "text/latex": "$\\displaystyle - \\frac{\\sin^{2}{\\left(x \\right)}}{\\cos^{2}{\\left(x \\right)}} - 1$"
     },
     "metadata": {},
     "output_type": "display_data"
    }
   ],
   "execution_count": 30
  },
  {
   "metadata": {
    "ExecuteTime": {
     "end_time": "2024-04-30T07:39:17.282366Z",
     "start_time": "2024-04-30T07:39:17.277863Z"
    }
   },
   "cell_type": "code",
   "source": [
    "display(Math(latex(T2.subs(x, lim_to))))\n",
    "display(Math(latex(M2.subs(x, lim_to))))"
   ],
   "id": "468989be95100349",
   "outputs": [
    {
     "data": {
      "text/plain": [
       "<IPython.core.display.Math object>"
      ],
      "text/latex": "$\\displaystyle 36$"
     },
     "metadata": {},
     "output_type": "display_data"
    },
    {
     "data": {
      "text/plain": [
       "<IPython.core.display.Math object>"
      ],
      "text/latex": "$\\displaystyle -1$"
     },
     "metadata": {},
     "output_type": "display_data"
    }
   ],
   "execution_count": 31
  },
  {
   "metadata": {},
   "cell_type": "code",
   "outputs": [],
   "execution_count": null,
   "source": "",
   "id": "d126d59f1465bafb"
  }
 ],
 "metadata": {
  "kernelspec": {
   "display_name": "Python 3",
   "language": "python",
   "name": "python3"
  },
  "language_info": {
   "codemirror_mode": {
    "name": "ipython",
    "version": 2
   },
   "file_extension": ".py",
   "mimetype": "text/x-python",
   "name": "python",
   "nbconvert_exporter": "python",
   "pygments_lexer": "ipython2",
   "version": "2.7.6"
  }
 },
 "nbformat": 4,
 "nbformat_minor": 5
}
