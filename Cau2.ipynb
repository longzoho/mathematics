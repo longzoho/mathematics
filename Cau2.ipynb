{
 "cells": [
  {
   "cell_type": "code",
   "id": "initial_id",
   "metadata": {
    "collapsed": true,
    "ExecuteTime": {
     "end_time": "2024-05-17T10:41:03.280013Z",
     "start_time": "2024-05-17T10:41:03.275606Z"
    }
   },
   "source": [
    "from IPython.display import display, Math\n",
    "from sympy import Matrix, latex, symbols, Derivative, solve, limit, integrate, sqrt, expand, factor, oo, root, Rational, \\\n",
    "    ln, expand_log, together, apart, trigsimp, sin, cos, tan, cot, sec, csc, simplify, exp, E, diff, tan, Integral, \\\n",
    "    Limit, singularities\n",
    "# solve: giải phương trình\n",
    "# Derivative: đạo hàm\n",
    "# Matrix: ma trận\n",
    "# latex: hiển thị công thức toán học\n",
    "# display: hiển thị kết quả\n",
    "# symbols: khai báo biến\n",
    "# limit: giới hạn\n",
    "# integrate: tích phân\n",
    "# expand: triển khai (phân phối)\n",
    "# factor: phân tích (kết hợp)\n",
    "# oo: vô cùng\n",
    "# together: tổng hợp\n",
    "# integrate: tích phân\n",
    "# diff: đạo hàm\n",
    "# root: căn \n",
    "# e: E\n",
    "# f.subs(x, 0): thay x = 0 vào f\n",
    "# ##.function: hàm số (của đạo hàm hoặc tích phân)"
   ],
   "outputs": [],
   "execution_count": 20
  },
  {
   "metadata": {
    "ExecuteTime": {
     "end_time": "2024-05-17T11:31:50.551404Z",
     "start_time": "2024-05-17T11:31:50.512554Z"
    }
   },
   "cell_type": "code",
   "source": [
    "x = symbols('x')\n",
    "f, _from, _to  = (x ** 2 + 3 * x + 5) / (x * (2 * x)), 0, 1\n",
    "# f, _from, _to  = E**(-root(x, 2)), 0, oo\n",
    "I = Integral(f, (x, _from, _to))\n",
    "subs_from = f.subs(x, _from)\n",
    "subs_to = f.subs(x, _to)\n",
    "diem_ky_di = []\n",
    "\n",
    "_from1, _to1 = _from, _to\n",
    "b = symbols('b')\n",
    "undefined_at = None\n",
    "\n",
    "if limit(f, x, _from) == oo:\n",
    "    _from1 = b\n",
    "    diem_ky_di.append(_from)\n",
    "    undefined_at = _from\n",
    "if limit(f, x, _to) == oo:\n",
    "    _to1 = b\n",
    "    diem_ky_di.append(_to)\n",
    "    undefined_at = _to\n",
    "if undefined_at is None:\n",
    "    if _from == oo:\n",
    "        _from1 = b\n",
    "        undefined_at = _from\n",
    "    if _to == oo:\n",
    "        _to1 = b\n",
    "        undefined_at = _to\n",
    "\n",
    "if _from1 == _to1:\n",
    "    _from1 = (_from + _to) / 2\n",
    "\n",
    "I1 = Integral(f, (x, _from1, _to1))\n",
    "FI1 = integrate(f, x)\n",
    "F1 = I1.doit()\n",
    "L = Limit(F1, b, undefined_at)\n",
    "rs = L.doit()\n",
    "display(Math(latex(I)))\n",
    "display(Math(r'''\\textrm{Hàm }%s\\textrm{ có điểm kỳ dị tại } %s''' % (latex(f), latex(diem_ky_di))))\n",
    "if I1 == FI1:\n",
    "    display(Math(r'''\\textrm{ }%s=%s''' % (latex(I1), latex(FI1))))\n",
    "display(Math(r'''\\textrm{Ta xét tích phân }%s=(%s)|_%s^%s''' % (latex(I1), latex(FI1), _from1, _to1)))\n",
    "display(Math(r'''=(%s)-(%s)''' % (latex(FI1.subs(x, _to1)), latex(FI1.subs(x, _from1)))))\n",
    "display(Math(r'''=%s''' % (latex(F1))))\n",
    "display(Math(r'''\\textrm{Ta xét giới hạn }%s=%s''' % (latex(L), latex(rs))))\n",
    "if (rs == oo):\n",
    "    display(Math(r'''\\textrm{Vậy tích phân }%s\\textrm{ phân kỳ}''' % (latex(I))))\n",
    "else:\n",
    "    display(Math(r'''\\textrm{Vậy tích phân }%s\\textrm{ hội tụ}''' % (latex(I))))"
   ],
   "id": "e056193b486dce47",
   "outputs": [
    {
     "data": {
      "text/plain": [
       "<IPython.core.display.Math object>"
      ],
      "text/latex": "$\\displaystyle \\int\\limits_{0}^{1} \\frac{x^{2} + 3 x + 5}{2 x^{2}}\\, dx$"
     },
     "metadata": {},
     "output_type": "display_data"
    },
    {
     "data": {
      "text/plain": [
       "<IPython.core.display.Math object>"
      ],
      "text/latex": "$\\displaystyle \\textrm{Hàm }\\frac{x^{2} + 3 x + 5}{2 x^{2}}\\textrm{ có điểm kỳ dị tại } \\left[ 0\\right]$"
     },
     "metadata": {},
     "output_type": "display_data"
    },
    {
     "data": {
      "text/plain": [
       "<IPython.core.display.Math object>"
      ],
      "text/latex": "$\\displaystyle \\textrm{Ta xét tích phân }\\int\\limits_{b}^{1} \\frac{x^{2} + 3 x + 5}{2 x^{2}}\\, dx=(\\frac{x}{2} + \\frac{3 \\log{\\left(x \\right)}}{2} - \\frac{5}{2 x})|_b^1$"
     },
     "metadata": {},
     "output_type": "display_data"
    },
    {
     "data": {
      "text/plain": [
       "<IPython.core.display.Math object>"
      ],
      "text/latex": "$\\displaystyle =(-2)-(\\frac{b}{2} + \\frac{3 \\log{\\left(b \\right)}}{2} - \\frac{5}{2 b})$"
     },
     "metadata": {},
     "output_type": "display_data"
    },
    {
     "data": {
      "text/plain": [
       "<IPython.core.display.Math object>"
      ],
      "text/latex": "$\\displaystyle =- \\frac{b}{2} - \\frac{3 \\log{\\left(b \\right)}}{2} - 2 + \\frac{5}{2 b}$"
     },
     "metadata": {},
     "output_type": "display_data"
    },
    {
     "data": {
      "text/plain": [
       "<IPython.core.display.Math object>"
      ],
      "text/latex": "$\\displaystyle \\textrm{Ta xét giới hạn }\\lim_{b \\to 0^+}\\left(- \\frac{b}{2} - \\frac{3 \\log{\\left(b \\right)}}{2} - 2 + \\frac{5}{2 b}\\right)=\\infty$"
     },
     "metadata": {},
     "output_type": "display_data"
    },
    {
     "data": {
      "text/plain": [
       "<IPython.core.display.Math object>"
      ],
      "text/latex": "$\\displaystyle \\textrm{Vậy tích phân }\\int\\limits_{0}^{1} \\frac{x^{2} + 3 x + 5}{2 x^{2}}\\, dx\\textrm{ phân kỳ}$"
     },
     "metadata": {},
     "output_type": "display_data"
    }
   ],
   "execution_count": 65
  },
  {
   "metadata": {},
   "cell_type": "code",
   "outputs": [],
   "execution_count": null,
   "source": "",
   "id": "6ae5c0146b0795b1"
  }
 ],
 "metadata": {
  "kernelspec": {
   "display_name": "Python 3",
   "language": "python",
   "name": "python3"
  },
  "language_info": {
   "codemirror_mode": {
    "name": "ipython",
    "version": 2
   },
   "file_extension": ".py",
   "mimetype": "text/x-python",
   "name": "python",
   "nbconvert_exporter": "python",
   "pygments_lexer": "ipython2",
   "version": "2.7.6"
  }
 },
 "nbformat": 4,
 "nbformat_minor": 5
}
