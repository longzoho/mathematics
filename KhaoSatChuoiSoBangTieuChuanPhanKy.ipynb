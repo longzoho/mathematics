{
 "cells": [
  {
   "cell_type": "code",
   "id": "initial_id",
   "metadata": {
    "collapsed": true,
    "ExecuteTime": {
     "end_time": "2024-05-11T08:11:41.903301Z",
     "start_time": "2024-05-11T08:11:41.899789Z"
    }
   },
   "source": [
    "from IPython.display import display, Math\n",
    "from sympy import Matrix, latex, symbols, Derivative, solve, limit, integrate, sqrt, expand, factor, oo, root, Rational, \\\n",
    "    ln, expand_log, together, apart, trigsimp, sin, cos, tan, cot, sec, csc, simplify, exp, E, diff, tan, Integral, \\\n",
    "    Limit, Sum, factorial\n",
    "# solve: giải phương trình\n",
    "# Derivative: đạo hàm\n",
    "# Matrix: ma trận\n",
    "# latex: hiển thị công thức toán học\n",
    "# display: hiển thị kết quả\n",
    "# symbols: khai báo biến\n",
    "# limit: giới hạn\n",
    "# integrate: tích phân\n",
    "# expand: triển khai (phân phối)\n",
    "# factor: phân tích (kết hợp)\n",
    "# oo: vô cùng\n",
    "# together: tổng hợp\n",
    "# integrate: tích phân\n",
    "# diff: đạo hàm\n",
    "# root: căn \n",
    "# e: E\n",
    "# f.subs(x, 0): thay x = 0 vào f\n",
    "# ##.function: hàm số (của đạo hàm hoặc tích phân)\n",
    "# trigsimp: rút gọn biểu thức trigonometric\n",
    "# factorial: giai thừa"
   ],
   "outputs": [],
   "execution_count": 4
  },
  {
   "metadata": {
    "ExecuteTime": {
     "end_time": "2024-05-11T08:10:48.229240Z",
     "start_time": "2024-05-11T08:10:48.226698Z"
    }
   },
   "cell_type": "code",
   "source": "n = symbols('n', integer=True, positive=True)",
   "id": "bca8df6210e4e948",
   "outputs": [],
   "execution_count": 2
  },
  {
   "metadata": {
    "ExecuteTime": {
     "end_time": "2024-05-11T08:17:51.512345Z",
     "start_time": "2024-05-11T08:17:51.507212Z"
    }
   },
   "cell_type": "code",
   "source": [
    "f = (2 * n ** 2 + 3 * n + 5) / (8 * n + 3 * n ** 2 + 1)\n",
    "_from, _to = 1, oo\n",
    "S = Sum(f, (n, _from, _to))\n",
    "display(Math(\"\\\\textrm{Khảo sát sự hội tụ hay phân kỳ của chuỗi số S =} %s\" % latex(S)))"
   ],
   "id": "c476c1a57068962c",
   "outputs": [
    {
     "data": {
      "text/plain": [
       "<IPython.core.display.Math object>"
      ],
      "text/latex": "$\\displaystyle \\textrm{Khảo sát sự hội tụ hay phân kỳ của chuỗi số S =} \\sum_{n=1}^{\\infty} \\frac{2 n^{2} + 3 n + 5}{3 n^{2} + 8 n + 1}$"
     },
     "metadata": {},
     "output_type": "display_data"
    }
   ],
   "execution_count": 17
  },
  {
   "metadata": {
    "ExecuteTime": {
     "end_time": "2024-05-11T08:20:54.626692Z",
     "start_time": "2024-05-11T08:20:54.621233Z"
    }
   },
   "cell_type": "code",
   "source": [
    "k = Limit(f, n, _to)\n",
    "display(Math(\"\\\\textrm{Ta có: k = } %s=%s\" % (latex(k), latex(k.doit()))))"
   ],
   "id": "851374c57549901d",
   "outputs": [
    {
     "data": {
      "text/plain": [
       "<IPython.core.display.Math object>"
      ],
      "text/latex": "$\\displaystyle \\textrm{Ta có: k = } \\lim_{n \\to \\infty}\\left(\\frac{2 n^{2} + 3 n + 5}{3 n^{2} + 8 n + 1}\\right)=\\frac{2}{3}$"
     },
     "metadata": {},
     "output_type": "display_data"
    }
   ],
   "execution_count": 22
  },
  {
   "metadata": {
    "ExecuteTime": {
     "end_time": "2024-05-11T08:24:26.117449Z",
     "start_time": "2024-05-11T08:24:26.113681Z"
    }
   },
   "cell_type": "code",
   "source": [
    "if k.doit() == 0:\n",
    "    display(Math(\"\\\\textrm{Không thể khảo sát chuỗi S theo phương pháp này. Hải quay xe}\"))\n",
    "else:\n",
    "    display(Math(\"\\\\textrm{Vậy chuỗi S phân kỳ}\"))"
   ],
   "id": "f3c3971d3215dba3",
   "outputs": [
    {
     "data": {
      "text/plain": [
       "<IPython.core.display.Math object>"
      ],
      "text/latex": "$\\displaystyle \\textrm{Vậy chuỗi S phân kỳ}$"
     },
     "metadata": {},
     "output_type": "display_data"
    }
   ],
   "execution_count": 25
  }
 ],
 "metadata": {
  "kernelspec": {
   "display_name": "Python 3",
   "language": "python",
   "name": "python3"
  },
  "language_info": {
   "codemirror_mode": {
    "name": "ipython",
    "version": 2
   },
   "file_extension": ".py",
   "mimetype": "text/x-python",
   "name": "python",
   "nbconvert_exporter": "python",
   "pygments_lexer": "ipython2",
   "version": "2.7.6"
  }
 },
 "nbformat": 4,
 "nbformat_minor": 5
}
